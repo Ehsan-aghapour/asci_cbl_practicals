{
 "cells": [
  {
   "cell_type": "code",
   "execution_count": null,
   "id": "33c8d7a1",
   "metadata": {},
   "outputs": [],
   "source": [
    "# Specify the notebook name and output details\n",
    "notebook_name = \"your_notebook.ipynb\"  # Replace with your notebook name\n",
    "script_name = notebook_name.replace(\".ipynb\", \".py\")\n",
    "session_name = \"my_session_name\"\n",
    "log_file = \"my_session_log.txt\""
   ]
  },
  {
   "cell_type": "code",
   "execution_count": null,
   "id": "ff116ed6",
   "metadata": {},
   "outputs": [],
   "source": [
    "# Step 1: Convert .ipynb to .py\n",
    "print(\"Converting notebook to script...\")\n",
    "!jupyter nbconvert --to script {notebook_name}\n",
    "print(f\"Converted {notebook_name} to {script_name}\")"
   ]
  },
  {
   "cell_type": "code",
   "execution_count": null,
   "id": "d418fbca",
   "metadata": {},
   "outputs": [],
   "source": [
    "# Step 2: Run the script in a screen session\n",
    "print(f\"Starting script '{script_name}' in a screen session...\")\n",
    "!screen -dmS {session_name} bash -c \"python3 {script_name}; exec bash\"\n",
    "print(f\"Script is running in screen session '{session_name}'\")"
   ]
  },
  {
   "cell_type": "code",
   "execution_count": null,
   "id": "5d255247",
   "metadata": {},
   "outputs": [],
   "source": [
    "# Optional Step 3: Monitor the screen session\n",
    "print(f\"Saving screen output to log file '{log_file}'...\")\n",
    "!screen -S {session_name} -X hardcopy {log_file}\n",
    "print(f\"Screen session log saved to {log_file}\")"
   ]
  },
  {
   "cell_type": "code",
   "execution_count": null,
   "id": "60490431",
   "metadata": {
    "lines_to_next_cell": 2
   },
   "outputs": [],
   "source": [
    "# Optional Step 4: Stop the screen session (if needed)\n",
    "# Uncomment the following lines to stop the session\n",
    "!screen -S {session_name} -X quit\n",
    "# print(f\"Screen session '{session_name}' stopped\")"
   ]
  }
 ],
 "metadata": {
  "jupytext": {
   "cell_metadata_filter": "-all",
   "main_language": "python",
   "notebook_metadata_filter": "-all"
  }
 },
 "nbformat": 4,
 "nbformat_minor": 5
}
