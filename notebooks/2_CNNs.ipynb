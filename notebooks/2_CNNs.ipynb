{
  "cells": [
    {
      "cell_type": "markdown",
      "metadata": {
        "id": "KeHX-pIkJ-d3"
      },
      "source": [
        "# Practical 2: Convolutional Neural Networks\n",
        "\n",
        "**Open notebook:**\n",
        "[![View on Github](https://img.shields.io/static/v1.svg?logo=github&label=Repo&message=View%20On%20Github&color=lightgrey)](https://github.com/phlippe/asci_cbl_practicals/blob/main/notebooks/2_CNNs.ipynb)\n",
        "[![Open In Collab](https://colab.research.google.com/assets/colab-badge.svg)](https://colab.research.google.com/github/phlippe/asci_cbl_practicals/blob/main/notebooks/2_CNNs.ipynb)     \n",
        "**Authors:** Phillip Lippe"
      ]
    },
    {
      "cell_type": "markdown",
      "metadata": {
        "id": "9C_jXMz4J-d5"
      },
      "source": [
        "In this practical, we will implement variants of modern CNN architectures. There have been many different architectures been proposed over the past few years. Some of the most impactful ones, and still relevant today, are the following: [GoogleNet](https://arxiv.org/abs/1409.4842)/Inception architecture (winner of ILSVRC 2014), [ResNet](https://arxiv.org/abs/1512.03385) (winner of ILSVRC 2015), and [DenseNet](https://arxiv.org/abs/1608.06993) (best paper award CVPR 2017). All of them were state-of-the-art models when being proposed, and the core ideas of these networks are the foundations for most current state-of-the-art architectures. Thus, it is important to understand these architectures and learn how to implement some of them.\n",
        "\n",
        "Let's start with importing our standard libraries here."
      ]
    },
    {
      "cell_type": "code",
      "source": [
        "Colab_server=True\n",
        "if Colab_server:\n",
        "  from google.colab import drive\n",
        "  drive.mount('/content/drive',force_remount=True)"
      ],
      "metadata": {
        "id": "X9LTF3LCnDCk",
        "colab": {
          "base_uri": "https://localhost:8080/"
        },
        "outputId": "777c3c05-54c7-4f43-e479-dd89241d8f13"
      },
      "execution_count": 45,
      "outputs": [
        {
          "output_type": "stream",
          "name": "stdout",
          "text": [
            "Mounted at /content/drive\n"
          ]
        }
      ]
    },
    {
      "cell_type": "code",
      "source": [],
      "metadata": {
        "id": "glNhY5tzNORE",
        "outputId": "77dc8029-c27b-4cbd-a6ca-e61d05c737a3",
        "colab": {
          "base_uri": "https://localhost:8080/"
        }
      },
      "execution_count": 46,
      "outputs": [
        {
          "output_type": "execute_result",
          "data": {
            "text/plain": [
              "['practical2']"
            ]
          },
          "metadata": {},
          "execution_count": 46
        }
      ]
    },
    {
      "cell_type": "code",
      "execution_count": 18,
      "metadata": {
        "id": "R8afbMs_J-d5"
      },
      "outputs": [],
      "source": [
        "## Standard libraries\n",
        "import os\n",
        "import json\n",
        "import math\n",
        "import numpy as np\n",
        "import copy\n",
        "\n",
        "## Imports for plotting\n",
        "import matplotlib.pyplot as plt\n",
        "from matplotlib import cm\n",
        "%matplotlib inline\n",
        "import seaborn as sns\n",
        "sns.set()\n",
        "\n",
        "## Progress bar\n",
        "from tqdm.notebook import tqdm\n",
        "\n",
        "## PyTorch\n",
        "import torch\n",
        "import torch.nn as nn\n",
        "import torch.nn.functional as F\n",
        "import torch.utils.data as data\n",
        "import torch.optim as optim\n",
        "\n",
        "## PyTorch Torchvision\n",
        "import torchvision\n",
        "from torchvision.datasets import CIFAR10\n",
        "from torchvision import transforms"
      ]
    },
    {
      "cell_type": "markdown",
      "metadata": {
        "id": "oJNp8m9wJ-d6"
      },
      "source": [
        "We will use the same the path variables `DATASET_PATH` and `CHECKPOINT_PATH`. Adjust the paths if necessary."
      ]
    },
    {
      "cell_type": "code",
      "execution_count": 19,
      "metadata": {
        "id": "dqO7_oUNJ-d6",
        "outputId": "ce117061-32ad-48fa-fb88-06398397bd6f",
        "colab": {
          "base_uri": "https://localhost:8080/"
        }
      },
      "outputs": [
        {
          "output_type": "stream",
          "name": "stdout",
          "text": [
            "cuda:0\n"
          ]
        }
      ],
      "source": [
        "# Path to the folder where the datasets are/should be downloaded (e.g. CIFAR10)\n",
        "DATASET_PATH = \"/home/ehsan/data\"\n",
        "# Path to the folder where the pretrained models are saved\n",
        "CHECKPOINT_PATH = \"/home/ehsan/saved_models/practical2\"\n",
        "if Colab_server:\n",
        "  DATASET_PATH = \"../data\"\n",
        "  CHECKPOINT_PATH = \"/content/drive/MyDrive/saved_models/practical2\"\n",
        "  os.makedirs(CHECKPOINT_PATH, exist_ok=True)\n",
        "\n",
        "import os\n",
        "os.listdir(CHECKPOINT_PATH)\n",
        "\n",
        "# Ensure that all operations are deterministic on GPU (if used) for reproducibility\n",
        "torch.backends.cudnn.determinstic = True\n",
        "torch.backends.cudnn.benchmark = False\n",
        "\n",
        "device = torch.device(\"cuda:0\") if torch.cuda.is_available() else torch.device(\"cpu\")\n",
        "print(device)"
      ]
    },
    {
      "cell_type": "markdown",
      "metadata": {
        "id": "Owo1ieksJ-d6"
      },
      "source": [
        "Similarly as in the last practical, we use the CIFAR10 dataset and load it below:"
      ]
    },
    {
      "cell_type": "code",
      "execution_count": 20,
      "metadata": {
        "id": "bRBw_v06J-d6",
        "outputId": "77b2960a-428b-4bf4-e51d-3676ab61ff8f",
        "colab": {
          "base_uri": "https://localhost:8080/"
        }
      },
      "outputs": [
        {
          "output_type": "stream",
          "name": "stdout",
          "text": [
            "Files already downloaded and verified\n",
            "Files already downloaded and verified\n",
            "Files already downloaded and verified\n"
          ]
        }
      ],
      "source": [
        "# Dataset statistics for normalizing the input values to zero mean and one std\n",
        "DATA_MEANS = [0.491, 0.482, 0.447]\n",
        "DATA_STD = [0.247, 0.243, 0.261]\n",
        "\n",
        "test_transform = transforms.Compose([transforms.ToTensor(),\n",
        "                                     transforms.Normalize(DATA_MEANS, DATA_STD)\n",
        "                                     ])\n",
        "# For training, we add some augmentation. Networks are too powerful and would overfit.\n",
        "train_transform = transforms.Compose([transforms.RandomHorizontalFlip(),\n",
        "                                      transforms.RandomResizedCrop((32,32),scale=(0.8,1.0),ratio=(0.9,1.1)),\n",
        "                                      transforms.ToTensor(),\n",
        "                                      transforms.Normalize(DATA_MEANS, DATA_STD)\n",
        "                                     ])\n",
        "# Loading the training dataset. We need to split it into a training and validation part\n",
        "# We need to do a little trick because the validation set should not use the augmentation.\n",
        "train_dataset = CIFAR10(root=DATASET_PATH, train=True, transform=train_transform, download=True)\n",
        "val_dataset = CIFAR10(root=DATASET_PATH, train=True, transform=test_transform, download=True)\n",
        "train_set, _ = torch.utils.data.random_split(train_dataset, [45000, 5000], generator=torch.Generator().manual_seed(42))\n",
        "_, val_set = torch.utils.data.random_split(val_dataset, [45000, 5000], generator=torch.Generator().manual_seed(42))\n",
        "\n",
        "# Loading the test set\n",
        "test_set = CIFAR10(root=DATASET_PATH, train=False, transform=test_transform, download=True)\n",
        "\n",
        "# Create data loaders for later. Adjust batch size if you have a smaller GPU\n",
        "train_loader = data.DataLoader(train_set, batch_size=128, shuffle=True, drop_last=True, pin_memory=True, num_workers=2)\n",
        "val_loader = data.DataLoader(val_set, batch_size=128, shuffle=False, drop_last=False, num_workers=2)\n",
        "test_loader = data.DataLoader(test_set, batch_size=128, shuffle=False, drop_last=False, num_workers=2)"
      ]
    },
    {
      "cell_type": "markdown",
      "metadata": {
        "id": "weXAhC7zJ-d7"
      },
      "source": [
        "## PyTorch Lightning\n",
        "\n",
        "In this practical and in many following ones, we will make use of the library [PyTorch Lightning](https://www.pytorchlightning.ai/). PyTorch Lightning is a framework that simplifies your code needed to train, evaluate, and test a model in PyTorch. It also handles logging into [TensorBoard](https://pytorch.org/tutorials/intermediate/tensorboard_tutorial.html), a visualization toolkit for ML experiments, and saving model checkpoints automatically with minimal code overhead from our side. This is extremely helpful for us as we want to focus on implementing different model architectures and spend little time on other code overhead. Note that at the time of writing/teaching, the framework has been released in version 1.6. Future versions might have a slightly changed interface and thus might not work perfectly with the code (we will try to keep it up-to-date as much as possible).\n",
        "\n",
        "Now, we will take the first step in PyTorch Lightning, and continue to explore the framework in our other tutorials. First, we import the library:"
      ]
    },
    {
      "cell_type": "code",
      "execution_count": 21,
      "metadata": {
        "id": "xEREMHNxJ-d7"
      },
      "outputs": [],
      "source": [
        "# PyTorch Lightning\n",
        "try:\n",
        "    import pytorch_lightning as pl\n",
        "except ModuleNotFoundError: # Google Colab does not have PyTorch Lightning installed by default. Hence, we do it here if necessary\n",
        "    !pip install --quiet pytorch-lightning>=1.6\n",
        "    import pytorch_lightning as pl"
      ]
    },
    {
      "cell_type": "markdown",
      "metadata": {
        "id": "b1osRXTKJ-d8"
      },
      "source": [
        "PyTorch Lightning comes with a lot of useful functions, such as one for setting the seed:"
      ]
    },
    {
      "cell_type": "code",
      "execution_count": 22,
      "metadata": {
        "id": "4cSY9X6VJ-d8",
        "outputId": "9c031259-96e4-42fe-9802-841bcbe77327",
        "colab": {
          "base_uri": "https://localhost:8080/"
        }
      },
      "outputs": [
        {
          "output_type": "stream",
          "name": "stderr",
          "text": [
            "INFO:lightning_fabric.utilities.seed:Seed set to 42\n"
          ]
        },
        {
          "output_type": "execute_result",
          "data": {
            "text/plain": [
              "42"
            ]
          },
          "metadata": {},
          "execution_count": 22
        }
      ],
      "source": [
        "# Setting the seed\n",
        "pl.seed_everything(42)"
      ]
    },
    {
      "cell_type": "markdown",
      "metadata": {
        "id": "mzl0nT8HJ-d8"
      },
      "source": [
        "Thus, in the future, we don't have to define our own `set_seed` function anymore.\n",
        "\n",
        "In PyTorch Lightning, we define `pl.LightningModule`'s (inheriting from `torch.nn.Module`) that organize our code into 5 main sections:\n",
        "\n",
        "1. Initialization (`__init__`), where we create all necessary parameters/models\n",
        "2. Optimizers (`configure_optimizers`) where we create the optimizers, learning rate scheduler, etc.\n",
        "3. Training loop (`training_step`) where we only have to define the loss calculation for a single batch (the loop of optimizer.zero_grad(), loss.backward() and optimizer.step(), as well as any logging/saving operation, is done in the background)\n",
        "4. Validation loop (`validation_step`) where similarly to the training, we only have to define what should happen per step\n",
        "5. Test loop (`test_step`) which is the same as validation, only on a test set.\n",
        "\n",
        "Therefore, we don't abstract the PyTorch code, but rather organize it and define some default operations that are commonly used. If you need to change something else in your training/validation/test loop, there are many possible functions you can overwrite (see the [docs](https://pytorch-lightning.readthedocs.io/en/stable/lightning_module.html) for details).\n",
        "\n",
        "Now we can look at an example of how a Lightning Module for training a CNN looks like:"
      ]
    },
    {
      "cell_type": "code",
      "execution_count": 23,
      "metadata": {
        "id": "ET_9FW2mJ-d8"
      },
      "outputs": [],
      "source": [
        "class CIFARModule(pl.LightningModule):\n",
        "\n",
        "    def __init__(self, model_hparams, optimizer_hparams):\n",
        "        \"\"\"\n",
        "        Inputs:\n",
        "            model_hparams - Hyperparameters for the model, as dictionary.\n",
        "            optimizer_hparams - Hyperparameters for the optimizer, as dictionary. This includes learning rate, weight decay, etc.\n",
        "        \"\"\"\n",
        "        super().__init__()\n",
        "        # Exports the hyperparameters to a YAML file, and create \"self.hparams\" namespace\n",
        "        self.save_hyperparameters()\n",
        "        # Create model\n",
        "        self.create_model()\n",
        "        # Example input for visualizing the graph in Tensorboard\n",
        "        self.example_input_array = torch.zeros((1, 3, 32, 32), dtype=torch.float32)\n",
        "\n",
        "    def create_model(self):\n",
        "        # No need to fill this yet, we will do it later in the notebook\n",
        "        # Currently this function is a placeholder to create our model\n",
        "        raise NotImplementedError\n",
        "\n",
        "    def forward(self, imgs):\n",
        "        # Forward function that is run when visualizing the graph\n",
        "        return self.model(imgs)\n",
        "\n",
        "    def configure_optimizers(self):\n",
        "        # Create optimizer\n",
        "        optimizer = optim.SGD(self.parameters(), **self.hparams.optimizer_hparams)\n",
        "        # We will reduce the learning rate by 0.1 after 75 and 100 epochs\n",
        "        scheduler = optim.lr_scheduler.MultiStepLR(\n",
        "            optimizer, milestones=[70, 90], gamma=0.1)\n",
        "        return [optimizer], [scheduler]\n",
        "\n",
        "    def training_step(self, batch, batch_idx):\n",
        "        # \"batch\" is the output of the training data loader.\n",
        "        imgs, labels = batch\n",
        "        preds = self.model(imgs)\n",
        "        loss = F.cross_entropy(preds, labels)\n",
        "        acc = (preds.argmax(dim=-1) == labels).float().mean()\n",
        "\n",
        "        # Logs the accuracy per epoch to tensorboard (weighted average over batches)\n",
        "        self.log('train_acc', acc, on_step=False, on_epoch=True)\n",
        "        self.log('train_loss', loss)\n",
        "        return loss  # Return tensor to call \".backward\" on\n",
        "\n",
        "    def validation_step(self, batch, batch_idx):\n",
        "        imgs, labels = batch\n",
        "        preds = self.model(imgs).argmax(dim=-1)\n",
        "        acc = (labels == preds).float().mean()\n",
        "        # By default logs it per epoch (weighted average over batches)\n",
        "        self.log('val_acc', acc)\n",
        "\n",
        "    def test_step(self, batch, batch_idx):\n",
        "        imgs, labels = batch\n",
        "        preds = self.model(imgs).argmax(dim=-1)\n",
        "        acc = (labels == preds).float().mean()\n",
        "        # By default logs it per epoch (weighted average over batches), and returns it afterwards\n",
        "        self.log('test_acc', acc)\n",
        "\n",
        "class CIFARModule(pl.LightningModule):\n",
        "\n",
        "    def __init__(self, model_hparams, optimizer_hparams):\n",
        "        super().__init__()\n",
        "        self.save_hyperparameters()\n",
        "        self.create_model()\n",
        "        self.example_input_array = torch.zeros((1, 3, 32, 32), dtype=torch.float32)\n",
        "\n",
        "    def create_model(self):\n",
        "        self.model = ResNet(num_classes=self.hparams.model_hparams['num_classes'],\n",
        "                            num_blocks=self.hparams.model_hparams['num_blocks'],\n",
        "                            c_hidden=self.hparams.model_hparams['c_hidden'])\n",
        "\n",
        "    def forward(self, imgs):\n",
        "        return self.model(imgs)\n",
        "\n",
        "    def configure_optimizers(self):\n",
        "        optimizer = optim.SGD(self.parameters(), **self.hparams.optimizer_hparams)\n",
        "        scheduler = optim.lr_scheduler.MultiStepLR(optimizer, milestones=[70, 90], gamma=0.1)\n",
        "        return [optimizer], [scheduler]\n",
        "\n",
        "    def training_step(self, batch, batch_idx):\n",
        "        imgs, labels = batch\n",
        "        preds = self.model(imgs)\n",
        "        loss = F.cross_entropy(preds, labels)\n",
        "        acc = (preds.argmax(dim=-1) == labels).float().mean()\n",
        "\n",
        "        # Log the training loss and accuracy per batch\n",
        "        self.log('train_loss', loss, on_step=True, on_epoch=True, prog_bar=True, logger=True)\n",
        "        self.log('train_acc', acc, on_step=True, on_epoch=True, prog_bar=True, logger=True)\n",
        "        return loss\n",
        "\n",
        "    def validation_step(self, batch, batch_idx):\n",
        "        imgs, labels = batch\n",
        "        preds = self.model(imgs).argmax(dim=-1)\n",
        "        acc = (labels == preds).float().mean()\n",
        "        self.log('val_acc', acc, on_step=False, on_epoch=True, prog_bar=True, logger=True)\n",
        "\n",
        "    def test_step(self, batch, batch_idx):\n",
        "        imgs, labels = batch\n",
        "        preds = self.model(imgs).argmax(dim=-1)\n",
        "        acc = (labels == preds).float().mean()\n",
        "        self.log('test_acc', acc, on_step=False, on_epoch=True, prog_bar=True, logger=True)\n"
      ]
    },
    {
      "cell_type": "markdown",
      "metadata": {
        "id": "nygqoKVzJ-d9"
      },
      "source": [
        "We see that the code is organized and clear, which helps if someone else tries to understand your code.\n",
        "\n",
        "Another important part of PyTorch Lightning is the concept of callbacks. Callbacks are self-contained functions that contain the non-essential logic of your Lightning Module. They are usually called after finishing a training epoch, but can also influence other parts of your training loop. For instance, we will use the following two pre-defined callbacks: `LearningRateMonitor` and `ModelCheckpoint`. The learning rate monitor adds the current learning rate to our TensorBoard, which helps to verify that our learning rate scheduler works correctly. The model checkpoint callback allows you to customize the saving routine of your checkpoints. For instance, how many checkpoints to keep, when to save, which metric to look out for, etc. We import them below:"
      ]
    },
    {
      "cell_type": "code",
      "execution_count": 24,
      "metadata": {
        "id": "kW-t6RO-J-d9"
      },
      "outputs": [],
      "source": [
        "# Callbacks\n",
        "from pytorch_lightning.callbacks import LearningRateMonitor, ModelCheckpoint,Callback\n",
        "\n",
        "# Custom callback for periodic test accuracy logging\n",
        "class PeriodicTestAccuracyLogger(Callback):\n",
        "    def __init__(self, test_loader, print_freq=5):\n",
        "        super().__init__()\n",
        "        self.test_loader = test_loader\n",
        "        self.print_freq = print_freq\n",
        "\n",
        "    def on_epoch_end(self, trainer, pl_module):\n",
        "        if trainer.current_epoch % self.print_freq == 0:\n",
        "            test_results = trainer.test(dataloaders=self.test_loader, verbose=False)\n",
        "            test_acc = test_results[0]['test_acc']\n",
        "            print(f\"Epoch {trainer.current_epoch}: Test Accuracy = {test_acc:.4f}\")\n"
      ]
    },
    {
      "cell_type": "markdown",
      "metadata": {
        "id": "uYd1fH_OJ-d9"
      },
      "source": [
        "Besides the Lightning module, the second most important module in PyTorch Lightning is the `Trainer`. The trainer is responsible to execute the training steps defined in the Lightning module and completes the framework. Similar to the Lightning module, you can override any key part that you don't want to be automated, but the default settings are often the best practice to do. For a full overview, see the [documentation](https://pytorch-lightning.readthedocs.io/en/stable/trainer.html). The most important functions we use below are:\n",
        "\n",
        "* `trainer.fit`: Takes as input a lightning module, a training dataset, and an (optional) validation dataset. This function trains the given module on the training dataset with occasional validation (default once per epoch, can be changed)\n",
        "* `trainer.test`: Takes as input a model and a dataset on which we want to test. It returns the test metric on the dataset.\n",
        "\n",
        "For training and testing, we don't have to worry about things like setting the model to eval mode (`model.eval()`) as this is all done automatically. See below how we define a training function for our models:"
      ]
    },
    {
      "cell_type": "code",
      "execution_count": 25,
      "metadata": {
        "id": "gKvJh_D_J-d9"
      },
      "outputs": [],
      "source": [
        "from pytorch_lightning.loggers import CSVLogger\n",
        "# Define the CSV logger\n",
        "#logger = CSVLogger(save_dir=CHECKPOINT_PATH, name=\"ResNet_logs\")\n",
        "def train_model_0(save_name, data_loaders, max_epochs=100, **kwargs):\n",
        "    \"\"\"\n",
        "    Inputs:\n",
        "        model_name - Name of the model you want to run. Is used to look up the class in \"model_dict\"\n",
        "        save_name (optional) - If specified, this name will be used for creating the checkpoint and logging directory.\n",
        "    \"\"\"\n",
        "\n",
        "\n",
        "\n",
        "    # Create a PyTorch Lightning trainer with the generation callback\n",
        "    trainer = pl.Trainer(default_root_dir=os.path.join(CHECKPOINT_PATH, save_name),                          # Where to save models\n",
        "                        #  gpus=1 if str(device)==\"cuda:0\" else 0,                                             # We run on a single GPU (if possible)\n",
        "                        accelerator=\"auto\",\n",
        "                         max_epochs=max_epochs,                                                              # How many epochs to train for if no patience is set\n",
        "                         callbacks=[ModelCheckpoint(save_weights_only=True, mode=\"max\", monitor=\"val_acc\"),  # Save the best checkpoint based on the maximum val_acc recorded. Saves only weights and not optimizer\n",
        "                                    LearningRateMonitor(\"epoch\")],                                           # Log learning rate every epoch\n",
        "                         check_val_every_n_epoch=10)                                                        # Frequency with which we evaluate the model\n",
        "    trainer.logger._log_graph = True         # If True, we plot the computation graph in tensorboard\n",
        "    trainer.logger._default_hp_metric = None # Optional logging argument that we don't need\n",
        "\n",
        "    # Check whether pretrained model exists. If yes, load it and skip training\n",
        "    pretrained_filename = os.path.join(CHECKPOINT_PATH, save_name + \".ckpt\")\n",
        "    if os.path.isfile(pretrained_filename):\n",
        "        print(f\"Found pretrained model at {pretrained_filename}, loading...\")\n",
        "        model = CIFARModule.load_from_checkpoint(pretrained_filename) # Automatically loads the model with the saved hyperparameters\n",
        "    else:\n",
        "        pl.seed_everything(42) # To be reproducable\n",
        "        model = CIFARModule(**kwargs)\n",
        "        trainer.fit(model, data_loaders['train'], data_loaders['val'])\n",
        "        model = CIFARModule.load_from_checkpoint(trainer.checkpoint_callback.best_model_path) # Load best checkpoint after training\n",
        "\n",
        "    # Test best model on validation and test set\n",
        "    val_result = trainer.test(model, data_loaders['val'], verbose=False)\n",
        "    test_result = trainer.test(model, data_loaders['test'], verbose=False)\n",
        "    result = {\"test\": test_result[0][\"test_acc\"], \"val\": val_result[0][\"test_acc\"]}\n",
        "\n",
        "    return model, result\n",
        "\n",
        "\n",
        "def train_model(save_name, data_loaders, max_epochs=100, **kwargs):\n",
        "\n",
        "    pretrained_filename = os.path.join(CHECKPOINT_PATH, save_name + \".ckpt\")\n",
        "\n",
        "    # Check for a pretrained model\n",
        "    '''if os.path.isfile(pretrained_filename):\n",
        "        print(f\"Found pretrained model at {pretrained_filename}, loading...\")\n",
        "        model = CIFARModule.load_from_checkpoint(pretrained_filename)\n",
        "        # Test the best model\n",
        "        trainer_test = pl.Trainer(\n",
        "            logger=False,              # Disable logger\n",
        "            enable_checkpointing=False # Disable checkpoints\n",
        "        )\n",
        "        val_result = trainer_test.test(model, data_loaders['val'], verbose=False)\n",
        "        test_result = trainer_test.test(model, data_loaders['test'], verbose=False)\n",
        "        result = {\"test\": test_result[0][\"test_acc\"], \"val\": val_result[0][\"test_acc\"]}\n",
        "        print(f'model existed in {pretrained_filename} with result of {result}')\n",
        "        x=input('continue?\\n')\n",
        "        if x!='Y':\n",
        "            return model,result'''\n",
        "\n",
        "\n",
        "\n",
        "    # ModelCheckpoint for saving the latest checkpoint\n",
        "    checkpoint_callback = ModelCheckpoint(\n",
        "        dirpath=CHECKPOINT_PATH,\n",
        "        filename=f\"{save_name}\",\n",
        "        save_top_k=1,  # Only keep the best model\n",
        "        monitor=\"val_acc\",\n",
        "        mode=\"max\",\n",
        "        save_weights_only=False,  # Save optimizer and scheduler states\n",
        "    )\n",
        "\n",
        "    # LearningRateMonitor callback\n",
        "    lr_monitor = LearningRateMonitor(logging_interval=\"epoch\")\n",
        "\n",
        "    # Custom test accuracy logger\n",
        "    test_logger = PeriodicTestAccuracyLogger(test_loader=data_loaders['test'], print_freq=5)\n",
        "\n",
        "    # Trainer setup\n",
        "    trainer = pl.Trainer(\n",
        "        gradient_clip_val=1.0,\n",
        "        default_root_dir=os.path.join(CHECKPOINT_PATH, save_name),\n",
        "        accelerator=\"auto\",\n",
        "        max_epochs=max_epochs,\n",
        "        callbacks=[checkpoint_callback, lr_monitor, test_logger],\n",
        "        check_val_every_n_epoch=1,\n",
        "        #logger=logger,\n",
        "    )\n",
        "\n",
        "    trainer.logger._log_graph = True\n",
        "    print(f'trainer log dir:{trainer.logger.log_dir}')\n",
        "\n",
        "    if os.path.isfile(pretrained_filename):\n",
        "        print(f\"Found pretrained model at {pretrained_filename}, loading...\")\n",
        "        model = CIFARModule.load_from_checkpoint(pretrained_filename)\n",
        "        # Test the best model\n",
        "        trainer.logger=None\n",
        "        val_result = trainer.test(model, data_loaders['val'], verbose=False)\n",
        "        test_result = trainer.test(model, data_loaders['test'], verbose=False)\n",
        "        result = {\"test\": test_result[0][\"test_acc\"], \"val\": val_result[0][\"test_acc\"]}\n",
        "        print(f'model existed in {pretrained_filename} with result of {result}')\n",
        "        x=input('continue?\\n')\n",
        "        if x!='Y':\n",
        "            return model,result\n",
        "    if not os.path.isfile(pretrained_filename):\n",
        "    #else:\n",
        "        print(f'model do not existed in {pretrained_filename}')\n",
        "        pl.seed_everything(42)\n",
        "        model = CIFARModule(**kwargs)\n",
        "        trainer.fit(model, data_loaders['train'], data_loaders['val'])\n",
        "\n",
        "    # Load the best model checkpoint for testing\n",
        "    best_model_path = checkpoint_callback.best_model_path\n",
        "    print(f\"loading model from checkpoint {best_model_path}\")\n",
        "    model = CIFARModule.load_from_checkpoint(best_model_path)\n",
        "\n",
        "    # Test the best model\n",
        "    val_result = trainer.test(model, data_loaders['val'], verbose=False)\n",
        "    test_result = trainer.test(model, data_loaders['test'], verbose=False)\n",
        "    result = {\"test\": test_result[0][\"test_acc\"], \"val\": val_result[0][\"test_acc\"]}\n",
        "\n",
        "    return model, result"
      ]
    },
    {
      "cell_type": "markdown",
      "metadata": {
        "id": "j_kjLmuoJ-d9"
      },
      "source": [
        "This setup simplifies our training a lot, and we recommend using PyTorch Lightning for future practicals as well."
      ]
    },
    {
      "cell_type": "markdown",
      "metadata": {
        "id": "XQguw4aQJ-d-"
      },
      "source": [
        "## Part 1: ResNet\n",
        "\n",
        "In the first part of the practical, you will implement a small ResNet. The [ResNet](https://arxiv.org/abs/1512.03385) paper is one of the  [most cited AI papers](https://www.natureindex.com/news-blog/google-scholar-reveals-most-influential-papers-research-citations-twenty-twenty), and has been the foundation for neural networks with more than 1,000 layers. Despite its simplicity, the idea of residual connections is highly effective as it supports stable gradient propagation through the network. Instead of modeling $x_{l+1}=F(x_{l})$, we model $x_{l+1}=x_{l}+F(x_{l})$ where $F$ is a non-linear mapping (usually a sequence of NN modules likes convolutions, activation functions, and normalizations). If we do backpropagation on such residual connections, we obtain:\n",
        "\n",
        "$$\\frac{\\partial x_{l+1}}{\\partial x_{l}} = \\mathbf{I} + \\frac{\\partial F(x_{l})}{\\partial x_{l}}$$\n",
        "\n",
        "The bias towards the identity matrix guarantees a stable gradient propagation being less effected by $F$ itself. There have been many variants of ResNet proposed, which mostly concern the function $F$, or operations applied on the sum. In this tutorial, we look at two of them: the original ResNet block, and the [Pre-Activation ResNet block](https://arxiv.org/abs/1603.05027). We visually compare the blocks below (figure credit - [He et al.](https://arxiv.org/abs/1603.05027)):\n",
        "\n",
        "<center width=\"100%\"><img src=\"https://github.com/Ehsan-aghapour/asci_cbl_practicals/blob/main/notebooks/figures/resnet_block.svg?raw=1\" style=\"display: block; margin-left: auto; margin-right: auto;\" width=\"300px\"/></center>\n",
        "\n",
        "The original ResNet block applies a non-linear activation function, usually ReLU, after the skip connection. In contrast, the pre-activation ResNet block applies the non-linearity at the beginning of $F$. Both have their advantages and disadvantages. For very deep network, however, the pre-activation ResNet has shown to perform better as the gradient flow is guaranteed to have the identity matrix as calculated above, and is not harmed by any non-linear activation applied to it. For comparison, in this notebook, we implement both ResNet types as shallow networks.\n",
        "\n",
        "For this practical, we will use the Pre-Activation ResNet block. The visualization above already shows what layers are included in $F$. One special case we have to handle is when we want to reduce the image dimensions in terms of width and height. The ResNet block requires $F(x_{l})$ to be of the same shape as $x_{l}$. Thus, we need to change the dimensionality of $x_{l}$ as well before adding to $F(x_{l})$. The original implementation used an identity mapping with stride 2 and padded additional feature dimensions with 0. However, the more common implementation is to use a 1x1 convolution with stride 2 as it allows us to change the feature dimensionality while being efficient in parameter and computation cost. Let's try to implement the ResNet block below:"
      ]
    },
    {
      "cell_type": "code",
      "execution_count": 26,
      "metadata": {
        "id": "cD-w1nN9J-d-"
      },
      "outputs": [],
      "source": [
        "class PreActResNetBlock(nn.Module):\n",
        "\n",
        "      def __init__(self, c_in, subsample=False, c_out=-1):\n",
        "          \"\"\"\n",
        "          Inputs:\n",
        "              c_in - Number of input features\n",
        "              subsample - If True, we want to apply a stride inside the block and reduce the output shape by 2 in height and width\n",
        "              c_out - Number of output features. Note that this is only relevant if subsample is True, as otherwise, c_out = c_in\n",
        "          \"\"\"\n",
        "          super().__init__()\n",
        "      #     # TODO: Implement the network of the pre-activation ResNet block\n",
        "      #     raise NotImplementedError\n",
        "\n",
        "      # def forward(self, x):\n",
        "      #     # TODO: Implement the forward pass of the Pre-Activation ResNet block\n",
        "      #     raise NotImplementedError\n",
        "\n",
        "          if subsample:\n",
        "              self.stride = 2\n",
        "              self.c_out = c_out if c_out > 0 else c_in\n",
        "          else:\n",
        "              self.stride = 1\n",
        "              self.c_out = c_in\n",
        "\n",
        "          # First normalization and activation (pre-activation)\n",
        "          self.bn1 = nn.BatchNorm2d(c_in)\n",
        "          self.relu1 = nn.ReLU(inplace=True)\n",
        "\n",
        "          # First convolution\n",
        "          self.conv1 = nn.Conv2d(c_in, self.c_out, kernel_size=3, stride=self.stride, padding=1, bias=False)\n",
        "\n",
        "          # Second normalization and activation (pre-activation)\n",
        "          self.bn2 = nn.BatchNorm2d(self.c_out)\n",
        "          self.relu2 = nn.ReLU(inplace=True)\n",
        "\n",
        "          # Second convolution\n",
        "          self.conv2 = nn.Conv2d(self.c_out, self.c_out, kernel_size=3, stride=1, padding=1, bias=False)\n",
        "\n",
        "          # Shortcut (identity or 1x1 convolution)\n",
        "          if subsample or c_in != self.c_out:\n",
        "              self.shortcut = nn.Conv2d(c_in, self.c_out, kernel_size=1, stride=self.stride, bias=False)\n",
        "          else:\n",
        "              self.shortcut = nn.Identity()\n",
        "\n",
        "      def forward(self, x):\n",
        "          # Save the shortcut connection\n",
        "          shortcut = self.shortcut(x)\n",
        "\n",
        "          # first BN -> ReLU -> Conv\n",
        "          out = self.bn1(x)\n",
        "          out = self.relu1(out)\n",
        "          out = self.conv1(out)\n",
        "\n",
        "          # second BN -> ReLU -> Conv\n",
        "          out = self.bn2(out)\n",
        "          out = self.relu2(out)\n",
        "          out = self.conv2(out)\n",
        "\n",
        "          # Add the shortcut\n",
        "          out += shortcut\n",
        "\n",
        "          return out\n",
        "\n"
      ]
    },
    {
      "cell_type": "code",
      "execution_count": 27,
      "metadata": {
        "id": "L91LyDuoJ-d-"
      },
      "outputs": [],
      "source": [
        "# Testing the ResNet block\n",
        "c_in = np.random.randint(low=16, high=64)\n",
        "module = PreActResNetBlock(c_in=c_in, subsample=False)\n",
        "module.to(device)\n",
        "img = torch.randn(4, c_in, 32, 32, device=device)\n",
        "out = module(img)\n",
        "for i in range(len(img.shape)):\n",
        "    assert out.shape[i] == img.shape[i], f'Disagreement in shapes: output={out.shape}, input={img.shape}'\n",
        "\n",
        "c_out = np.random.randint(low=16, high=64)\n",
        "module = PreActResNetBlock(c_in=c_in, subsample=True, c_out=c_out)\n",
        "module.to(device)\n",
        "img = torch.randn(4, c_in, 32, 32, device=device)\n",
        "out = module(img)\n",
        "assert out.shape[1] == c_out\n",
        "assert out.shape[2] == img.shape[2]//2\n",
        "assert out.shape[3] == img.shape[3]//2"
      ]
    },
    {
      "cell_type": "markdown",
      "metadata": {
        "id": "cqWlURylJ-d-"
      },
      "source": [
        "Now that we have the ResNet block, let's implement the full ResNet. The overall ResNet architecture consists of stacking multiple ResNet blocks, of which some are downsampling the input. When talking about ResNet blocks in the whole network, we usually group them by the same output shape. Hence, if we say the ResNet has `[3,3,3]` blocks, it means that we have 3 times a group of 3 ResNet blocks, where a subsampling is taking place in the fourth and seventh block. The ResNet with `[3,3,3]` blocks on CIFAR10 is visualized below.\n",
        "\n",
        "<center width=\"100%\"><img src=\"https://github.com/Ehsan-aghapour/asci_cbl_practicals/blob/main/notebooks/figures/resnet_notation.svg?raw=1\" width=\"500px\"></center>\n",
        "\n",
        "The three groups operate on the resolutions $32\\times32$, $16\\times16$ and $8\\times8$ respectively. The blocks in orange denote ResNet blocks with downsampling. Additionally to these blocks, we have one initial convolution that maps the 3 color channels to the initial hidden channels, and a final linear layer after an average pooling over all features. Let's implement it below:"
      ]
    },
    {
      "cell_type": "code",
      "execution_count": 28,
      "metadata": {
        "id": "PkXZ8sGYJ-d-"
      },
      "outputs": [],
      "source": [
        "class ResNet(nn.Module):\n",
        "\n",
        "    def __init__(self, num_classes=10, num_blocks=[3,3,3], c_hidden=[16,24,32]):\n",
        "        \"\"\"\n",
        "        Inputs:\n",
        "            num_classes - Number of classification outputs (10 for CIFAR10)\n",
        "            num_blocks - List with the number of ResNet blocks to use. The first block of each group uses downsampling, except the first.\n",
        "            c_hidden - List with the hidden dimensionalities in the different blocks.\n",
        "        \"\"\"\n",
        "        super().__init__()\n",
        "        self.num_classes = num_classes\n",
        "        self.num_blocks = num_blocks\n",
        "        self.c_hidden = c_hidden\n",
        "        self._create_network()\n",
        "        self._init_params()\n",
        "\n",
        "    def _create_network(self):\n",
        "        # TODO: Create network with stacking blocks\n",
        "        # raise NotImplementedError\n",
        "        layers = []\n",
        "\n",
        "        # Initial convolution\n",
        "        layers.append(nn.Conv2d(3, self.c_hidden[0], kernel_size=3, stride=1, padding=1, bias=False))\n",
        "        layers.append(nn.BatchNorm2d(self.c_hidden[0]))\n",
        "        layers.append(nn.ReLU(inplace=True))\n",
        "\n",
        "        # ResNet blocks\n",
        "        c_in = self.c_hidden[0]\n",
        "        for idx, num_block in enumerate(self.num_blocks):\n",
        "            c_out = self.c_hidden[idx]\n",
        "            for block_idx in range(num_block):\n",
        "                subsample = block_idx == 0 and idx > 0  # Subsample for the first block of each group except the first\n",
        "                layers.append(PreActResNetBlock(c_in, subsample=subsample, c_out=c_out))\n",
        "                c_in = c_out\n",
        "\n",
        "        # Global average pooling and final linear layer\n",
        "        layers.append(nn.AdaptiveAvgPool2d(1))  # Global average pooling\n",
        "        layers.append(nn.Flatten())\n",
        "        layers.append(nn.Linear(self.c_hidden[-1], self.num_classes))\n",
        "\n",
        "        self.network = nn.Sequential(*layers)\n",
        "\n",
        "    def _init_params(self):\n",
        "        # Fan-out focuses on the gradient distribution, and is commonly used in ResNets\n",
        "        for m in self.modules():\n",
        "            if isinstance(m, nn.Conv2d):\n",
        "                nn.init.kaiming_normal_(m.weight, mode='fan_out', nonlinearity='relu')\n",
        "            elif isinstance(m, nn.BatchNorm2d):\n",
        "                nn.init.constant_(m.weight, 1)\n",
        "                nn.init.constant_(m.bias, 0)\n",
        "\n",
        "    def forward(self, x):\n",
        "        # TODO: Implement forward of ResNet\n",
        "         return self.network(x)"
      ]
    },
    {
      "cell_type": "code",
      "execution_count": 29,
      "metadata": {
        "id": "-e0c_oG7J-d_"
      },
      "outputs": [],
      "source": [
        "# Testing the ResNet\n",
        "num_classes = np.random.randint(low=5, high=20)\n",
        "model = ResNet(num_classes=num_classes)\n",
        "model.to(device)\n",
        "img = torch.randn(4, 3, 32, 32, device=device)\n",
        "out = model(img)\n",
        "assert len(out.shape) == 2\n",
        "assert out.shape[0] == img.shape[0]\n",
        "assert out.shape[1] == num_classes"
      ]
    },
    {
      "cell_type": "markdown",
      "metadata": {
        "id": "D0eEOCXjJ-d_"
      },
      "source": [
        "Now that we have all together, let's train the model. First, we need to define the `create_model` function in the `CIFARModule`:"
      ]
    },
    {
      "cell_type": "code",
      "execution_count": 30,
      "metadata": {
        "id": "kEWH9cKIJ-d_"
      },
      "outputs": [],
      "source": [
        "def create_resnet(self):\n",
        "    self.model = ResNet(num_classes=self.hparams.model_hparams['num_classes'],\n",
        "                        num_blocks=self.hparams.model_hparams['num_blocks'],\n",
        "                        c_hidden=self.hparams.model_hparams['c_hidden'])\n",
        "\n",
        "CIFARModule.create_model = create_resnet"
      ]
    },
    {
      "cell_type": "markdown",
      "metadata": {
        "id": "gF7EuHLvJ-d_"
      },
      "source": [
        "We call the training function below to start the training. We provide default parameters that should allow you to quickly train the model, but feel free to optimize the hyperparameters. For a final run in your report, please use 100 epochs."
      ]
    },
    {
      "cell_type": "code",
      "execution_count": 31,
      "metadata": {
        "id": "crF1Z9FCJ-d_",
        "outputId": "fbabb47b-019c-474c-aad8-58a88a345978",
        "colab": {
          "base_uri": "https://localhost:8080/",
          "height": 857,
          "referenced_widgets": [
            "205244ccb4034117b4ed27c487a4eeba",
            "1398ad08dd6d434a955bbc5670ad1324",
            "66b2a1f55fc14ce893a8df65652fc0ed",
            "438added79b2476d8b61207560c2e801",
            "08dda9c466904dbca0dffa7ac025a925",
            "c0f2d3b5986642b9a0d175d44fa854ef",
            "6d75bb29e2374a5dad132a28416877c8",
            "921886ce928a4d279d79eff01d076cdd",
            "dd9d62d093e7428fa2f12a79272b6277",
            "1d65b61faaa6464f9acf896fa3d5215b",
            "12b107ef60fc4487b001f3e7a3bbae98",
            "69948953a16248d2993ed0178e91015b",
            "6a58bf47c7084c3a8787f5080a5eb913",
            "789dbcdeaab444039f0b3ccec5cfecf4",
            "6451cf5bb84a4e39b03391236d72faea",
            "50178879fedb47bb842610ffb8cd4148",
            "f08e7b86c01348d895dd553c246253b8",
            "1e5f2c5bdb7247288a8f3dc7fb1634f1",
            "d85d7ac02e47403f9d94023b2c3e7fd2",
            "9377b2996aab4304980323e3ad44b50c",
            "14c7213d2a724a0b8545a77ed4f6ae28",
            "4d087ee7d1e14c6e9b2c824b27b81901",
            "81f459f4bdf242b48fa5cd7ef43a95f2",
            "063c59ff6df74353a8554e6781182016",
            "f4e1b4162d654ea6a93d310e6368d060",
            "b7e7aac3b5414e5692808d7b1767ff71",
            "fe31994f20374d85a3b3da4e909b35f1",
            "4bde669454c846aca83d4c9361ff50d0",
            "3afa570508384959b5abd6e592a7bc67",
            "34f1adec7299415483bd55544411c561",
            "e90875c1f118468db767d337bb515b78",
            "cf0783211fc7456883f4fd99503ac9ab",
            "9b1f7fec616b40879c70fdd6cbbb7c71"
          ]
        }
      },
      "outputs": [
        {
          "output_type": "stream",
          "name": "stderr",
          "text": [
            "INFO:pytorch_lightning.utilities.rank_zero:GPU available: True (cuda), used: True\n",
            "INFO:pytorch_lightning.utilities.rank_zero:TPU available: False, using: 0 TPU cores\n",
            "INFO:pytorch_lightning.utilities.rank_zero:HPU available: False, using: 0 HPUs\n",
            "INFO:lightning_fabric.utilities.seed:Seed set to 42\n",
            "/usr/local/lib/python3.10/dist-packages/pytorch_lightning/callbacks/model_checkpoint.py:654: Checkpoint directory /content/drive/MyDrive/saved_models/practical2 exists and is not empty.\n",
            "INFO:pytorch_lightning.accelerators.cuda:LOCAL_RANK: 0 - CUDA_VISIBLE_DEVICES: [0]\n",
            "INFO:pytorch_lightning.callbacks.model_summary:\n",
            "  | Name  | Type   | Params | Mode  | In sizes       | Out sizes\n",
            "----------------------------------------------------------------------\n",
            "0 | model | ResNet | 83.8 K | train | [1, 3, 32, 32] | [1, 10]  \n",
            "----------------------------------------------------------------------\n",
            "83.8 K    Trainable params\n",
            "0         Non-trainable params\n",
            "83.8 K    Total params\n",
            "0.335     Total estimated model params size (MB)\n",
            "64        Modules in train mode\n",
            "0         Modules in eval mode\n"
          ]
        },
        {
          "output_type": "stream",
          "name": "stdout",
          "text": [
            "trainer log dir:/content/drive/MyDrive/saved_models/practical2/ResNet/lightning_logs/version_0\n",
            "model do not existed in /content/drive/MyDrive/saved_models/practical2/ResNet.ckpt\n"
          ]
        },
        {
          "output_type": "display_data",
          "data": {
            "text/plain": [
              "Sanity Checking: |          | 0/? [00:00<?, ?it/s]"
            ],
            "application/vnd.jupyter.widget-view+json": {
              "version_major": 2,
              "version_minor": 0,
              "model_id": "205244ccb4034117b4ed27c487a4eeba"
            }
          },
          "metadata": {}
        },
        {
          "output_type": "display_data",
          "data": {
            "text/plain": [
              "Training: |          | 0/? [00:00<?, ?it/s]"
            ],
            "application/vnd.jupyter.widget-view+json": {
              "version_major": 2,
              "version_minor": 0,
              "model_id": "69948953a16248d2993ed0178e91015b"
            }
          },
          "metadata": {}
        },
        {
          "output_type": "display_data",
          "data": {
            "text/plain": [
              "Validation: |          | 0/? [00:00<?, ?it/s]"
            ],
            "application/vnd.jupyter.widget-view+json": {
              "version_major": 2,
              "version_minor": 0,
              "model_id": "81f459f4bdf242b48fa5cd7ef43a95f2"
            }
          },
          "metadata": {}
        },
        {
          "output_type": "stream",
          "name": "stderr",
          "text": [
            "INFO:pytorch_lightning.utilities.rank_zero:\n",
            "Detected KeyboardInterrupt, attempting graceful shutdown ...\n"
          ]
        },
        {
          "output_type": "error",
          "ename": "NameError",
          "evalue": "name 'exit' is not defined",
          "traceback": [
            "\u001b[0;31m---------------------------------------------------------------------------\u001b[0m",
            "\u001b[0;31mKeyboardInterrupt\u001b[0m                         Traceback (most recent call last)",
            "\u001b[0;32m/usr/local/lib/python3.10/dist-packages/pytorch_lightning/trainer/call.py\u001b[0m in \u001b[0;36m_call_and_handle_interrupt\u001b[0;34m(trainer, trainer_fn, *args, **kwargs)\u001b[0m\n\u001b[1;32m     46\u001b[0m             \u001b[0;32mreturn\u001b[0m \u001b[0mtrainer\u001b[0m\u001b[0;34m.\u001b[0m\u001b[0mstrategy\u001b[0m\u001b[0;34m.\u001b[0m\u001b[0mlauncher\u001b[0m\u001b[0;34m.\u001b[0m\u001b[0mlaunch\u001b[0m\u001b[0;34m(\u001b[0m\u001b[0mtrainer_fn\u001b[0m\u001b[0;34m,\u001b[0m \u001b[0;34m*\u001b[0m\u001b[0margs\u001b[0m\u001b[0;34m,\u001b[0m \u001b[0mtrainer\u001b[0m\u001b[0;34m=\u001b[0m\u001b[0mtrainer\u001b[0m\u001b[0;34m,\u001b[0m \u001b[0;34m**\u001b[0m\u001b[0mkwargs\u001b[0m\u001b[0;34m)\u001b[0m\u001b[0;34m\u001b[0m\u001b[0;34m\u001b[0m\u001b[0m\n\u001b[0;32m---> 47\u001b[0;31m         \u001b[0;32mreturn\u001b[0m \u001b[0mtrainer_fn\u001b[0m\u001b[0;34m(\u001b[0m\u001b[0;34m*\u001b[0m\u001b[0margs\u001b[0m\u001b[0;34m,\u001b[0m \u001b[0;34m**\u001b[0m\u001b[0mkwargs\u001b[0m\u001b[0;34m)\u001b[0m\u001b[0;34m\u001b[0m\u001b[0;34m\u001b[0m\u001b[0m\n\u001b[0m\u001b[1;32m     48\u001b[0m \u001b[0;34m\u001b[0m\u001b[0m\n",
            "\u001b[0;32m/usr/local/lib/python3.10/dist-packages/pytorch_lightning/trainer/trainer.py\u001b[0m in \u001b[0;36m_fit_impl\u001b[0;34m(self, model, train_dataloaders, val_dataloaders, datamodule, ckpt_path)\u001b[0m\n\u001b[1;32m    574\u001b[0m         )\n\u001b[0;32m--> 575\u001b[0;31m         \u001b[0mself\u001b[0m\u001b[0;34m.\u001b[0m\u001b[0m_run\u001b[0m\u001b[0;34m(\u001b[0m\u001b[0mmodel\u001b[0m\u001b[0;34m,\u001b[0m \u001b[0mckpt_path\u001b[0m\u001b[0;34m=\u001b[0m\u001b[0mckpt_path\u001b[0m\u001b[0;34m)\u001b[0m\u001b[0;34m\u001b[0m\u001b[0;34m\u001b[0m\u001b[0m\n\u001b[0m\u001b[1;32m    576\u001b[0m \u001b[0;34m\u001b[0m\u001b[0m\n",
            "\u001b[0;32m/usr/local/lib/python3.10/dist-packages/pytorch_lightning/trainer/trainer.py\u001b[0m in \u001b[0;36m_run\u001b[0;34m(self, model, ckpt_path)\u001b[0m\n\u001b[1;32m    981\u001b[0m         \u001b[0;31m# ----------------------------\u001b[0m\u001b[0;34m\u001b[0m\u001b[0;34m\u001b[0m\u001b[0m\n\u001b[0;32m--> 982\u001b[0;31m         \u001b[0mresults\u001b[0m \u001b[0;34m=\u001b[0m \u001b[0mself\u001b[0m\u001b[0;34m.\u001b[0m\u001b[0m_run_stage\u001b[0m\u001b[0;34m(\u001b[0m\u001b[0;34m)\u001b[0m\u001b[0;34m\u001b[0m\u001b[0;34m\u001b[0m\u001b[0m\n\u001b[0m\u001b[1;32m    983\u001b[0m \u001b[0;34m\u001b[0m\u001b[0m\n",
            "\u001b[0;32m/usr/local/lib/python3.10/dist-packages/pytorch_lightning/trainer/trainer.py\u001b[0m in \u001b[0;36m_run_stage\u001b[0;34m(self)\u001b[0m\n\u001b[1;32m   1025\u001b[0m             \u001b[0;32mwith\u001b[0m \u001b[0mtorch\u001b[0m\u001b[0;34m.\u001b[0m\u001b[0mautograd\u001b[0m\u001b[0;34m.\u001b[0m\u001b[0mset_detect_anomaly\u001b[0m\u001b[0;34m(\u001b[0m\u001b[0mself\u001b[0m\u001b[0;34m.\u001b[0m\u001b[0m_detect_anomaly\u001b[0m\u001b[0;34m)\u001b[0m\u001b[0;34m:\u001b[0m\u001b[0;34m\u001b[0m\u001b[0;34m\u001b[0m\u001b[0m\n\u001b[0;32m-> 1026\u001b[0;31m                 \u001b[0mself\u001b[0m\u001b[0;34m.\u001b[0m\u001b[0mfit_loop\u001b[0m\u001b[0;34m.\u001b[0m\u001b[0mrun\u001b[0m\u001b[0;34m(\u001b[0m\u001b[0;34m)\u001b[0m\u001b[0;34m\u001b[0m\u001b[0;34m\u001b[0m\u001b[0m\n\u001b[0m\u001b[1;32m   1027\u001b[0m             \u001b[0;32mreturn\u001b[0m \u001b[0;32mNone\u001b[0m\u001b[0;34m\u001b[0m\u001b[0;34m\u001b[0m\u001b[0m\n",
            "\u001b[0;32m/usr/local/lib/python3.10/dist-packages/pytorch_lightning/loops/fit_loop.py\u001b[0m in \u001b[0;36mrun\u001b[0;34m(self)\u001b[0m\n\u001b[1;32m    215\u001b[0m                 \u001b[0mself\u001b[0m\u001b[0;34m.\u001b[0m\u001b[0mon_advance_start\u001b[0m\u001b[0;34m(\u001b[0m\u001b[0;34m)\u001b[0m\u001b[0;34m\u001b[0m\u001b[0;34m\u001b[0m\u001b[0m\n\u001b[0;32m--> 216\u001b[0;31m                 \u001b[0mself\u001b[0m\u001b[0;34m.\u001b[0m\u001b[0madvance\u001b[0m\u001b[0;34m(\u001b[0m\u001b[0;34m)\u001b[0m\u001b[0;34m\u001b[0m\u001b[0;34m\u001b[0m\u001b[0m\n\u001b[0m\u001b[1;32m    217\u001b[0m                 \u001b[0mself\u001b[0m\u001b[0;34m.\u001b[0m\u001b[0mon_advance_end\u001b[0m\u001b[0;34m(\u001b[0m\u001b[0;34m)\u001b[0m\u001b[0;34m\u001b[0m\u001b[0;34m\u001b[0m\u001b[0m\n",
            "\u001b[0;32m/usr/local/lib/python3.10/dist-packages/pytorch_lightning/loops/fit_loop.py\u001b[0m in \u001b[0;36madvance\u001b[0;34m(self)\u001b[0m\n\u001b[1;32m    454\u001b[0m             \u001b[0;32massert\u001b[0m \u001b[0mself\u001b[0m\u001b[0;34m.\u001b[0m\u001b[0m_data_fetcher\u001b[0m \u001b[0;32mis\u001b[0m \u001b[0;32mnot\u001b[0m \u001b[0;32mNone\u001b[0m\u001b[0;34m\u001b[0m\u001b[0;34m\u001b[0m\u001b[0m\n\u001b[0;32m--> 455\u001b[0;31m             \u001b[0mself\u001b[0m\u001b[0;34m.\u001b[0m\u001b[0mepoch_loop\u001b[0m\u001b[0;34m.\u001b[0m\u001b[0mrun\u001b[0m\u001b[0;34m(\u001b[0m\u001b[0mself\u001b[0m\u001b[0;34m.\u001b[0m\u001b[0m_data_fetcher\u001b[0m\u001b[0;34m)\u001b[0m\u001b[0;34m\u001b[0m\u001b[0;34m\u001b[0m\u001b[0m\n\u001b[0m\u001b[1;32m    456\u001b[0m \u001b[0;34m\u001b[0m\u001b[0m\n",
            "\u001b[0;32m/usr/local/lib/python3.10/dist-packages/pytorch_lightning/loops/training_epoch_loop.py\u001b[0m in \u001b[0;36mrun\u001b[0;34m(self, data_fetcher)\u001b[0m\n\u001b[1;32m    149\u001b[0m             \u001b[0;32mtry\u001b[0m\u001b[0;34m:\u001b[0m\u001b[0;34m\u001b[0m\u001b[0;34m\u001b[0m\u001b[0m\n\u001b[0;32m--> 150\u001b[0;31m                 \u001b[0mself\u001b[0m\u001b[0;34m.\u001b[0m\u001b[0madvance\u001b[0m\u001b[0;34m(\u001b[0m\u001b[0mdata_fetcher\u001b[0m\u001b[0;34m)\u001b[0m\u001b[0;34m\u001b[0m\u001b[0;34m\u001b[0m\u001b[0m\n\u001b[0m\u001b[1;32m    151\u001b[0m                 \u001b[0mself\u001b[0m\u001b[0;34m.\u001b[0m\u001b[0mon_advance_end\u001b[0m\u001b[0;34m(\u001b[0m\u001b[0mdata_fetcher\u001b[0m\u001b[0;34m)\u001b[0m\u001b[0;34m\u001b[0m\u001b[0;34m\u001b[0m\u001b[0m\n",
            "\u001b[0;32m/usr/local/lib/python3.10/dist-packages/pytorch_lightning/loops/training_epoch_loop.py\u001b[0m in \u001b[0;36madvance\u001b[0;34m(self, data_fetcher)\u001b[0m\n\u001b[1;32m    281\u001b[0m             \u001b[0mdataloader_iter\u001b[0m \u001b[0;34m=\u001b[0m \u001b[0;32mNone\u001b[0m\u001b[0;34m\u001b[0m\u001b[0;34m\u001b[0m\u001b[0m\n\u001b[0;32m--> 282\u001b[0;31m             \u001b[0mbatch\u001b[0m\u001b[0;34m,\u001b[0m \u001b[0m_\u001b[0m\u001b[0;34m,\u001b[0m \u001b[0m__\u001b[0m \u001b[0;34m=\u001b[0m \u001b[0mnext\u001b[0m\u001b[0;34m(\u001b[0m\u001b[0mdata_fetcher\u001b[0m\u001b[0;34m)\u001b[0m\u001b[0;34m\u001b[0m\u001b[0;34m\u001b[0m\u001b[0m\n\u001b[0m\u001b[1;32m    283\u001b[0m             \u001b[0;31m# TODO: we should instead use the batch_idx returned by the fetcher, however, that will require saving the\u001b[0m\u001b[0;34m\u001b[0m\u001b[0;34m\u001b[0m\u001b[0m\n",
            "\u001b[0;32m/usr/local/lib/python3.10/dist-packages/pytorch_lightning/loops/fetchers.py\u001b[0m in \u001b[0;36m__next__\u001b[0;34m(self)\u001b[0m\n\u001b[1;32m    133\u001b[0m             \u001b[0;31m# this will run only when no pre-fetching was done.\u001b[0m\u001b[0;34m\u001b[0m\u001b[0;34m\u001b[0m\u001b[0m\n\u001b[0;32m--> 134\u001b[0;31m             \u001b[0mbatch\u001b[0m \u001b[0;34m=\u001b[0m \u001b[0msuper\u001b[0m\u001b[0;34m(\u001b[0m\u001b[0;34m)\u001b[0m\u001b[0;34m.\u001b[0m\u001b[0m__next__\u001b[0m\u001b[0;34m(\u001b[0m\u001b[0;34m)\u001b[0m\u001b[0;34m\u001b[0m\u001b[0;34m\u001b[0m\u001b[0m\n\u001b[0m\u001b[1;32m    135\u001b[0m         \u001b[0;32melse\u001b[0m\u001b[0;34m:\u001b[0m\u001b[0;34m\u001b[0m\u001b[0;34m\u001b[0m\u001b[0m\n",
            "\u001b[0;32m/usr/local/lib/python3.10/dist-packages/pytorch_lightning/loops/fetchers.py\u001b[0m in \u001b[0;36m__next__\u001b[0;34m(self)\u001b[0m\n\u001b[1;32m     60\u001b[0m         \u001b[0;32mtry\u001b[0m\u001b[0;34m:\u001b[0m\u001b[0;34m\u001b[0m\u001b[0;34m\u001b[0m\u001b[0m\n\u001b[0;32m---> 61\u001b[0;31m             \u001b[0mbatch\u001b[0m \u001b[0;34m=\u001b[0m \u001b[0mnext\u001b[0m\u001b[0;34m(\u001b[0m\u001b[0mself\u001b[0m\u001b[0;34m.\u001b[0m\u001b[0miterator\u001b[0m\u001b[0;34m)\u001b[0m\u001b[0;34m\u001b[0m\u001b[0;34m\u001b[0m\u001b[0m\n\u001b[0m\u001b[1;32m     62\u001b[0m         \u001b[0;32mexcept\u001b[0m \u001b[0mStopIteration\u001b[0m\u001b[0;34m:\u001b[0m\u001b[0;34m\u001b[0m\u001b[0;34m\u001b[0m\u001b[0m\n",
            "\u001b[0;32m/usr/local/lib/python3.10/dist-packages/pytorch_lightning/utilities/combined_loader.py\u001b[0m in \u001b[0;36m__next__\u001b[0;34m(self)\u001b[0m\n\u001b[1;32m    340\u001b[0m         \u001b[0;32massert\u001b[0m \u001b[0mself\u001b[0m\u001b[0;34m.\u001b[0m\u001b[0m_iterator\u001b[0m \u001b[0;32mis\u001b[0m \u001b[0;32mnot\u001b[0m \u001b[0;32mNone\u001b[0m\u001b[0;34m\u001b[0m\u001b[0;34m\u001b[0m\u001b[0m\n\u001b[0;32m--> 341\u001b[0;31m         \u001b[0mout\u001b[0m \u001b[0;34m=\u001b[0m \u001b[0mnext\u001b[0m\u001b[0;34m(\u001b[0m\u001b[0mself\u001b[0m\u001b[0;34m.\u001b[0m\u001b[0m_iterator\u001b[0m\u001b[0;34m)\u001b[0m\u001b[0;34m\u001b[0m\u001b[0;34m\u001b[0m\u001b[0m\n\u001b[0m\u001b[1;32m    342\u001b[0m         \u001b[0;32mif\u001b[0m \u001b[0misinstance\u001b[0m\u001b[0;34m(\u001b[0m\u001b[0mself\u001b[0m\u001b[0;34m.\u001b[0m\u001b[0m_iterator\u001b[0m\u001b[0;34m,\u001b[0m \u001b[0m_Sequential\u001b[0m\u001b[0;34m)\u001b[0m\u001b[0;34m:\u001b[0m\u001b[0;34m\u001b[0m\u001b[0;34m\u001b[0m\u001b[0m\n",
            "\u001b[0;32m/usr/local/lib/python3.10/dist-packages/pytorch_lightning/utilities/combined_loader.py\u001b[0m in \u001b[0;36m__next__\u001b[0;34m(self)\u001b[0m\n\u001b[1;32m     77\u001b[0m             \u001b[0;32mtry\u001b[0m\u001b[0;34m:\u001b[0m\u001b[0;34m\u001b[0m\u001b[0;34m\u001b[0m\u001b[0m\n\u001b[0;32m---> 78\u001b[0;31m                 \u001b[0mout\u001b[0m\u001b[0;34m[\u001b[0m\u001b[0mi\u001b[0m\u001b[0;34m]\u001b[0m \u001b[0;34m=\u001b[0m \u001b[0mnext\u001b[0m\u001b[0;34m(\u001b[0m\u001b[0mself\u001b[0m\u001b[0;34m.\u001b[0m\u001b[0miterators\u001b[0m\u001b[0;34m[\u001b[0m\u001b[0mi\u001b[0m\u001b[0;34m]\u001b[0m\u001b[0;34m)\u001b[0m\u001b[0;34m\u001b[0m\u001b[0;34m\u001b[0m\u001b[0m\n\u001b[0m\u001b[1;32m     79\u001b[0m             \u001b[0;32mexcept\u001b[0m \u001b[0mStopIteration\u001b[0m\u001b[0;34m:\u001b[0m\u001b[0;34m\u001b[0m\u001b[0;34m\u001b[0m\u001b[0m\n",
            "\u001b[0;32m/usr/local/lib/python3.10/dist-packages/torch/utils/data/dataloader.py\u001b[0m in \u001b[0;36m__next__\u001b[0;34m(self)\u001b[0m\n\u001b[1;32m    700\u001b[0m                 \u001b[0mself\u001b[0m\u001b[0;34m.\u001b[0m\u001b[0m_reset\u001b[0m\u001b[0;34m(\u001b[0m\u001b[0;34m)\u001b[0m  \u001b[0;31m# type: ignore[call-arg]\u001b[0m\u001b[0;34m\u001b[0m\u001b[0;34m\u001b[0m\u001b[0m\n\u001b[0;32m--> 701\u001b[0;31m             \u001b[0mdata\u001b[0m \u001b[0;34m=\u001b[0m \u001b[0mself\u001b[0m\u001b[0;34m.\u001b[0m\u001b[0m_next_data\u001b[0m\u001b[0;34m(\u001b[0m\u001b[0;34m)\u001b[0m\u001b[0;34m\u001b[0m\u001b[0;34m\u001b[0m\u001b[0m\n\u001b[0m\u001b[1;32m    702\u001b[0m             \u001b[0mself\u001b[0m\u001b[0;34m.\u001b[0m\u001b[0m_num_yielded\u001b[0m \u001b[0;34m+=\u001b[0m \u001b[0;36m1\u001b[0m\u001b[0;34m\u001b[0m\u001b[0;34m\u001b[0m\u001b[0m\n",
            "\u001b[0;32m/usr/local/lib/python3.10/dist-packages/torch/utils/data/dataloader.py\u001b[0m in \u001b[0;36m_next_data\u001b[0;34m(self)\u001b[0m\n\u001b[1;32m   1447\u001b[0m             \u001b[0;32massert\u001b[0m \u001b[0;32mnot\u001b[0m \u001b[0mself\u001b[0m\u001b[0;34m.\u001b[0m\u001b[0m_shutdown\u001b[0m \u001b[0;32mand\u001b[0m \u001b[0mself\u001b[0m\u001b[0;34m.\u001b[0m\u001b[0m_tasks_outstanding\u001b[0m \u001b[0;34m>\u001b[0m \u001b[0;36m0\u001b[0m\u001b[0;34m\u001b[0m\u001b[0;34m\u001b[0m\u001b[0m\n\u001b[0;32m-> 1448\u001b[0;31m             \u001b[0midx\u001b[0m\u001b[0;34m,\u001b[0m \u001b[0mdata\u001b[0m \u001b[0;34m=\u001b[0m \u001b[0mself\u001b[0m\u001b[0;34m.\u001b[0m\u001b[0m_get_data\u001b[0m\u001b[0;34m(\u001b[0m\u001b[0;34m)\u001b[0m\u001b[0;34m\u001b[0m\u001b[0;34m\u001b[0m\u001b[0m\n\u001b[0m\u001b[1;32m   1449\u001b[0m             \u001b[0mself\u001b[0m\u001b[0;34m.\u001b[0m\u001b[0m_tasks_outstanding\u001b[0m \u001b[0;34m-=\u001b[0m \u001b[0;36m1\u001b[0m\u001b[0;34m\u001b[0m\u001b[0;34m\u001b[0m\u001b[0m\n",
            "\u001b[0;32m/usr/local/lib/python3.10/dist-packages/torch/utils/data/dataloader.py\u001b[0m in \u001b[0;36m_get_data\u001b[0;34m(self)\u001b[0m\n\u001b[1;32m   1401\u001b[0m             \u001b[0;32mwhile\u001b[0m \u001b[0mself\u001b[0m\u001b[0;34m.\u001b[0m\u001b[0m_pin_memory_thread\u001b[0m\u001b[0;34m.\u001b[0m\u001b[0mis_alive\u001b[0m\u001b[0;34m(\u001b[0m\u001b[0;34m)\u001b[0m\u001b[0;34m:\u001b[0m\u001b[0;34m\u001b[0m\u001b[0;34m\u001b[0m\u001b[0m\n\u001b[0;32m-> 1402\u001b[0;31m                 \u001b[0msuccess\u001b[0m\u001b[0;34m,\u001b[0m \u001b[0mdata\u001b[0m \u001b[0;34m=\u001b[0m \u001b[0mself\u001b[0m\u001b[0;34m.\u001b[0m\u001b[0m_try_get_data\u001b[0m\u001b[0;34m(\u001b[0m\u001b[0;34m)\u001b[0m\u001b[0;34m\u001b[0m\u001b[0;34m\u001b[0m\u001b[0m\n\u001b[0m\u001b[1;32m   1403\u001b[0m                 \u001b[0;32mif\u001b[0m \u001b[0msuccess\u001b[0m\u001b[0;34m:\u001b[0m\u001b[0;34m\u001b[0m\u001b[0;34m\u001b[0m\u001b[0m\n",
            "\u001b[0;32m/usr/local/lib/python3.10/dist-packages/torch/utils/data/dataloader.py\u001b[0m in \u001b[0;36m_try_get_data\u001b[0;34m(self, timeout)\u001b[0m\n\u001b[1;32m   1242\u001b[0m         \u001b[0;32mtry\u001b[0m\u001b[0;34m:\u001b[0m\u001b[0;34m\u001b[0m\u001b[0;34m\u001b[0m\u001b[0m\n\u001b[0;32m-> 1243\u001b[0;31m             \u001b[0mdata\u001b[0m \u001b[0;34m=\u001b[0m \u001b[0mself\u001b[0m\u001b[0;34m.\u001b[0m\u001b[0m_data_queue\u001b[0m\u001b[0;34m.\u001b[0m\u001b[0mget\u001b[0m\u001b[0;34m(\u001b[0m\u001b[0mtimeout\u001b[0m\u001b[0;34m=\u001b[0m\u001b[0mtimeout\u001b[0m\u001b[0;34m)\u001b[0m\u001b[0;34m\u001b[0m\u001b[0;34m\u001b[0m\u001b[0m\n\u001b[0m\u001b[1;32m   1244\u001b[0m             \u001b[0;32mreturn\u001b[0m \u001b[0;34m(\u001b[0m\u001b[0;32mTrue\u001b[0m\u001b[0;34m,\u001b[0m \u001b[0mdata\u001b[0m\u001b[0;34m)\u001b[0m\u001b[0;34m\u001b[0m\u001b[0;34m\u001b[0m\u001b[0m\n",
            "\u001b[0;32m/usr/lib/python3.10/queue.py\u001b[0m in \u001b[0;36mget\u001b[0;34m(self, block, timeout)\u001b[0m\n\u001b[1;32m    179\u001b[0m                         \u001b[0;32mraise\u001b[0m \u001b[0mEmpty\u001b[0m\u001b[0;34m\u001b[0m\u001b[0;34m\u001b[0m\u001b[0m\n\u001b[0;32m--> 180\u001b[0;31m                     \u001b[0mself\u001b[0m\u001b[0;34m.\u001b[0m\u001b[0mnot_empty\u001b[0m\u001b[0;34m.\u001b[0m\u001b[0mwait\u001b[0m\u001b[0;34m(\u001b[0m\u001b[0mremaining\u001b[0m\u001b[0;34m)\u001b[0m\u001b[0;34m\u001b[0m\u001b[0;34m\u001b[0m\u001b[0m\n\u001b[0m\u001b[1;32m    181\u001b[0m             \u001b[0mitem\u001b[0m \u001b[0;34m=\u001b[0m \u001b[0mself\u001b[0m\u001b[0;34m.\u001b[0m\u001b[0m_get\u001b[0m\u001b[0;34m(\u001b[0m\u001b[0;34m)\u001b[0m\u001b[0;34m\u001b[0m\u001b[0;34m\u001b[0m\u001b[0m\n",
            "\u001b[0;32m/usr/lib/python3.10/threading.py\u001b[0m in \u001b[0;36mwait\u001b[0;34m(self, timeout)\u001b[0m\n\u001b[1;32m    323\u001b[0m                 \u001b[0;32mif\u001b[0m \u001b[0mtimeout\u001b[0m \u001b[0;34m>\u001b[0m \u001b[0;36m0\u001b[0m\u001b[0;34m:\u001b[0m\u001b[0;34m\u001b[0m\u001b[0;34m\u001b[0m\u001b[0m\n\u001b[0;32m--> 324\u001b[0;31m                     \u001b[0mgotit\u001b[0m \u001b[0;34m=\u001b[0m \u001b[0mwaiter\u001b[0m\u001b[0;34m.\u001b[0m\u001b[0macquire\u001b[0m\u001b[0;34m(\u001b[0m\u001b[0;32mTrue\u001b[0m\u001b[0;34m,\u001b[0m \u001b[0mtimeout\u001b[0m\u001b[0;34m)\u001b[0m\u001b[0;34m\u001b[0m\u001b[0;34m\u001b[0m\u001b[0m\n\u001b[0m\u001b[1;32m    325\u001b[0m                 \u001b[0;32melse\u001b[0m\u001b[0;34m:\u001b[0m\u001b[0;34m\u001b[0m\u001b[0;34m\u001b[0m\u001b[0m\n",
            "\u001b[0;31mKeyboardInterrupt\u001b[0m: ",
            "\nDuring handling of the above exception, another exception occurred:\n",
            "\u001b[0;31mNameError\u001b[0m                                 Traceback (most recent call last)",
            "\u001b[0;32m<ipython-input-31-80239ea4045d>\u001b[0m in \u001b[0;36m<cell line: 1>\u001b[0;34m()\u001b[0m\n\u001b[0;32m----> 1\u001b[0;31m resnet_model, resnet_results = train_model(\n\u001b[0m\u001b[1;32m      2\u001b[0m     \u001b[0msave_name\u001b[0m\u001b[0;34m=\u001b[0m\u001b[0;34m'ResNet'\u001b[0m\u001b[0;34m,\u001b[0m\u001b[0;34m\u001b[0m\u001b[0;34m\u001b[0m\u001b[0m\n\u001b[1;32m      3\u001b[0m     \u001b[0mmax_epochs\u001b[0m\u001b[0;34m=\u001b[0m\u001b[0;36m100\u001b[0m\u001b[0;34m,\u001b[0m\u001b[0;34m\u001b[0m\u001b[0;34m\u001b[0m\u001b[0m\n\u001b[1;32m      4\u001b[0m     \u001b[0mmodel_hparams\u001b[0m\u001b[0;34m=\u001b[0m\u001b[0;34m{\u001b[0m\u001b[0;34m\"num_classes\"\u001b[0m\u001b[0;34m:\u001b[0m \u001b[0;36m10\u001b[0m\u001b[0;34m,\u001b[0m \u001b[0;34m\"c_hidden\"\u001b[0m\u001b[0;34m:\u001b[0m \u001b[0;34m[\u001b[0m\u001b[0;36m16\u001b[0m\u001b[0;34m,\u001b[0m \u001b[0;36m24\u001b[0m\u001b[0;34m,\u001b[0m \u001b[0;36m32\u001b[0m\u001b[0;34m]\u001b[0m\u001b[0;34m,\u001b[0m \u001b[0;34m\"num_blocks\"\u001b[0m\u001b[0;34m:\u001b[0m \u001b[0;34m[\u001b[0m\u001b[0;36m2\u001b[0m\u001b[0;34m,\u001b[0m \u001b[0;36m2\u001b[0m\u001b[0;34m,\u001b[0m \u001b[0;36m3\u001b[0m\u001b[0;34m]\u001b[0m\u001b[0;34m}\u001b[0m\u001b[0;34m,\u001b[0m\u001b[0;34m\u001b[0m\u001b[0;34m\u001b[0m\u001b[0m\n\u001b[1;32m      5\u001b[0m     \u001b[0moptimizer_hparams\u001b[0m\u001b[0;34m=\u001b[0m\u001b[0;34m{\u001b[0m\u001b[0;34m\"lr\"\u001b[0m\u001b[0;34m:\u001b[0m \u001b[0;36m0.01\u001b[0m\u001b[0;34m,\u001b[0m \u001b[0;34m\"momentum\"\u001b[0m\u001b[0;34m:\u001b[0m \u001b[0;36m0.9\u001b[0m\u001b[0;34m,\u001b[0m \u001b[0;34m\"weight_decay\"\u001b[0m\u001b[0;34m:\u001b[0m \u001b[0;36m1e-4\u001b[0m\u001b[0;34m}\u001b[0m\u001b[0;34m,\u001b[0m\u001b[0;34m\u001b[0m\u001b[0;34m\u001b[0m\u001b[0m\n",
            "\u001b[0;32m<ipython-input-25-90a856973045>\u001b[0m in \u001b[0;36mtrain_model\u001b[0;34m(save_name, data_loaders, max_epochs, **kwargs)\u001b[0m\n\u001b[1;32m    111\u001b[0m         \u001b[0mpl\u001b[0m\u001b[0;34m.\u001b[0m\u001b[0mseed_everything\u001b[0m\u001b[0;34m(\u001b[0m\u001b[0;36m42\u001b[0m\u001b[0;34m)\u001b[0m\u001b[0;34m\u001b[0m\u001b[0;34m\u001b[0m\u001b[0m\n\u001b[1;32m    112\u001b[0m         \u001b[0mmodel\u001b[0m \u001b[0;34m=\u001b[0m \u001b[0mCIFARModule\u001b[0m\u001b[0;34m(\u001b[0m\u001b[0;34m**\u001b[0m\u001b[0mkwargs\u001b[0m\u001b[0;34m)\u001b[0m\u001b[0;34m\u001b[0m\u001b[0;34m\u001b[0m\u001b[0m\n\u001b[0;32m--> 113\u001b[0;31m         \u001b[0mtrainer\u001b[0m\u001b[0;34m.\u001b[0m\u001b[0mfit\u001b[0m\u001b[0;34m(\u001b[0m\u001b[0mmodel\u001b[0m\u001b[0;34m,\u001b[0m \u001b[0mdata_loaders\u001b[0m\u001b[0;34m[\u001b[0m\u001b[0;34m'train'\u001b[0m\u001b[0;34m]\u001b[0m\u001b[0;34m,\u001b[0m \u001b[0mdata_loaders\u001b[0m\u001b[0;34m[\u001b[0m\u001b[0;34m'val'\u001b[0m\u001b[0;34m]\u001b[0m\u001b[0;34m)\u001b[0m\u001b[0;34m\u001b[0m\u001b[0;34m\u001b[0m\u001b[0m\n\u001b[0m\u001b[1;32m    114\u001b[0m \u001b[0;34m\u001b[0m\u001b[0m\n\u001b[1;32m    115\u001b[0m     \u001b[0;31m# Load the best model checkpoint for testing\u001b[0m\u001b[0;34m\u001b[0m\u001b[0;34m\u001b[0m\u001b[0m\n",
            "\u001b[0;32m/usr/local/lib/python3.10/dist-packages/pytorch_lightning/trainer/trainer.py\u001b[0m in \u001b[0;36mfit\u001b[0;34m(self, model, train_dataloaders, val_dataloaders, datamodule, ckpt_path)\u001b[0m\n\u001b[1;32m    537\u001b[0m         \u001b[0mself\u001b[0m\u001b[0;34m.\u001b[0m\u001b[0mstate\u001b[0m\u001b[0;34m.\u001b[0m\u001b[0mstatus\u001b[0m \u001b[0;34m=\u001b[0m \u001b[0mTrainerStatus\u001b[0m\u001b[0;34m.\u001b[0m\u001b[0mRUNNING\u001b[0m\u001b[0;34m\u001b[0m\u001b[0;34m\u001b[0m\u001b[0m\n\u001b[1;32m    538\u001b[0m         \u001b[0mself\u001b[0m\u001b[0;34m.\u001b[0m\u001b[0mtraining\u001b[0m \u001b[0;34m=\u001b[0m \u001b[0;32mTrue\u001b[0m\u001b[0;34m\u001b[0m\u001b[0;34m\u001b[0m\u001b[0m\n\u001b[0;32m--> 539\u001b[0;31m         call._call_and_handle_interrupt(\n\u001b[0m\u001b[1;32m    540\u001b[0m             \u001b[0mself\u001b[0m\u001b[0;34m,\u001b[0m \u001b[0mself\u001b[0m\u001b[0;34m.\u001b[0m\u001b[0m_fit_impl\u001b[0m\u001b[0;34m,\u001b[0m \u001b[0mmodel\u001b[0m\u001b[0;34m,\u001b[0m \u001b[0mtrain_dataloaders\u001b[0m\u001b[0;34m,\u001b[0m \u001b[0mval_dataloaders\u001b[0m\u001b[0;34m,\u001b[0m \u001b[0mdatamodule\u001b[0m\u001b[0;34m,\u001b[0m \u001b[0mckpt_path\u001b[0m\u001b[0;34m\u001b[0m\u001b[0;34m\u001b[0m\u001b[0m\n\u001b[1;32m    541\u001b[0m         )\n",
            "\u001b[0;32m/usr/local/lib/python3.10/dist-packages/pytorch_lightning/trainer/call.py\u001b[0m in \u001b[0;36m_call_and_handle_interrupt\u001b[0;34m(trainer, trainer_fn, *args, **kwargs)\u001b[0m\n\u001b[1;32m     62\u001b[0m         \u001b[0;32mif\u001b[0m \u001b[0misinstance\u001b[0m\u001b[0;34m(\u001b[0m\u001b[0mlauncher\u001b[0m\u001b[0;34m,\u001b[0m \u001b[0m_SubprocessScriptLauncher\u001b[0m\u001b[0;34m)\u001b[0m\u001b[0;34m:\u001b[0m\u001b[0;34m\u001b[0m\u001b[0;34m\u001b[0m\u001b[0m\n\u001b[1;32m     63\u001b[0m             \u001b[0mlauncher\u001b[0m\u001b[0;34m.\u001b[0m\u001b[0mkill\u001b[0m\u001b[0;34m(\u001b[0m\u001b[0m_get_sigkill_signal\u001b[0m\u001b[0;34m(\u001b[0m\u001b[0;34m)\u001b[0m\u001b[0;34m)\u001b[0m\u001b[0;34m\u001b[0m\u001b[0;34m\u001b[0m\u001b[0m\n\u001b[0;32m---> 64\u001b[0;31m         \u001b[0mexit\u001b[0m\u001b[0;34m(\u001b[0m\u001b[0;36m1\u001b[0m\u001b[0;34m)\u001b[0m\u001b[0;34m\u001b[0m\u001b[0;34m\u001b[0m\u001b[0m\n\u001b[0m\u001b[1;32m     65\u001b[0m \u001b[0;34m\u001b[0m\u001b[0m\n\u001b[1;32m     66\u001b[0m     \u001b[0;32mexcept\u001b[0m \u001b[0mBaseException\u001b[0m \u001b[0;32mas\u001b[0m \u001b[0mexception\u001b[0m\u001b[0;34m:\u001b[0m\u001b[0;34m\u001b[0m\u001b[0;34m\u001b[0m\u001b[0m\n",
            "\u001b[0;31mNameError\u001b[0m: name 'exit' is not defined"
          ]
        }
      ],
      "source": [
        "resnet_model, resnet_results = train_model(\n",
        "    save_name='ResNet',\n",
        "    max_epochs=100,\n",
        "    model_hparams={\"num_classes\": 10, \"c_hidden\": [16, 24, 32], \"num_blocks\": [2, 2, 3]},\n",
        "    optimizer_hparams={\"lr\": 0.01, \"momentum\": 0.9, \"weight_decay\": 1e-4},\n",
        "    data_loaders={\"train\": train_loader, \"val\": val_loader, \"test\": test_loader},\n",
        ")"
      ]
    },
    {
      "cell_type": "code",
      "execution_count": null,
      "metadata": {
        "id": "LZ38w4knJ-d_"
      },
      "outputs": [],
      "source": [
        "print(resnet_results)"
      ]
    },
    {
      "cell_type": "markdown",
      "metadata": {
        "id": "KQ-tDMW1J-eA"
      },
      "source": [
        "Instead of just seeing the test result, it is recommended to also take a look at the TensorBoard log:"
      ]
    },
    {
      "cell_type": "code",
      "execution_count": null,
      "metadata": {
        "id": "fRpFaQvfJ-eA"
      },
      "outputs": [],
      "source": [
        "d=\"/home/ehsan/saved_models/practical2\"\n",
        "!kill -9 27434\n",
        "%load_ext tensorboard\n",
        "%tensorboard --logdir /home/ehsan/saved_models/practical2 --verbosity 1"
      ]
    },
    {
      "cell_type": "code",
      "source": [
        "!which tensorboard"
      ],
      "metadata": {
        "id": "Xd9m-5jPWA1n"
      },
      "execution_count": null,
      "outputs": []
    },
    {
      "cell_type": "code",
      "source": [
        "import os\n",
        "os.environ['TENSORBOARD_BINARY'] = '/home/ehsan/.local/bin/tensorboard'"
      ],
      "metadata": {
        "id": "nIMzQWcj3xw7"
      },
      "execution_count": null,
      "outputs": []
    },
    {
      "cell_type": "code",
      "source": [
        "%tensorboard"
      ],
      "metadata": {
        "id": "s-XFK3uW5_nE"
      },
      "execution_count": null,
      "outputs": []
    },
    {
      "cell_type": "markdown",
      "metadata": {
        "id": "sERMZw56J-eA"
      },
      "source": [
        "## Part 2: Rotational Invariance\n",
        "\n",
        "A common argument for CNNs over MLPs is that they have the inductive bias of being (approximately) shift invariant. If we move the image by one pixel to the left, most features remain unchanged and also just shift by one position. However, what about more complex transformations, like rotations? Your task in this part of the practical is to take the trained ResNet, and investigate how its test accuracy changes when you rotate the images. Create a plot of the validation accuracy over rotation angles (0 to 360 degree in steps of 10 degree)."
      ]
    },
    {
      "cell_type": "code",
      "execution_count": null,
      "metadata": {
        "id": "k2l8JMj0J-eA"
      },
      "outputs": [],
      "source": [
        "\n",
        "@torch.no_grad()\n",
        "def test_model_rotated(model, rotation_angle):\n",
        "    \"\"\"\n",
        "    Evaluate the model on a dataset with images rotated by the specified angle.\n",
        "    Args:\n",
        "        model: The PyTorch model to evaluate.\n",
        "        rotation_angle: The rotation angle in degrees.\n",
        "    Returns:\n",
        "        float: The accuracy of the model on the rotated dataset.\n",
        "    \"\"\"\n",
        "    device = next(model.parameters()).device  # Automatically detect the model's device\n",
        "    model.eval()  # Set model to evaluation mode\n",
        "\n",
        "    correct = 0\n",
        "    total = 0\n",
        "\n",
        "    for batch in test_loader:  # Assuming `test_loader` is already defined\n",
        "        imgs, labels = batch\n",
        "\n",
        "        # Rotate images and move to the same device as the model\n",
        "        imgs = torch.stack([transforms.functional.rotate(img, rotation_angle) for img in imgs]).to(device)\n",
        "        labels = labels.to(device)\n",
        "\n",
        "        outputs = model(imgs)\n",
        "        _, predicted = torch.max(outputs, dim=1)\n",
        "        correct += (predicted == labels).sum().item()\n",
        "        total += labels.size(0)\n",
        "\n",
        "    return 100 * correct / total  # Calculate accuracy\n",
        "\n"
      ]
    },
    {
      "cell_type": "code",
      "execution_count": null,
      "metadata": {
        "id": "HVs5Npn1J-eA"
      },
      "outputs": [],
      "source": [
        "# TODO: Determine results\n",
        "# Evaluate model for rotation angles from 0 to 360 degrees\n",
        "\n",
        "# Evaluate model for rotation angles from 0 to 360 degrees\n",
        "'''rotation_angles = np.arange(0, 361, 10, dtype=float)  # Explicitly specify dtype as float\n",
        "validation_accuracies = []\n",
        "\n",
        "resnet_model.to(device)  # Ensure the model is on the correct device\n",
        "\n",
        "for angle in tqdm(rotation_angles, desc=f\"Evaluating model on rotated images with angle\"):\n",
        "    acc = test_model_rotated(resnet_model, rotation_angle=float(angle))  # No need to pass device\n",
        "    validation_accuracies.append(acc)\n",
        "\n",
        "# Save results\n",
        "rotation_results = {\"angles\": rotation_angles.tolist(), \"accuracies\": validation_accuracies}'''\n"
      ]
    },
    {
      "cell_type": "code",
      "source": [
        "import os\n",
        "import json\n",
        "import numpy as np\n",
        "from tqdm import tqdm\n",
        "\n",
        "RESULTS_FILE = CHECKPOINT_PATH+\"/rotation_results.json\"\n",
        "\n",
        "if os.path.exists(RESULTS_FILE):\n",
        "    print(f\"Found existing results at {RESULTS_FILE}, loading them.\")\n",
        "    with open(RESULTS_FILE, \"r\") as f:\n",
        "        rotation_results = json.load(f)\n",
        "    rotation_angles = rotation_results[\"angles\"]\n",
        "    validation_accuracies = rotation_results[\"accuracies\"]\n",
        "else:\n",
        "    print(f\"No existing results found at {RESULTS_FILE}. Computing now...\")\n",
        "\n",
        "    # Evaluate model for rotation angles from 0 to 360 degrees at 10-degree increments\n",
        "    rotation_angles = np.arange(0, 361, 10, dtype=float)  # Explicitly specify dtype=float\n",
        "    validation_accuracies = []\n",
        "\n",
        "    # Ensure model is on the correct device\n",
        "    resnet_model.to(device)\n",
        "\n",
        "    # Evaluate model on rotated images\n",
        "    for angle in tqdm(rotation_angles, desc=\"Evaluating model on rotated images\"):\n",
        "        acc = test_model_rotated(resnet_model, rotation_angle=float(angle))\n",
        "        validation_accuracies.append(acc)\n",
        "\n",
        "    # Store results in a dictionary\n",
        "    rotation_results = {\n",
        "        \"angles\": rotation_angles.tolist(),\n",
        "        \"accuracies\": validation_accuracies\n",
        "    }\n",
        "\n",
        "    # Save results to JSON\n",
        "    with open(RESULTS_FILE, \"w\") as f:\n",
        "        json.dump(rotation_results, f, indent=2)\n",
        "    print(f\"Results saved to {RESULTS_FILE}.\")\n",
        "\n",
        "# At this point, rotation_results has {\"angles\": [...], \"accuracies\": [...]}\n",
        "# You can use rotation_results or (rotation_angles, validation_accuracies)\n",
        "print(\"Angles:\", rotation_angles)\n",
        "print(\"Accuracies:\", validation_accuracies)"
      ],
      "metadata": {
        "id": "8f0ghltTrFm_"
      },
      "execution_count": null,
      "outputs": []
    },
    {
      "cell_type": "code",
      "execution_count": null,
      "metadata": {
        "id": "2iO8ntPtJ-eA"
      },
      "outputs": [],
      "source": [
        "# TODO: Plot results\n",
        "# Plot the validation accuracy over rotation angles\n",
        "plt.figure(figsize=(10, 6))\n",
        "plt.plot(rotation_angles, validation_accuracies, marker='o', linestyle='-', label=\"Validation Accuracy\")\n",
        "plt.title(\"Validation Accuracy vs. Rotation Angle\", fontsize=14)\n",
        "plt.xlabel(\"Rotation Angle (degrees)\", fontsize=12)\n",
        "plt.ylabel(\"Validation Accuracy\", fontsize=12)\n",
        "plt.xticks(rotation_angles, rotation_angles, rotation=45)\n",
        "plt.grid(True, linestyle='--', alpha=0.7)\n",
        "plt.legend(fontsize=12)\n",
        "plt.tight_layout()\n",
        "plt.show()\n"
      ]
    },
    {
      "cell_type": "markdown",
      "metadata": {
        "id": "H49k_5VyJ-eB"
      },
      "source": [
        "What do these results indicate? Add this plot in your report and discuss it."
      ]
    },
    {
      "cell_type": "markdown",
      "metadata": {
        "id": "IQwt8W6wJ-eB"
      },
      "source": [
        "## Part 3: Pixel shuffling\n",
        "\n",
        "In the first practical, we have investigated how the MLP reacts to shuffling the pixels of all images with a fixed, random permutation. Now, let's repeat this experiment for the CNNs. Does the CNN exploit the structural information differently than the MLP?\n",
        "\n",
        "The first step is to create datasets with a new shuffling of pixels:"
      ]
    },
    {
      "cell_type": "code",
      "execution_count": null,
      "metadata": {
        "id": "40LjIYzXJ-eB"
      },
      "outputs": [],
      "source": [
        "# TODO: Create datasets and data loaders with a fixed, random shuffle of pixels\n",
        "fixed_permutation = torch.randperm(32 * 32 * 3)\n",
        "\n",
        "# Transform for pixel shuffling (fixed)\n",
        "class FixedPixelShuffleTransform:\n",
        "    def __init__(self, permutation):\n",
        "        self.permutation = permutation\n",
        "\n",
        "    def __call__(self, img):\n",
        "        img = torch.flatten(img)  # Flatten the image into a vector\n",
        "        img = img[self.permutation]  # Apply the fixed permutation\n",
        "        return img.view(3, 32, 32)  # Reshape to original dimensions\n",
        "\n",
        "# Transform for pixel shuffling (random)\n",
        "class RandomPixelShuffleTransform:\n",
        "    def __call__(self, img):\n",
        "        random_perm = torch.randperm(32 * 32 * 3)  # Generate a random permutation\n",
        "        img = torch.flatten(img)  # Flatten the image into a vector\n",
        "        img = img[random_perm]  # Apply the random permutation\n",
        "        return img.view(3, 32, 32)  # Reshape to original dimensions\n",
        "\n",
        "# Fixed shuffle transforms\n",
        "fixed_shuffled_train_transform = transforms.Compose([\n",
        "    transforms.RandomHorizontalFlip(),\n",
        "    transforms.RandomResizedCrop((32, 32), scale=(0.8, 1.0), ratio=(0.9, 1.1)),\n",
        "    transforms.ToTensor(),\n",
        "    FixedPixelShuffleTransform(fixed_permutation),\n",
        "    transforms.Normalize(DATA_MEANS, DATA_STD)\n",
        "])\n",
        "\n",
        "fixed_shuffled_test_transform = transforms.Compose([\n",
        "    transforms.ToTensor(),\n",
        "    FixedPixelShuffleTransform(fixed_permutation),\n",
        "    transforms.Normalize(DATA_MEANS, DATA_STD)\n",
        "])\n",
        "\n",
        "fixed_shuffled_val_transform = transforms.Compose([\n",
        "    transforms.ToTensor(),\n",
        "    FixedPixelShuffleTransform(fixed_permutation),\n",
        "    transforms.Normalize(DATA_MEANS, DATA_STD)\n",
        "])\n",
        "\n",
        "# Random shuffle transforms\n",
        "random_shuffled_train_transform = transforms.Compose([\n",
        "    transforms.RandomHorizontalFlip(),\n",
        "    transforms.RandomResizedCrop((32, 32), scale=(0.8, 1.0), ratio=(0.9, 1.1)),\n",
        "    transforms.ToTensor(),\n",
        "    RandomPixelShuffleTransform(),\n",
        "    transforms.Normalize(DATA_MEANS, DATA_STD)\n",
        "])\n",
        "\n",
        "random_shuffled_test_transform = transforms.Compose([\n",
        "    transforms.ToTensor(),\n",
        "    RandomPixelShuffleTransform(),\n",
        "    transforms.Normalize(DATA_MEANS, DATA_STD)\n",
        "])\n",
        "\n",
        "random_shuffled_val_transform = transforms.Compose([\n",
        "    transforms.ToTensor(),\n",
        "    RandomPixelShuffleTransform(),\n",
        "    transforms.Normalize(DATA_MEANS, DATA_STD)\n",
        "])\n",
        "\n",
        "\n",
        "# Fixed shuffle datasets\n",
        "fixed_shuffled_train_dataset = CIFAR10(root=DATASET_PATH, train=True, transform=fixed_shuffled_train_transform, download=False)\n",
        "fixed_shuffled_test_dataset = CIFAR10(root=DATASET_PATH, train=False, transform=fixed_shuffled_test_transform, download=False)\n",
        "fixed_shuffled_val_dataset = CIFAR10(root=DATASET_PATH, train=False, transform=fixed_shuffled_val_transform, download=False)\n",
        "\n",
        "\n",
        "# Random shuffle datasets\n",
        "random_shuffled_train_dataset = CIFAR10(root=DATASET_PATH, train=True, transform=random_shuffled_train_transform, download=False)\n",
        "random_shuffled_test_dataset = CIFAR10(root=DATASET_PATH, train=False, transform=random_shuffled_test_transform, download=False)\n",
        "random_shuffled_val_dataset = CIFAR10(root=DATASET_PATH, train=False, transform=random_shuffled_val_transform, download=False)\n",
        "\n",
        "\n",
        "# Data loaders for fixed shuffle\n",
        "fixed_shuffled_train_loader = data.DataLoader(fixed_shuffled_train_dataset, batch_size=128, shuffle=True, drop_last=True, num_workers=2)\n",
        "fixed_shuffled_test_loader = data.DataLoader(fixed_shuffled_test_dataset, batch_size=128, shuffle=False, drop_last=False, num_workers=2)\n",
        "fixed_shuffled_val_loader = data.DataLoader(fixed_shuffled_val_dataset, batch_size=128, shuffle=False, drop_last=False, num_workers=2)\n",
        "\n",
        "# Data loaders for random shuffle\n",
        "random_shuffled_train_loader = data.DataLoader(random_shuffled_train_dataset, batch_size=128, shuffle=True, drop_last=True, num_workers=2)\n",
        "random_shuffled_test_loader = data.DataLoader(random_shuffled_test_dataset, batch_size=128, shuffle=False, drop_last=False, num_workers=2)\n",
        "random_shuffled_val_loader = data.DataLoader(random_shuffled_val_dataset, batch_size=128, shuffle=False, drop_last=False, num_workers=2)\n",
        "\n",
        "\n"
      ]
    },
    {
      "cell_type": "code",
      "source": [
        "# Fixed random permutation\n",
        "fixed_shuffled_model, fixed_shuffled_results = train_model(\n",
        "    save_name='Fixed_Shuffled_ResNet',\n",
        "    max_epochs=10,\n",
        "    model_hparams={\"num_classes\": 10,\n",
        "                   \"c_hidden\": [16, 24, 32],\n",
        "                   \"num_blocks\": [2, 2, 3]},\n",
        "    optimizer_hparams={\"lr\": 0.01, \"momentum\": 0.9, \"weight_decay\": 1e-4},\n",
        "    data_loaders={\"train\": fixed_shuffled_train_loader,\n",
        "                  \"val\": fixed_shuffled_val_loader,  # Validation remains unshuffled\n",
        "                  \"test\": fixed_shuffled_test_loader}\n",
        ")\n",
        "\n",
        "print(fixed_shuffled_results)\n"
      ],
      "metadata": {
        "id": "FUMOuNRJwqCM"
      },
      "execution_count": null,
      "outputs": []
    },
    {
      "cell_type": "markdown",
      "metadata": {
        "id": "T2JPgGvGJ-eB"
      },
      "source": [
        "Next, we can start the training of the model. You can limit your number of epochs to a smaller number like 10."
      ]
    },
    {
      "cell_type": "code",
      "execution_count": null,
      "metadata": {
        "id": "hyFWMSaoJ-eH"
      },
      "outputs": [],
      "source": [
        "# TODO: Create datasets and data loaders with random shuffle of pixels\n",
        "random_shuffled_model, random_shuffled_results = train_model(\n",
        "    save_name='Random_Shuffled_ResNet',\n",
        "    max_epochs=10,\n",
        "    model_hparams={\"num_classes\": 10,\n",
        "                   \"c_hidden\": [16, 24, 32],\n",
        "                   \"num_blocks\": [2, 2, 3]},\n",
        "    optimizer_hparams={\"lr\": 0.01, \"momentum\": 0.9, \"weight_decay\": 1e-4},\n",
        "    data_loaders={\"train\": random_shuffled_train_loader,\n",
        "                  \"val\": random_shuffled_val_loader,  # Validation remains unshuffled\n",
        "                  \"test\": random_shuffled_test_loader}\n",
        ")\n",
        "\n",
        "print(random_shuffled_results)\n"
      ]
    },
    {
      "cell_type": "code",
      "execution_count": null,
      "metadata": {
        "id": "QCE5XP2NJ-eH"
      },
      "outputs": [],
      "source": [
        "# TODO: Print the results and look at your tensorboard\n",
        "results = {\n",
        "    \"Original\": resnet_results[\"test\"],\n",
        "    \"Fixed Shuffle\": fixed_shuffled_results[\"test\"],\n",
        "    \"Random Shuffle\": random_shuffled_results[\"test\"]\n",
        "}\n",
        "\n",
        "labels, values = zip(*results.items())\n",
        "plt.bar(labels, values)\n",
        "plt.title(\"Test Accuracy for Different Pixel Shuffles\")\n",
        "plt.ylabel(\"Accuracy\")\n",
        "plt.show()\n",
        "\n",
        "\n",
        "print(\"Results Summary:\")\n",
        "print(f\"Original Dataset - Test Accuracy: {resnet_results['test']:.4f}, Validation Accuracy: {resnet_results['val']:.4f}\")\n",
        "print(f\"Fixed Shuffle Dataset - Test Accuracy: {fixed_shuffled_results['test']:.4f}, Validation Accuracy: {fixed_shuffled_results['val']:.4f}\")\n",
        "print(f\"Random Shuffle Dataset - Test Accuracy: {random_shuffled_results['test']:.4f}, Validation Accuracy: {random_shuffled_results['val']:.4f}\")\n",
        "\n"
      ]
    },
    {
      "cell_type": "code",
      "source": [
        "%load_ext tensorboard\n",
        "%tensorboard --logdir {CHECKPOINT_PATH}"
      ],
      "metadata": {
        "id": "euNO-yvxxG8Z"
      },
      "execution_count": null,
      "outputs": []
    },
    {
      "cell_type": "code",
      "source": [
        "%tensorboard --logdir {CHECKPOINT_PATH}"
      ],
      "metadata": {
        "id": "G28ifsPd2aZn"
      },
      "execution_count": null,
      "outputs": []
    },
    {
      "cell_type": "markdown",
      "metadata": {
        "id": "YpSOXFipJ-eI"
      },
      "source": [
        "Add your observations to your report and discuss what this implies for CNNs."
      ]
    },
    {
      "cell_type": "markdown",
      "metadata": {
        "id": "rOWFWg4lJ-eI"
      },
      "source": [
        "## Conclusion\n",
        "\n",
        "In this practical, you gained some handson experience with CNNs on computer vision for classification. Your experiments probably give you a good indication why CNNs are a very popular choice for computer vision problems, but also what they can and cannot do."
      ]
    }
  ],
  "metadata": {
    "kernelspec": {
      "display_name": "Python 3",
      "name": "python3"
    },
    "language_info": {
      "codemirror_mode": {
        "name": "ipython",
        "version": 3
      },
      "file_extension": ".py",
      "mimetype": "text/x-python",
      "name": "python",
      "nbconvert_exporter": "python",
      "pygments_lexer": "ipython3",
      "version": "3.9.7"
    },
    "colab": {
      "provenance": [],
      "gpuType": "T4"
    },
    "accelerator": "GPU",
    "widgets": {
      "application/vnd.jupyter.widget-state+json": {
        "205244ccb4034117b4ed27c487a4eeba": {
          "model_module": "@jupyter-widgets/controls",
          "model_name": "HBoxModel",
          "model_module_version": "1.5.0",
          "state": {
            "_dom_classes": [],
            "_model_module": "@jupyter-widgets/controls",
            "_model_module_version": "1.5.0",
            "_model_name": "HBoxModel",
            "_view_count": null,
            "_view_module": "@jupyter-widgets/controls",
            "_view_module_version": "1.5.0",
            "_view_name": "HBoxView",
            "box_style": "",
            "children": [
              "IPY_MODEL_1398ad08dd6d434a955bbc5670ad1324",
              "IPY_MODEL_66b2a1f55fc14ce893a8df65652fc0ed",
              "IPY_MODEL_438added79b2476d8b61207560c2e801"
            ],
            "layout": "IPY_MODEL_08dda9c466904dbca0dffa7ac025a925"
          }
        },
        "1398ad08dd6d434a955bbc5670ad1324": {
          "model_module": "@jupyter-widgets/controls",
          "model_name": "HTMLModel",
          "model_module_version": "1.5.0",
          "state": {
            "_dom_classes": [],
            "_model_module": "@jupyter-widgets/controls",
            "_model_module_version": "1.5.0",
            "_model_name": "HTMLModel",
            "_view_count": null,
            "_view_module": "@jupyter-widgets/controls",
            "_view_module_version": "1.5.0",
            "_view_name": "HTMLView",
            "description": "",
            "description_tooltip": null,
            "layout": "IPY_MODEL_c0f2d3b5986642b9a0d175d44fa854ef",
            "placeholder": "​",
            "style": "IPY_MODEL_6d75bb29e2374a5dad132a28416877c8",
            "value": "Sanity Checking DataLoader 0: 100%"
          }
        },
        "66b2a1f55fc14ce893a8df65652fc0ed": {
          "model_module": "@jupyter-widgets/controls",
          "model_name": "FloatProgressModel",
          "model_module_version": "1.5.0",
          "state": {
            "_dom_classes": [],
            "_model_module": "@jupyter-widgets/controls",
            "_model_module_version": "1.5.0",
            "_model_name": "FloatProgressModel",
            "_view_count": null,
            "_view_module": "@jupyter-widgets/controls",
            "_view_module_version": "1.5.0",
            "_view_name": "ProgressView",
            "bar_style": "",
            "description": "",
            "description_tooltip": null,
            "layout": "IPY_MODEL_921886ce928a4d279d79eff01d076cdd",
            "max": 2,
            "min": 0,
            "orientation": "horizontal",
            "style": "IPY_MODEL_dd9d62d093e7428fa2f12a79272b6277",
            "value": 2
          }
        },
        "438added79b2476d8b61207560c2e801": {
          "model_module": "@jupyter-widgets/controls",
          "model_name": "HTMLModel",
          "model_module_version": "1.5.0",
          "state": {
            "_dom_classes": [],
            "_model_module": "@jupyter-widgets/controls",
            "_model_module_version": "1.5.0",
            "_model_name": "HTMLModel",
            "_view_count": null,
            "_view_module": "@jupyter-widgets/controls",
            "_view_module_version": "1.5.0",
            "_view_name": "HTMLView",
            "description": "",
            "description_tooltip": null,
            "layout": "IPY_MODEL_1d65b61faaa6464f9acf896fa3d5215b",
            "placeholder": "​",
            "style": "IPY_MODEL_12b107ef60fc4487b001f3e7a3bbae98",
            "value": " 2/2 [00:00&lt;00:00, 28.76it/s]"
          }
        },
        "08dda9c466904dbca0dffa7ac025a925": {
          "model_module": "@jupyter-widgets/base",
          "model_name": "LayoutModel",
          "model_module_version": "1.2.0",
          "state": {
            "_model_module": "@jupyter-widgets/base",
            "_model_module_version": "1.2.0",
            "_model_name": "LayoutModel",
            "_view_count": null,
            "_view_module": "@jupyter-widgets/base",
            "_view_module_version": "1.2.0",
            "_view_name": "LayoutView",
            "align_content": null,
            "align_items": null,
            "align_self": null,
            "border": null,
            "bottom": null,
            "display": "inline-flex",
            "flex": null,
            "flex_flow": "row wrap",
            "grid_area": null,
            "grid_auto_columns": null,
            "grid_auto_flow": null,
            "grid_auto_rows": null,
            "grid_column": null,
            "grid_gap": null,
            "grid_row": null,
            "grid_template_areas": null,
            "grid_template_columns": null,
            "grid_template_rows": null,
            "height": null,
            "justify_content": null,
            "justify_items": null,
            "left": null,
            "margin": null,
            "max_height": null,
            "max_width": null,
            "min_height": null,
            "min_width": null,
            "object_fit": null,
            "object_position": null,
            "order": null,
            "overflow": null,
            "overflow_x": null,
            "overflow_y": null,
            "padding": null,
            "right": null,
            "top": null,
            "visibility": "hidden",
            "width": "100%"
          }
        },
        "c0f2d3b5986642b9a0d175d44fa854ef": {
          "model_module": "@jupyter-widgets/base",
          "model_name": "LayoutModel",
          "model_module_version": "1.2.0",
          "state": {
            "_model_module": "@jupyter-widgets/base",
            "_model_module_version": "1.2.0",
            "_model_name": "LayoutModel",
            "_view_count": null,
            "_view_module": "@jupyter-widgets/base",
            "_view_module_version": "1.2.0",
            "_view_name": "LayoutView",
            "align_content": null,
            "align_items": null,
            "align_self": null,
            "border": null,
            "bottom": null,
            "display": null,
            "flex": null,
            "flex_flow": null,
            "grid_area": null,
            "grid_auto_columns": null,
            "grid_auto_flow": null,
            "grid_auto_rows": null,
            "grid_column": null,
            "grid_gap": null,
            "grid_row": null,
            "grid_template_areas": null,
            "grid_template_columns": null,
            "grid_template_rows": null,
            "height": null,
            "justify_content": null,
            "justify_items": null,
            "left": null,
            "margin": null,
            "max_height": null,
            "max_width": null,
            "min_height": null,
            "min_width": null,
            "object_fit": null,
            "object_position": null,
            "order": null,
            "overflow": null,
            "overflow_x": null,
            "overflow_y": null,
            "padding": null,
            "right": null,
            "top": null,
            "visibility": null,
            "width": null
          }
        },
        "6d75bb29e2374a5dad132a28416877c8": {
          "model_module": "@jupyter-widgets/controls",
          "model_name": "DescriptionStyleModel",
          "model_module_version": "1.5.0",
          "state": {
            "_model_module": "@jupyter-widgets/controls",
            "_model_module_version": "1.5.0",
            "_model_name": "DescriptionStyleModel",
            "_view_count": null,
            "_view_module": "@jupyter-widgets/base",
            "_view_module_version": "1.2.0",
            "_view_name": "StyleView",
            "description_width": ""
          }
        },
        "921886ce928a4d279d79eff01d076cdd": {
          "model_module": "@jupyter-widgets/base",
          "model_name": "LayoutModel",
          "model_module_version": "1.2.0",
          "state": {
            "_model_module": "@jupyter-widgets/base",
            "_model_module_version": "1.2.0",
            "_model_name": "LayoutModel",
            "_view_count": null,
            "_view_module": "@jupyter-widgets/base",
            "_view_module_version": "1.2.0",
            "_view_name": "LayoutView",
            "align_content": null,
            "align_items": null,
            "align_self": null,
            "border": null,
            "bottom": null,
            "display": null,
            "flex": "2",
            "flex_flow": null,
            "grid_area": null,
            "grid_auto_columns": null,
            "grid_auto_flow": null,
            "grid_auto_rows": null,
            "grid_column": null,
            "grid_gap": null,
            "grid_row": null,
            "grid_template_areas": null,
            "grid_template_columns": null,
            "grid_template_rows": null,
            "height": null,
            "justify_content": null,
            "justify_items": null,
            "left": null,
            "margin": null,
            "max_height": null,
            "max_width": null,
            "min_height": null,
            "min_width": null,
            "object_fit": null,
            "object_position": null,
            "order": null,
            "overflow": null,
            "overflow_x": null,
            "overflow_y": null,
            "padding": null,
            "right": null,
            "top": null,
            "visibility": null,
            "width": null
          }
        },
        "dd9d62d093e7428fa2f12a79272b6277": {
          "model_module": "@jupyter-widgets/controls",
          "model_name": "ProgressStyleModel",
          "model_module_version": "1.5.0",
          "state": {
            "_model_module": "@jupyter-widgets/controls",
            "_model_module_version": "1.5.0",
            "_model_name": "ProgressStyleModel",
            "_view_count": null,
            "_view_module": "@jupyter-widgets/base",
            "_view_module_version": "1.2.0",
            "_view_name": "StyleView",
            "bar_color": null,
            "description_width": ""
          }
        },
        "1d65b61faaa6464f9acf896fa3d5215b": {
          "model_module": "@jupyter-widgets/base",
          "model_name": "LayoutModel",
          "model_module_version": "1.2.0",
          "state": {
            "_model_module": "@jupyter-widgets/base",
            "_model_module_version": "1.2.0",
            "_model_name": "LayoutModel",
            "_view_count": null,
            "_view_module": "@jupyter-widgets/base",
            "_view_module_version": "1.2.0",
            "_view_name": "LayoutView",
            "align_content": null,
            "align_items": null,
            "align_self": null,
            "border": null,
            "bottom": null,
            "display": null,
            "flex": null,
            "flex_flow": null,
            "grid_area": null,
            "grid_auto_columns": null,
            "grid_auto_flow": null,
            "grid_auto_rows": null,
            "grid_column": null,
            "grid_gap": null,
            "grid_row": null,
            "grid_template_areas": null,
            "grid_template_columns": null,
            "grid_template_rows": null,
            "height": null,
            "justify_content": null,
            "justify_items": null,
            "left": null,
            "margin": null,
            "max_height": null,
            "max_width": null,
            "min_height": null,
            "min_width": null,
            "object_fit": null,
            "object_position": null,
            "order": null,
            "overflow": null,
            "overflow_x": null,
            "overflow_y": null,
            "padding": null,
            "right": null,
            "top": null,
            "visibility": null,
            "width": null
          }
        },
        "12b107ef60fc4487b001f3e7a3bbae98": {
          "model_module": "@jupyter-widgets/controls",
          "model_name": "DescriptionStyleModel",
          "model_module_version": "1.5.0",
          "state": {
            "_model_module": "@jupyter-widgets/controls",
            "_model_module_version": "1.5.0",
            "_model_name": "DescriptionStyleModel",
            "_view_count": null,
            "_view_module": "@jupyter-widgets/base",
            "_view_module_version": "1.2.0",
            "_view_name": "StyleView",
            "description_width": ""
          }
        },
        "69948953a16248d2993ed0178e91015b": {
          "model_module": "@jupyter-widgets/controls",
          "model_name": "HBoxModel",
          "model_module_version": "1.5.0",
          "state": {
            "_dom_classes": [],
            "_model_module": "@jupyter-widgets/controls",
            "_model_module_version": "1.5.0",
            "_model_name": "HBoxModel",
            "_view_count": null,
            "_view_module": "@jupyter-widgets/controls",
            "_view_module_version": "1.5.0",
            "_view_name": "HBoxView",
            "box_style": "",
            "children": [
              "IPY_MODEL_6a58bf47c7084c3a8787f5080a5eb913",
              "IPY_MODEL_789dbcdeaab444039f0b3ccec5cfecf4",
              "IPY_MODEL_6451cf5bb84a4e39b03391236d72faea"
            ],
            "layout": "IPY_MODEL_50178879fedb47bb842610ffb8cd4148"
          }
        },
        "6a58bf47c7084c3a8787f5080a5eb913": {
          "model_module": "@jupyter-widgets/controls",
          "model_name": "HTMLModel",
          "model_module_version": "1.5.0",
          "state": {
            "_dom_classes": [],
            "_model_module": "@jupyter-widgets/controls",
            "_model_module_version": "1.5.0",
            "_model_name": "HTMLModel",
            "_view_count": null,
            "_view_module": "@jupyter-widgets/controls",
            "_view_module_version": "1.5.0",
            "_view_name": "HTMLView",
            "description": "",
            "description_tooltip": null,
            "layout": "IPY_MODEL_f08e7b86c01348d895dd553c246253b8",
            "placeholder": "​",
            "style": "IPY_MODEL_1e5f2c5bdb7247288a8f3dc7fb1634f1",
            "value": "Epoch 1:  11%"
          }
        },
        "789dbcdeaab444039f0b3ccec5cfecf4": {
          "model_module": "@jupyter-widgets/controls",
          "model_name": "FloatProgressModel",
          "model_module_version": "1.5.0",
          "state": {
            "_dom_classes": [],
            "_model_module": "@jupyter-widgets/controls",
            "_model_module_version": "1.5.0",
            "_model_name": "FloatProgressModel",
            "_view_count": null,
            "_view_module": "@jupyter-widgets/controls",
            "_view_module_version": "1.5.0",
            "_view_name": "ProgressView",
            "bar_style": "",
            "description": "",
            "description_tooltip": null,
            "layout": "IPY_MODEL_d85d7ac02e47403f9d94023b2c3e7fd2",
            "max": 351,
            "min": 0,
            "orientation": "horizontal",
            "style": "IPY_MODEL_9377b2996aab4304980323e3ad44b50c",
            "value": 40
          }
        },
        "6451cf5bb84a4e39b03391236d72faea": {
          "model_module": "@jupyter-widgets/controls",
          "model_name": "HTMLModel",
          "model_module_version": "1.5.0",
          "state": {
            "_dom_classes": [],
            "_model_module": "@jupyter-widgets/controls",
            "_model_module_version": "1.5.0",
            "_model_name": "HTMLModel",
            "_view_count": null,
            "_view_module": "@jupyter-widgets/controls",
            "_view_module_version": "1.5.0",
            "_view_name": "HTMLView",
            "description": "",
            "description_tooltip": null,
            "layout": "IPY_MODEL_14c7213d2a724a0b8545a77ed4f6ae28",
            "placeholder": "​",
            "style": "IPY_MODEL_4d087ee7d1e14c6e9b2c824b27b81901",
            "value": " 40/351 [00:04&lt;00:34,  8.93it/s, v_num=0, train_loss_step=1.600, train_acc_step=0.445, val_acc=0.400, train_loss_epoch=1.750, train_acc_epoch=0.348]"
          }
        },
        "50178879fedb47bb842610ffb8cd4148": {
          "model_module": "@jupyter-widgets/base",
          "model_name": "LayoutModel",
          "model_module_version": "1.2.0",
          "state": {
            "_model_module": "@jupyter-widgets/base",
            "_model_module_version": "1.2.0",
            "_model_name": "LayoutModel",
            "_view_count": null,
            "_view_module": "@jupyter-widgets/base",
            "_view_module_version": "1.2.0",
            "_view_name": "LayoutView",
            "align_content": null,
            "align_items": null,
            "align_self": null,
            "border": null,
            "bottom": null,
            "display": "inline-flex",
            "flex": null,
            "flex_flow": "row wrap",
            "grid_area": null,
            "grid_auto_columns": null,
            "grid_auto_flow": null,
            "grid_auto_rows": null,
            "grid_column": null,
            "grid_gap": null,
            "grid_row": null,
            "grid_template_areas": null,
            "grid_template_columns": null,
            "grid_template_rows": null,
            "height": null,
            "justify_content": null,
            "justify_items": null,
            "left": null,
            "margin": null,
            "max_height": null,
            "max_width": null,
            "min_height": null,
            "min_width": null,
            "object_fit": null,
            "object_position": null,
            "order": null,
            "overflow": null,
            "overflow_x": null,
            "overflow_y": null,
            "padding": null,
            "right": null,
            "top": null,
            "visibility": null,
            "width": "100%"
          }
        },
        "f08e7b86c01348d895dd553c246253b8": {
          "model_module": "@jupyter-widgets/base",
          "model_name": "LayoutModel",
          "model_module_version": "1.2.0",
          "state": {
            "_model_module": "@jupyter-widgets/base",
            "_model_module_version": "1.2.0",
            "_model_name": "LayoutModel",
            "_view_count": null,
            "_view_module": "@jupyter-widgets/base",
            "_view_module_version": "1.2.0",
            "_view_name": "LayoutView",
            "align_content": null,
            "align_items": null,
            "align_self": null,
            "border": null,
            "bottom": null,
            "display": null,
            "flex": null,
            "flex_flow": null,
            "grid_area": null,
            "grid_auto_columns": null,
            "grid_auto_flow": null,
            "grid_auto_rows": null,
            "grid_column": null,
            "grid_gap": null,
            "grid_row": null,
            "grid_template_areas": null,
            "grid_template_columns": null,
            "grid_template_rows": null,
            "height": null,
            "justify_content": null,
            "justify_items": null,
            "left": null,
            "margin": null,
            "max_height": null,
            "max_width": null,
            "min_height": null,
            "min_width": null,
            "object_fit": null,
            "object_position": null,
            "order": null,
            "overflow": null,
            "overflow_x": null,
            "overflow_y": null,
            "padding": null,
            "right": null,
            "top": null,
            "visibility": null,
            "width": null
          }
        },
        "1e5f2c5bdb7247288a8f3dc7fb1634f1": {
          "model_module": "@jupyter-widgets/controls",
          "model_name": "DescriptionStyleModel",
          "model_module_version": "1.5.0",
          "state": {
            "_model_module": "@jupyter-widgets/controls",
            "_model_module_version": "1.5.0",
            "_model_name": "DescriptionStyleModel",
            "_view_count": null,
            "_view_module": "@jupyter-widgets/base",
            "_view_module_version": "1.2.0",
            "_view_name": "StyleView",
            "description_width": ""
          }
        },
        "d85d7ac02e47403f9d94023b2c3e7fd2": {
          "model_module": "@jupyter-widgets/base",
          "model_name": "LayoutModel",
          "model_module_version": "1.2.0",
          "state": {
            "_model_module": "@jupyter-widgets/base",
            "_model_module_version": "1.2.0",
            "_model_name": "LayoutModel",
            "_view_count": null,
            "_view_module": "@jupyter-widgets/base",
            "_view_module_version": "1.2.0",
            "_view_name": "LayoutView",
            "align_content": null,
            "align_items": null,
            "align_self": null,
            "border": null,
            "bottom": null,
            "display": null,
            "flex": "2",
            "flex_flow": null,
            "grid_area": null,
            "grid_auto_columns": null,
            "grid_auto_flow": null,
            "grid_auto_rows": null,
            "grid_column": null,
            "grid_gap": null,
            "grid_row": null,
            "grid_template_areas": null,
            "grid_template_columns": null,
            "grid_template_rows": null,
            "height": null,
            "justify_content": null,
            "justify_items": null,
            "left": null,
            "margin": null,
            "max_height": null,
            "max_width": null,
            "min_height": null,
            "min_width": null,
            "object_fit": null,
            "object_position": null,
            "order": null,
            "overflow": null,
            "overflow_x": null,
            "overflow_y": null,
            "padding": null,
            "right": null,
            "top": null,
            "visibility": null,
            "width": null
          }
        },
        "9377b2996aab4304980323e3ad44b50c": {
          "model_module": "@jupyter-widgets/controls",
          "model_name": "ProgressStyleModel",
          "model_module_version": "1.5.0",
          "state": {
            "_model_module": "@jupyter-widgets/controls",
            "_model_module_version": "1.5.0",
            "_model_name": "ProgressStyleModel",
            "_view_count": null,
            "_view_module": "@jupyter-widgets/base",
            "_view_module_version": "1.2.0",
            "_view_name": "StyleView",
            "bar_color": null,
            "description_width": ""
          }
        },
        "14c7213d2a724a0b8545a77ed4f6ae28": {
          "model_module": "@jupyter-widgets/base",
          "model_name": "LayoutModel",
          "model_module_version": "1.2.0",
          "state": {
            "_model_module": "@jupyter-widgets/base",
            "_model_module_version": "1.2.0",
            "_model_name": "LayoutModel",
            "_view_count": null,
            "_view_module": "@jupyter-widgets/base",
            "_view_module_version": "1.2.0",
            "_view_name": "LayoutView",
            "align_content": null,
            "align_items": null,
            "align_self": null,
            "border": null,
            "bottom": null,
            "display": null,
            "flex": null,
            "flex_flow": null,
            "grid_area": null,
            "grid_auto_columns": null,
            "grid_auto_flow": null,
            "grid_auto_rows": null,
            "grid_column": null,
            "grid_gap": null,
            "grid_row": null,
            "grid_template_areas": null,
            "grid_template_columns": null,
            "grid_template_rows": null,
            "height": null,
            "justify_content": null,
            "justify_items": null,
            "left": null,
            "margin": null,
            "max_height": null,
            "max_width": null,
            "min_height": null,
            "min_width": null,
            "object_fit": null,
            "object_position": null,
            "order": null,
            "overflow": null,
            "overflow_x": null,
            "overflow_y": null,
            "padding": null,
            "right": null,
            "top": null,
            "visibility": null,
            "width": null
          }
        },
        "4d087ee7d1e14c6e9b2c824b27b81901": {
          "model_module": "@jupyter-widgets/controls",
          "model_name": "DescriptionStyleModel",
          "model_module_version": "1.5.0",
          "state": {
            "_model_module": "@jupyter-widgets/controls",
            "_model_module_version": "1.5.0",
            "_model_name": "DescriptionStyleModel",
            "_view_count": null,
            "_view_module": "@jupyter-widgets/base",
            "_view_module_version": "1.2.0",
            "_view_name": "StyleView",
            "description_width": ""
          }
        },
        "81f459f4bdf242b48fa5cd7ef43a95f2": {
          "model_module": "@jupyter-widgets/controls",
          "model_name": "HBoxModel",
          "model_module_version": "1.5.0",
          "state": {
            "_dom_classes": [],
            "_model_module": "@jupyter-widgets/controls",
            "_model_module_version": "1.5.0",
            "_model_name": "HBoxModel",
            "_view_count": null,
            "_view_module": "@jupyter-widgets/controls",
            "_view_module_version": "1.5.0",
            "_view_name": "HBoxView",
            "box_style": "",
            "children": [
              "IPY_MODEL_063c59ff6df74353a8554e6781182016",
              "IPY_MODEL_f4e1b4162d654ea6a93d310e6368d060",
              "IPY_MODEL_b7e7aac3b5414e5692808d7b1767ff71"
            ],
            "layout": "IPY_MODEL_fe31994f20374d85a3b3da4e909b35f1"
          }
        },
        "063c59ff6df74353a8554e6781182016": {
          "model_module": "@jupyter-widgets/controls",
          "model_name": "HTMLModel",
          "model_module_version": "1.5.0",
          "state": {
            "_dom_classes": [],
            "_model_module": "@jupyter-widgets/controls",
            "_model_module_version": "1.5.0",
            "_model_name": "HTMLModel",
            "_view_count": null,
            "_view_module": "@jupyter-widgets/controls",
            "_view_module_version": "1.5.0",
            "_view_name": "HTMLView",
            "description": "",
            "description_tooltip": null,
            "layout": "IPY_MODEL_4bde669454c846aca83d4c9361ff50d0",
            "placeholder": "​",
            "style": "IPY_MODEL_3afa570508384959b5abd6e592a7bc67",
            "value": "Validation DataLoader 0: 100%"
          }
        },
        "f4e1b4162d654ea6a93d310e6368d060": {
          "model_module": "@jupyter-widgets/controls",
          "model_name": "FloatProgressModel",
          "model_module_version": "1.5.0",
          "state": {
            "_dom_classes": [],
            "_model_module": "@jupyter-widgets/controls",
            "_model_module_version": "1.5.0",
            "_model_name": "FloatProgressModel",
            "_view_count": null,
            "_view_module": "@jupyter-widgets/controls",
            "_view_module_version": "1.5.0",
            "_view_name": "ProgressView",
            "bar_style": "",
            "description": "",
            "description_tooltip": null,
            "layout": "IPY_MODEL_34f1adec7299415483bd55544411c561",
            "max": 40,
            "min": 0,
            "orientation": "horizontal",
            "style": "IPY_MODEL_e90875c1f118468db767d337bb515b78",
            "value": 40
          }
        },
        "b7e7aac3b5414e5692808d7b1767ff71": {
          "model_module": "@jupyter-widgets/controls",
          "model_name": "HTMLModel",
          "model_module_version": "1.5.0",
          "state": {
            "_dom_classes": [],
            "_model_module": "@jupyter-widgets/controls",
            "_model_module_version": "1.5.0",
            "_model_name": "HTMLModel",
            "_view_count": null,
            "_view_module": "@jupyter-widgets/controls",
            "_view_module_version": "1.5.0",
            "_view_name": "HTMLView",
            "description": "",
            "description_tooltip": null,
            "layout": "IPY_MODEL_cf0783211fc7456883f4fd99503ac9ab",
            "placeholder": "​",
            "style": "IPY_MODEL_9b1f7fec616b40879c70fdd6cbbb7c71",
            "value": " 40/40 [00:01&lt;00:00, 27.58it/s]"
          }
        },
        "fe31994f20374d85a3b3da4e909b35f1": {
          "model_module": "@jupyter-widgets/base",
          "model_name": "LayoutModel",
          "model_module_version": "1.2.0",
          "state": {
            "_model_module": "@jupyter-widgets/base",
            "_model_module_version": "1.2.0",
            "_model_name": "LayoutModel",
            "_view_count": null,
            "_view_module": "@jupyter-widgets/base",
            "_view_module_version": "1.2.0",
            "_view_name": "LayoutView",
            "align_content": null,
            "align_items": null,
            "align_self": null,
            "border": null,
            "bottom": null,
            "display": "inline-flex",
            "flex": null,
            "flex_flow": "row wrap",
            "grid_area": null,
            "grid_auto_columns": null,
            "grid_auto_flow": null,
            "grid_auto_rows": null,
            "grid_column": null,
            "grid_gap": null,
            "grid_row": null,
            "grid_template_areas": null,
            "grid_template_columns": null,
            "grid_template_rows": null,
            "height": null,
            "justify_content": null,
            "justify_items": null,
            "left": null,
            "margin": null,
            "max_height": null,
            "max_width": null,
            "min_height": null,
            "min_width": null,
            "object_fit": null,
            "object_position": null,
            "order": null,
            "overflow": null,
            "overflow_x": null,
            "overflow_y": null,
            "padding": null,
            "right": null,
            "top": null,
            "visibility": "hidden",
            "width": "100%"
          }
        },
        "4bde669454c846aca83d4c9361ff50d0": {
          "model_module": "@jupyter-widgets/base",
          "model_name": "LayoutModel",
          "model_module_version": "1.2.0",
          "state": {
            "_model_module": "@jupyter-widgets/base",
            "_model_module_version": "1.2.0",
            "_model_name": "LayoutModel",
            "_view_count": null,
            "_view_module": "@jupyter-widgets/base",
            "_view_module_version": "1.2.0",
            "_view_name": "LayoutView",
            "align_content": null,
            "align_items": null,
            "align_self": null,
            "border": null,
            "bottom": null,
            "display": null,
            "flex": null,
            "flex_flow": null,
            "grid_area": null,
            "grid_auto_columns": null,
            "grid_auto_flow": null,
            "grid_auto_rows": null,
            "grid_column": null,
            "grid_gap": null,
            "grid_row": null,
            "grid_template_areas": null,
            "grid_template_columns": null,
            "grid_template_rows": null,
            "height": null,
            "justify_content": null,
            "justify_items": null,
            "left": null,
            "margin": null,
            "max_height": null,
            "max_width": null,
            "min_height": null,
            "min_width": null,
            "object_fit": null,
            "object_position": null,
            "order": null,
            "overflow": null,
            "overflow_x": null,
            "overflow_y": null,
            "padding": null,
            "right": null,
            "top": null,
            "visibility": null,
            "width": null
          }
        },
        "3afa570508384959b5abd6e592a7bc67": {
          "model_module": "@jupyter-widgets/controls",
          "model_name": "DescriptionStyleModel",
          "model_module_version": "1.5.0",
          "state": {
            "_model_module": "@jupyter-widgets/controls",
            "_model_module_version": "1.5.0",
            "_model_name": "DescriptionStyleModel",
            "_view_count": null,
            "_view_module": "@jupyter-widgets/base",
            "_view_module_version": "1.2.0",
            "_view_name": "StyleView",
            "description_width": ""
          }
        },
        "34f1adec7299415483bd55544411c561": {
          "model_module": "@jupyter-widgets/base",
          "model_name": "LayoutModel",
          "model_module_version": "1.2.0",
          "state": {
            "_model_module": "@jupyter-widgets/base",
            "_model_module_version": "1.2.0",
            "_model_name": "LayoutModel",
            "_view_count": null,
            "_view_module": "@jupyter-widgets/base",
            "_view_module_version": "1.2.0",
            "_view_name": "LayoutView",
            "align_content": null,
            "align_items": null,
            "align_self": null,
            "border": null,
            "bottom": null,
            "display": null,
            "flex": "2",
            "flex_flow": null,
            "grid_area": null,
            "grid_auto_columns": null,
            "grid_auto_flow": null,
            "grid_auto_rows": null,
            "grid_column": null,
            "grid_gap": null,
            "grid_row": null,
            "grid_template_areas": null,
            "grid_template_columns": null,
            "grid_template_rows": null,
            "height": null,
            "justify_content": null,
            "justify_items": null,
            "left": null,
            "margin": null,
            "max_height": null,
            "max_width": null,
            "min_height": null,
            "min_width": null,
            "object_fit": null,
            "object_position": null,
            "order": null,
            "overflow": null,
            "overflow_x": null,
            "overflow_y": null,
            "padding": null,
            "right": null,
            "top": null,
            "visibility": null,
            "width": null
          }
        },
        "e90875c1f118468db767d337bb515b78": {
          "model_module": "@jupyter-widgets/controls",
          "model_name": "ProgressStyleModel",
          "model_module_version": "1.5.0",
          "state": {
            "_model_module": "@jupyter-widgets/controls",
            "_model_module_version": "1.5.0",
            "_model_name": "ProgressStyleModel",
            "_view_count": null,
            "_view_module": "@jupyter-widgets/base",
            "_view_module_version": "1.2.0",
            "_view_name": "StyleView",
            "bar_color": null,
            "description_width": ""
          }
        },
        "cf0783211fc7456883f4fd99503ac9ab": {
          "model_module": "@jupyter-widgets/base",
          "model_name": "LayoutModel",
          "model_module_version": "1.2.0",
          "state": {
            "_model_module": "@jupyter-widgets/base",
            "_model_module_version": "1.2.0",
            "_model_name": "LayoutModel",
            "_view_count": null,
            "_view_module": "@jupyter-widgets/base",
            "_view_module_version": "1.2.0",
            "_view_name": "LayoutView",
            "align_content": null,
            "align_items": null,
            "align_self": null,
            "border": null,
            "bottom": null,
            "display": null,
            "flex": null,
            "flex_flow": null,
            "grid_area": null,
            "grid_auto_columns": null,
            "grid_auto_flow": null,
            "grid_auto_rows": null,
            "grid_column": null,
            "grid_gap": null,
            "grid_row": null,
            "grid_template_areas": null,
            "grid_template_columns": null,
            "grid_template_rows": null,
            "height": null,
            "justify_content": null,
            "justify_items": null,
            "left": null,
            "margin": null,
            "max_height": null,
            "max_width": null,
            "min_height": null,
            "min_width": null,
            "object_fit": null,
            "object_position": null,
            "order": null,
            "overflow": null,
            "overflow_x": null,
            "overflow_y": null,
            "padding": null,
            "right": null,
            "top": null,
            "visibility": null,
            "width": null
          }
        },
        "9b1f7fec616b40879c70fdd6cbbb7c71": {
          "model_module": "@jupyter-widgets/controls",
          "model_name": "DescriptionStyleModel",
          "model_module_version": "1.5.0",
          "state": {
            "_model_module": "@jupyter-widgets/controls",
            "_model_module_version": "1.5.0",
            "_model_name": "DescriptionStyleModel",
            "_view_count": null,
            "_view_module": "@jupyter-widgets/base",
            "_view_module_version": "1.2.0",
            "_view_name": "StyleView",
            "description_width": ""
          }
        }
      }
    }
  },
  "nbformat": 4,
  "nbformat_minor": 0
}