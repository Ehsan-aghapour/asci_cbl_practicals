{
  "cells": [
    {
      "cell_type": "markdown",
      "metadata": {
        "id": "KeHX-pIkJ-d3"
      },
      "source": [
        "# Practical 2: Convolutional Neural Networks\n",
        "\n",
        "**Open notebook:**\n",
        "[![View on Github](https://img.shields.io/static/v1.svg?logo=github&label=Repo&message=View%20On%20Github&color=lightgrey)](https://github.com/phlippe/asci_cbl_practicals/blob/main/notebooks/2_CNNs.ipynb)\n",
        "[![Open In Collab](https://colab.research.google.com/assets/colab-badge.svg)](https://colab.research.google.com/github/phlippe/asci_cbl_practicals/blob/main/notebooks/2_CNNs.ipynb)     \n",
        "**Authors:** Phillip Lippe"
      ]
    },
    {
      "cell_type": "markdown",
      "metadata": {
        "id": "9C_jXMz4J-d5"
      },
      "source": [
        "In this practical, we will implement variants of modern CNN architectures. There have been many different architectures been proposed over the past few years. Some of the most impactful ones, and still relevant today, are the following: [GoogleNet](https://arxiv.org/abs/1409.4842)/Inception architecture (winner of ILSVRC 2014), [ResNet](https://arxiv.org/abs/1512.03385) (winner of ILSVRC 2015), and [DenseNet](https://arxiv.org/abs/1608.06993) (best paper award CVPR 2017). All of them were state-of-the-art models when being proposed, and the core ideas of these networks are the foundations for most current state-of-the-art architectures. Thus, it is important to understand these architectures and learn how to implement some of them.\n",
        "\n",
        "Let's start with importing our standard libraries here."
      ]
    },
    {
      "cell_type": "code",
      "source": [
        "Colab_server=False\n",
        "if Colab_server:\n",
        "  from google.colab import drive\n",
        "  drive.mount('/content/drive')"
      ],
      "metadata": {
        "id": "X9LTF3LCnDCk"
      },
      "execution_count": 55,
      "outputs": []
    },
    {
      "cell_type": "code",
      "execution_count": 56,
      "metadata": {
        "id": "R8afbMs_J-d5"
      },
      "outputs": [],
      "source": [
        "## Standard libraries\n",
        "import os\n",
        "import json\n",
        "import math\n",
        "import numpy as np\n",
        "import copy\n",
        "\n",
        "## Imports for plotting\n",
        "import matplotlib.pyplot as plt\n",
        "from matplotlib import cm\n",
        "%matplotlib inline\n",
        "import seaborn as sns\n",
        "sns.set()\n",
        "\n",
        "## Progress bar\n",
        "from tqdm.notebook import tqdm\n",
        "\n",
        "## PyTorch\n",
        "import torch\n",
        "import torch.nn as nn\n",
        "import torch.nn.functional as F\n",
        "import torch.utils.data as data\n",
        "import torch.optim as optim\n",
        "\n",
        "## PyTorch Torchvision\n",
        "import torchvision\n",
        "from torchvision.datasets import CIFAR10\n",
        "from torchvision import transforms"
      ]
    },
    {
      "cell_type": "markdown",
      "metadata": {
        "id": "oJNp8m9wJ-d6"
      },
      "source": [
        "We will use the same the path variables `DATASET_PATH` and `CHECKPOINT_PATH`. Adjust the paths if necessary."
      ]
    },
    {
      "cell_type": "code",
      "execution_count": 57,
      "metadata": {
        "id": "dqO7_oUNJ-d6",
        "outputId": "3a56ae04-22d3-4b1f-b6eb-89c8d901e759",
        "colab": {
          "base_uri": "https://localhost:8080/"
        }
      },
      "outputs": [
        {
          "output_type": "stream",
          "name": "stdout",
          "text": [
            "cuda:0\n"
          ]
        }
      ],
      "source": [
        "# Path to the folder where the datasets are/should be downloaded (e.g. CIFAR10)\n",
        "DATASET_PATH = \"~/data\"\n",
        "# Path to the folder where the pretrained models are saved\n",
        "CHECKPOINT_PATH = \"~/saved_models/practical2\"\n",
        "if Colab_server:\n",
        "  #CHECKPOINT_PATH = \"/content/drive/MyDrive/saved_models/practical2\"\n",
        "  os.makedirs(CHECKPOINT_PATH, exist_ok=True)\n",
        "\n",
        "# Ensure that all operations are deterministic on GPU (if used) for reproducibility\n",
        "torch.backends.cudnn.determinstic = True\n",
        "torch.backends.cudnn.benchmark = False\n",
        "\n",
        "device = torch.device(\"cuda:0\") if torch.cuda.is_available() else torch.device(\"cpu\")\n",
        "print(device)"
      ]
    },
    {
      "cell_type": "markdown",
      "metadata": {
        "id": "Owo1ieksJ-d6"
      },
      "source": [
        "Similarly as in the last practical, we use the CIFAR10 dataset and load it below:"
      ]
    },
    {
      "cell_type": "code",
      "execution_count": 58,
      "metadata": {
        "id": "bRBw_v06J-d6",
        "outputId": "409c3951-fd5c-4983-bdec-4bf4703b0101",
        "colab": {
          "base_uri": "https://localhost:8080/"
        }
      },
      "outputs": [
        {
          "output_type": "stream",
          "name": "stdout",
          "text": [
            "Files already downloaded and verified\n",
            "Files already downloaded and verified\n",
            "Files already downloaded and verified\n"
          ]
        }
      ],
      "source": [
        "# Dataset statistics for normalizing the input values to zero mean and one std\n",
        "DATA_MEANS = [0.491, 0.482, 0.447]\n",
        "DATA_STD = [0.247, 0.243, 0.261]\n",
        "\n",
        "test_transform = transforms.Compose([transforms.ToTensor(),\n",
        "                                     transforms.Normalize(DATA_MEANS, DATA_STD)\n",
        "                                     ])\n",
        "# For training, we add some augmentation. Networks are too powerful and would overfit.\n",
        "train_transform = transforms.Compose([transforms.RandomHorizontalFlip(),\n",
        "                                      transforms.RandomResizedCrop((32,32),scale=(0.8,1.0),ratio=(0.9,1.1)),\n",
        "                                      transforms.ToTensor(),\n",
        "                                      transforms.Normalize(DATA_MEANS, DATA_STD)\n",
        "                                     ])\n",
        "# Loading the training dataset. We need to split it into a training and validation part\n",
        "# We need to do a little trick because the validation set should not use the augmentation.\n",
        "train_dataset = CIFAR10(root=DATASET_PATH, train=True, transform=train_transform, download=True)\n",
        "val_dataset = CIFAR10(root=DATASET_PATH, train=True, transform=test_transform, download=True)\n",
        "train_set, _ = torch.utils.data.random_split(train_dataset, [45000, 5000], generator=torch.Generator().manual_seed(42))\n",
        "_, val_set = torch.utils.data.random_split(val_dataset, [45000, 5000], generator=torch.Generator().manual_seed(42))\n",
        "\n",
        "# Loading the test set\n",
        "test_set = CIFAR10(root=DATASET_PATH, train=False, transform=test_transform, download=True)\n",
        "\n",
        "# Create data loaders for later. Adjust batch size if you have a smaller GPU\n",
        "train_loader = data.DataLoader(train_set, batch_size=128, shuffle=True, drop_last=True, pin_memory=True, num_workers=2)\n",
        "val_loader = data.DataLoader(val_set, batch_size=128, shuffle=False, drop_last=False, num_workers=2)\n",
        "test_loader = data.DataLoader(test_set, batch_size=128, shuffle=False, drop_last=False, num_workers=2)"
      ]
    },
    {
      "cell_type": "markdown",
      "metadata": {
        "id": "weXAhC7zJ-d7"
      },
      "source": [
        "## PyTorch Lightning\n",
        "\n",
        "In this practical and in many following ones, we will make use of the library [PyTorch Lightning](https://www.pytorchlightning.ai/). PyTorch Lightning is a framework that simplifies your code needed to train, evaluate, and test a model in PyTorch. It also handles logging into [TensorBoard](https://pytorch.org/tutorials/intermediate/tensorboard_tutorial.html), a visualization toolkit for ML experiments, and saving model checkpoints automatically with minimal code overhead from our side. This is extremely helpful for us as we want to focus on implementing different model architectures and spend little time on other code overhead. Note that at the time of writing/teaching, the framework has been released in version 1.6. Future versions might have a slightly changed interface and thus might not work perfectly with the code (we will try to keep it up-to-date as much as possible).\n",
        "\n",
        "Now, we will take the first step in PyTorch Lightning, and continue to explore the framework in our other tutorials. First, we import the library:"
      ]
    },
    {
      "cell_type": "code",
      "execution_count": 59,
      "metadata": {
        "id": "xEREMHNxJ-d7"
      },
      "outputs": [],
      "source": [
        "# PyTorch Lightning\n",
        "try:\n",
        "    import pytorch_lightning as pl\n",
        "except ModuleNotFoundError: # Google Colab does not have PyTorch Lightning installed by default. Hence, we do it here if necessary\n",
        "    !pip install --quiet pytorch-lightning>=1.6\n",
        "    import pytorch_lightning as pl"
      ]
    },
    {
      "cell_type": "markdown",
      "metadata": {
        "id": "b1osRXTKJ-d8"
      },
      "source": [
        "PyTorch Lightning comes with a lot of useful functions, such as one for setting the seed:"
      ]
    },
    {
      "cell_type": "code",
      "execution_count": 60,
      "metadata": {
        "id": "4cSY9X6VJ-d8",
        "outputId": "d857fb99-d6db-4117-fa37-16eaa8c3457a",
        "colab": {
          "base_uri": "https://localhost:8080/"
        }
      },
      "outputs": [
        {
          "output_type": "stream",
          "name": "stderr",
          "text": [
            "Seed set to 42\n"
          ]
        },
        {
          "output_type": "execute_result",
          "data": {
            "text/plain": [
              "42"
            ]
          },
          "metadata": {},
          "execution_count": 60
        }
      ],
      "source": [
        "# Setting the seed\n",
        "pl.seed_everything(42)"
      ]
    },
    {
      "cell_type": "markdown",
      "metadata": {
        "id": "mzl0nT8HJ-d8"
      },
      "source": [
        "Thus, in the future, we don't have to define our own `set_seed` function anymore.\n",
        "\n",
        "In PyTorch Lightning, we define `pl.LightningModule`'s (inheriting from `torch.nn.Module`) that organize our code into 5 main sections:\n",
        "\n",
        "1. Initialization (`__init__`), where we create all necessary parameters/models\n",
        "2. Optimizers (`configure_optimizers`) where we create the optimizers, learning rate scheduler, etc.\n",
        "3. Training loop (`training_step`) where we only have to define the loss calculation for a single batch (the loop of optimizer.zero_grad(), loss.backward() and optimizer.step(), as well as any logging/saving operation, is done in the background)\n",
        "4. Validation loop (`validation_step`) where similarly to the training, we only have to define what should happen per step\n",
        "5. Test loop (`test_step`) which is the same as validation, only on a test set.\n",
        "\n",
        "Therefore, we don't abstract the PyTorch code, but rather organize it and define some default operations that are commonly used. If you need to change something else in your training/validation/test loop, there are many possible functions you can overwrite (see the [docs](https://pytorch-lightning.readthedocs.io/en/stable/lightning_module.html) for details).\n",
        "\n",
        "Now we can look at an example of how a Lightning Module for training a CNN looks like:"
      ]
    },
    {
      "cell_type": "code",
      "execution_count": 61,
      "metadata": {
        "id": "ET_9FW2mJ-d8"
      },
      "outputs": [],
      "source": [
        "class CIFARModule(pl.LightningModule):\n",
        "\n",
        "    def __init__(self, model_hparams, optimizer_hparams):\n",
        "        \"\"\"\n",
        "        Inputs:\n",
        "            model_hparams - Hyperparameters for the model, as dictionary.\n",
        "            optimizer_hparams - Hyperparameters for the optimizer, as dictionary. This includes learning rate, weight decay, etc.\n",
        "        \"\"\"\n",
        "        super().__init__()\n",
        "        # Exports the hyperparameters to a YAML file, and create \"self.hparams\" namespace\n",
        "        self.save_hyperparameters()\n",
        "        # Create model\n",
        "        self.create_model()\n",
        "        # Example input for visualizing the graph in Tensorboard\n",
        "        self.example_input_array = torch.zeros((1, 3, 32, 32), dtype=torch.float32)\n",
        "\n",
        "    def create_model(self):\n",
        "        # No need to fill this yet, we will do it later in the notebook\n",
        "        # Currently this function is a placeholder to create our model\n",
        "        raise NotImplementedError\n",
        "\n",
        "    def forward(self, imgs):\n",
        "        # Forward function that is run when visualizing the graph\n",
        "        return self.model(imgs)\n",
        "\n",
        "    def configure_optimizers(self):\n",
        "        # Create optimizer\n",
        "        optimizer = optim.SGD(self.parameters(), **self.hparams.optimizer_hparams)\n",
        "        # We will reduce the learning rate by 0.1 after 75 and 100 epochs\n",
        "        scheduler = optim.lr_scheduler.MultiStepLR(\n",
        "            optimizer, milestones=[70, 90], gamma=0.1)\n",
        "        return [optimizer], [scheduler]\n",
        "\n",
        "    def training_step(self, batch, batch_idx):\n",
        "        # \"batch\" is the output of the training data loader.\n",
        "        imgs, labels = batch\n",
        "        preds = self.model(imgs)\n",
        "        loss = F.cross_entropy(preds, labels)\n",
        "        acc = (preds.argmax(dim=-1) == labels).float().mean()\n",
        "\n",
        "        # Logs the accuracy per epoch to tensorboard (weighted average over batches)\n",
        "        self.log('train_acc', acc, on_step=False, on_epoch=True)\n",
        "        self.log('train_loss', loss)\n",
        "        return loss  # Return tensor to call \".backward\" on\n",
        "\n",
        "    def validation_step(self, batch, batch_idx):\n",
        "        imgs, labels = batch\n",
        "        preds = self.model(imgs).argmax(dim=-1)\n",
        "        acc = (labels == preds).float().mean()\n",
        "        # By default logs it per epoch (weighted average over batches)\n",
        "        self.log('val_acc', acc)\n",
        "\n",
        "    def test_step(self, batch, batch_idx):\n",
        "        imgs, labels = batch\n",
        "        preds = self.model(imgs).argmax(dim=-1)\n",
        "        acc = (labels == preds).float().mean()\n",
        "        # By default logs it per epoch (weighted average over batches), and returns it afterwards\n",
        "        self.log('test_acc', acc)\n",
        "\n",
        "class CIFARModule(pl.LightningModule):\n",
        "\n",
        "    def __init__(self, model_hparams, optimizer_hparams):\n",
        "        super().__init__()\n",
        "        self.save_hyperparameters()\n",
        "        self.create_model()\n",
        "        self.example_input_array = torch.zeros((1, 3, 32, 32), dtype=torch.float32)\n",
        "\n",
        "    def create_model(self):\n",
        "        self.model = ResNet(num_classes=self.hparams.model_hparams['num_classes'],\n",
        "                            num_blocks=self.hparams.model_hparams['num_blocks'],\n",
        "                            c_hidden=self.hparams.model_hparams['c_hidden'])\n",
        "\n",
        "    def forward(self, imgs):\n",
        "        return self.model(imgs)\n",
        "\n",
        "    def configure_optimizers(self):\n",
        "        optimizer = optim.SGD(self.parameters(), **self.hparams.optimizer_hparams)\n",
        "        scheduler = optim.lr_scheduler.MultiStepLR(optimizer, milestones=[70, 90], gamma=0.1)\n",
        "        return [optimizer], [scheduler]\n",
        "\n",
        "    def training_step(self, batch, batch_idx):\n",
        "        imgs, labels = batch\n",
        "        preds = self.model(imgs)\n",
        "        loss = F.cross_entropy(preds, labels)\n",
        "        acc = (preds.argmax(dim=-1) == labels).float().mean()\n",
        "\n",
        "        # Log the training loss and accuracy per batch\n",
        "        self.log('train_loss', loss, on_step=True, on_epoch=True, prog_bar=True, logger=True)\n",
        "        self.log('train_acc', acc, on_step=True, on_epoch=True, prog_bar=True, logger=True)\n",
        "        return loss\n",
        "\n",
        "    def validation_step(self, batch, batch_idx):\n",
        "        imgs, labels = batch\n",
        "        preds = self.model(imgs).argmax(dim=-1)\n",
        "        acc = (labels == preds).float().mean()\n",
        "        self.log('val_acc', acc, on_step=False, on_epoch=True, prog_bar=True, logger=True)\n",
        "\n",
        "    def test_step(self, batch, batch_idx):\n",
        "        imgs, labels = batch\n",
        "        preds = self.model(imgs).argmax(dim=-1)\n",
        "        acc = (labels == preds).float().mean()\n",
        "        self.log('test_acc', acc, on_step=False, on_epoch=True, prog_bar=True, logger=True)\n"
      ]
    },
    {
      "cell_type": "markdown",
      "metadata": {
        "id": "nygqoKVzJ-d9"
      },
      "source": [
        "We see that the code is organized and clear, which helps if someone else tries to understand your code.\n",
        "\n",
        "Another important part of PyTorch Lightning is the concept of callbacks. Callbacks are self-contained functions that contain the non-essential logic of your Lightning Module. They are usually called after finishing a training epoch, but can also influence other parts of your training loop. For instance, we will use the following two pre-defined callbacks: `LearningRateMonitor` and `ModelCheckpoint`. The learning rate monitor adds the current learning rate to our TensorBoard, which helps to verify that our learning rate scheduler works correctly. The model checkpoint callback allows you to customize the saving routine of your checkpoints. For instance, how many checkpoints to keep, when to save, which metric to look out for, etc. We import them below:"
      ]
    },
    {
      "cell_type": "code",
      "execution_count": 62,
      "metadata": {
        "id": "kW-t6RO-J-d9"
      },
      "outputs": [],
      "source": [
        "# Callbacks\n",
        "from pytorch_lightning.callbacks import LearningRateMonitor, ModelCheckpoint,Callback\n",
        "\n",
        "# Custom callback for periodic test accuracy logging\n",
        "class PeriodicTestAccuracyLogger(Callback):\n",
        "    def __init__(self, test_loader, print_freq=5):\n",
        "        super().__init__()\n",
        "        self.test_loader = test_loader\n",
        "        self.print_freq = print_freq\n",
        "\n",
        "    def on_epoch_end(self, trainer, pl_module):\n",
        "        if trainer.current_epoch % self.print_freq == 0:\n",
        "            test_results = trainer.test(dataloaders=self.test_loader, verbose=False)\n",
        "            test_acc = test_results[0]['test_acc']\n",
        "            print(f\"Epoch {trainer.current_epoch}: Test Accuracy = {test_acc:.4f}\")\n"
      ]
    },
    {
      "cell_type": "markdown",
      "metadata": {
        "id": "uYd1fH_OJ-d9"
      },
      "source": [
        "Besides the Lightning module, the second most important module in PyTorch Lightning is the `Trainer`. The trainer is responsible to execute the training steps defined in the Lightning module and completes the framework. Similar to the Lightning module, you can override any key part that you don't want to be automated, but the default settings are often the best practice to do. For a full overview, see the [documentation](https://pytorch-lightning.readthedocs.io/en/stable/trainer.html). The most important functions we use below are:\n",
        "\n",
        "* `trainer.fit`: Takes as input a lightning module, a training dataset, and an (optional) validation dataset. This function trains the given module on the training dataset with occasional validation (default once per epoch, can be changed)\n",
        "* `trainer.test`: Takes as input a model and a dataset on which we want to test. It returns the test metric on the dataset.\n",
        "\n",
        "For training and testing, we don't have to worry about things like setting the model to eval mode (`model.eval()`) as this is all done automatically. See below how we define a training function for our models:"
      ]
    },
    {
      "cell_type": "code",
      "execution_count": 63,
      "metadata": {
        "id": "gKvJh_D_J-d9"
      },
      "outputs": [],
      "source": [
        "from pytorch_lightning.loggers import CSVLogger\n",
        "# Define the CSV logger\n",
        "#logger = CSVLogger(save_dir=CHECKPOINT_PATH, name=\"ResNet_logs\")\n",
        "def train_model_0(save_name, data_loaders, max_epochs=100, **kwargs):\n",
        "    \"\"\"\n",
        "    Inputs:\n",
        "        model_name - Name of the model you want to run. Is used to look up the class in \"model_dict\"\n",
        "        save_name (optional) - If specified, this name will be used for creating the checkpoint and logging directory.\n",
        "    \"\"\"\n",
        "\n",
        "\n",
        "\n",
        "    # Create a PyTorch Lightning trainer with the generation callback\n",
        "    trainer = pl.Trainer(default_root_dir=os.path.join(CHECKPOINT_PATH, save_name),                          # Where to save models\n",
        "                        #  gpus=1 if str(device)==\"cuda:0\" else 0,                                             # We run on a single GPU (if possible)\n",
        "                        accelerator=\"auto\",\n",
        "                         max_epochs=max_epochs,                                                              # How many epochs to train for if no patience is set\n",
        "                         callbacks=[ModelCheckpoint(save_weights_only=True, mode=\"max\", monitor=\"val_acc\"),  # Save the best checkpoint based on the maximum val_acc recorded. Saves only weights and not optimizer\n",
        "                                    LearningRateMonitor(\"epoch\")],                                           # Log learning rate every epoch\n",
        "                         check_val_every_n_epoch=10)                                                        # Frequency with which we evaluate the model\n",
        "    trainer.logger._log_graph = True         # If True, we plot the computation graph in tensorboard\n",
        "    trainer.logger._default_hp_metric = None # Optional logging argument that we don't need\n",
        "\n",
        "    # Check whether pretrained model exists. If yes, load it and skip training\n",
        "    pretrained_filename = os.path.join(CHECKPOINT_PATH, save_name + \".ckpt\")\n",
        "    if os.path.isfile(pretrained_filename):\n",
        "        print(f\"Found pretrained model at {pretrained_filename}, loading...\")\n",
        "        model = CIFARModule.load_from_checkpoint(pretrained_filename) # Automatically loads the model with the saved hyperparameters\n",
        "    else:\n",
        "        pl.seed_everything(42) # To be reproducable\n",
        "        model = CIFARModule(**kwargs)\n",
        "        trainer.fit(model, data_loaders['train'], data_loaders['val'])\n",
        "        model = CIFARModule.load_from_checkpoint(trainer.checkpoint_callback.best_model_path) # Load best checkpoint after training\n",
        "\n",
        "    # Test best model on validation and test set\n",
        "    val_result = trainer.test(model, data_loaders['val'], verbose=False)\n",
        "    test_result = trainer.test(model, data_loaders['test'], verbose=False)\n",
        "    result = {\"test\": test_result[0][\"test_acc\"], \"val\": val_result[0][\"test_acc\"]}\n",
        "\n",
        "    return model, result\n",
        "\n",
        "\n",
        "def train_model(save_name, data_loaders, max_epochs=100, **kwargs):\n",
        "\n",
        "    pretrained_filename = os.path.join(CHECKPOINT_PATH, save_name + \".ckpt\")\n",
        "\n",
        "    # Check for a pretrained model\n",
        "    '''if os.path.isfile(pretrained_filename):\n",
        "        print(f\"Found pretrained model at {pretrained_filename}, loading...\")\n",
        "        model = CIFARModule.load_from_checkpoint(pretrained_filename)\n",
        "        # Test the best model\n",
        "        trainer_test = pl.Trainer(\n",
        "            logger=False,              # Disable logger\n",
        "            enable_checkpointing=False # Disable checkpoints\n",
        "        )\n",
        "        val_result = trainer_test.test(model, data_loaders['val'], verbose=False)\n",
        "        test_result = trainer_test.test(model, data_loaders['test'], verbose=False)\n",
        "        result = {\"test\": test_result[0][\"test_acc\"], \"val\": val_result[0][\"test_acc\"]}\n",
        "        print(f'model existed in {pretrained_filename} with result of {result}')\n",
        "        x=input('continue?\\n')\n",
        "        if x!='Y':\n",
        "            return model,result'''\n",
        "\n",
        "\n",
        "\n",
        "    # ModelCheckpoint for saving the latest checkpoint\n",
        "    checkpoint_callback = ModelCheckpoint(\n",
        "        dirpath=CHECKPOINT_PATH,\n",
        "        filename=f\"{save_name}\",\n",
        "        save_top_k=1,  # Only keep the best model\n",
        "        monitor=\"val_acc\",\n",
        "        mode=\"max\",\n",
        "        save_weights_only=False,  # Save optimizer and scheduler states\n",
        "    )\n",
        "\n",
        "    # LearningRateMonitor callback\n",
        "    lr_monitor = LearningRateMonitor(logging_interval=\"epoch\")\n",
        "\n",
        "    # Custom test accuracy logger\n",
        "    test_logger = PeriodicTestAccuracyLogger(test_loader=data_loaders['test'], print_freq=5)\n",
        "\n",
        "    # Trainer setup\n",
        "    trainer = pl.Trainer(\n",
        "        gradient_clip_val=1.0,\n",
        "        default_root_dir=os.path.join(CHECKPOINT_PATH, save_name),\n",
        "        accelerator=\"auto\",\n",
        "        max_epochs=max_epochs,\n",
        "        callbacks=[checkpoint_callback, lr_monitor, test_logger],\n",
        "        check_val_every_n_epoch=1,\n",
        "        #logger=logger,\n",
        "    )\n",
        "\n",
        "    trainer.logger._log_graph = True\n",
        "    print(f'trainer log dir:{trainer.logger.log_dir}')\n",
        "\n",
        "    if os.path.isfile(pretrained_filename):\n",
        "        print(f\"Found pretrained model at {pretrained_filename}, loading...\")\n",
        "        model = CIFARModule.load_from_checkpoint(pretrained_filename)\n",
        "        # Test the best model\n",
        "        trainer.logger=None\n",
        "        val_result = trainer.test(model, data_loaders['val'], verbose=False)\n",
        "        test_result = trainer.test(model, data_loaders['test'], verbose=False)\n",
        "        result = {\"test\": test_result[0][\"test_acc\"], \"val\": val_result[0][\"test_acc\"]}\n",
        "        print(f'model existed in {pretrained_filename} with result of {result}')\n",
        "        x=input('continue?\\n')\n",
        "        if x!='Y':\n",
        "            return model,result\n",
        "    if not os.path.isfile(pretrained_filename):\n",
        "    #else:\n",
        "        print(f'model do not existed in {pretrained_filename}')\n",
        "        pl.seed_everything(42)\n",
        "        model = CIFARModule(**kwargs)\n",
        "        trainer.fit(model, data_loaders['train'], data_loaders['val'])\n",
        "\n",
        "    # Load the best model checkpoint for testing\n",
        "    best_model_path = checkpoint_callback.best_model_path\n",
        "    print(f\"loading model from checkpoint {best_model_path}\")\n",
        "    model = CIFARModule.load_from_checkpoint(best_model_path)\n",
        "\n",
        "    # Test the best model\n",
        "    val_result = trainer.test(model, data_loaders['val'], verbose=False)\n",
        "    test_result = trainer.test(model, data_loaders['test'], verbose=False)\n",
        "    result = {\"test\": test_result[0][\"test_acc\"], \"val\": val_result[0][\"test_acc\"]}\n",
        "\n",
        "    return model, result"
      ]
    },
    {
      "cell_type": "markdown",
      "metadata": {
        "id": "j_kjLmuoJ-d9"
      },
      "source": [
        "This setup simplifies our training a lot, and we recommend using PyTorch Lightning for future practicals as well."
      ]
    },
    {
      "cell_type": "markdown",
      "metadata": {
        "id": "XQguw4aQJ-d-"
      },
      "source": [
        "## Part 1: ResNet\n",
        "\n",
        "In the first part of the practical, you will implement a small ResNet. The [ResNet](https://arxiv.org/abs/1512.03385) paper is one of the  [most cited AI papers](https://www.natureindex.com/news-blog/google-scholar-reveals-most-influential-papers-research-citations-twenty-twenty), and has been the foundation for neural networks with more than 1,000 layers. Despite its simplicity, the idea of residual connections is highly effective as it supports stable gradient propagation through the network. Instead of modeling $x_{l+1}=F(x_{l})$, we model $x_{l+1}=x_{l}+F(x_{l})$ where $F$ is a non-linear mapping (usually a sequence of NN modules likes convolutions, activation functions, and normalizations). If we do backpropagation on such residual connections, we obtain:\n",
        "\n",
        "$$\\frac{\\partial x_{l+1}}{\\partial x_{l}} = \\mathbf{I} + \\frac{\\partial F(x_{l})}{\\partial x_{l}}$$\n",
        "\n",
        "The bias towards the identity matrix guarantees a stable gradient propagation being less effected by $F$ itself. There have been many variants of ResNet proposed, which mostly concern the function $F$, or operations applied on the sum. In this tutorial, we look at two of them: the original ResNet block, and the [Pre-Activation ResNet block](https://arxiv.org/abs/1603.05027). We visually compare the blocks below (figure credit - [He et al.](https://arxiv.org/abs/1603.05027)):\n",
        "\n",
        "<center width=\"100%\"><img src=\"https://github.com/Ehsan-aghapour/asci_cbl_practicals/blob/main/notebooks/figures/resnet_block.svg?raw=1\" style=\"display: block; margin-left: auto; margin-right: auto;\" width=\"300px\"/></center>\n",
        "\n",
        "The original ResNet block applies a non-linear activation function, usually ReLU, after the skip connection. In contrast, the pre-activation ResNet block applies the non-linearity at the beginning of $F$. Both have their advantages and disadvantages. For very deep network, however, the pre-activation ResNet has shown to perform better as the gradient flow is guaranteed to have the identity matrix as calculated above, and is not harmed by any non-linear activation applied to it. For comparison, in this notebook, we implement both ResNet types as shallow networks.\n",
        "\n",
        "For this practical, we will use the Pre-Activation ResNet block. The visualization above already shows what layers are included in $F$. One special case we have to handle is when we want to reduce the image dimensions in terms of width and height. The ResNet block requires $F(x_{l})$ to be of the same shape as $x_{l}$. Thus, we need to change the dimensionality of $x_{l}$ as well before adding to $F(x_{l})$. The original implementation used an identity mapping with stride 2 and padded additional feature dimensions with 0. However, the more common implementation is to use a 1x1 convolution with stride 2 as it allows us to change the feature dimensionality while being efficient in parameter and computation cost. Let's try to implement the ResNet block below:"
      ]
    },
    {
      "cell_type": "code",
      "execution_count": 64,
      "metadata": {
        "id": "cD-w1nN9J-d-"
      },
      "outputs": [],
      "source": [
        "class PreActResNetBlock(nn.Module):\n",
        "\n",
        "      def __init__(self, c_in, subsample=False, c_out=-1):\n",
        "          \"\"\"\n",
        "          Inputs:\n",
        "              c_in - Number of input features\n",
        "              subsample - If True, we want to apply a stride inside the block and reduce the output shape by 2 in height and width\n",
        "              c_out - Number of output features. Note that this is only relevant if subsample is True, as otherwise, c_out = c_in\n",
        "          \"\"\"\n",
        "          super().__init__()\n",
        "      #     # TODO: Implement the network of the pre-activation ResNet block\n",
        "      #     raise NotImplementedError\n",
        "\n",
        "      # def forward(self, x):\n",
        "      #     # TODO: Implement the forward pass of the Pre-Activation ResNet block\n",
        "      #     raise NotImplementedError\n",
        "\n",
        "          if subsample:\n",
        "              self.stride = 2\n",
        "              self.c_out = c_out if c_out > 0 else c_in\n",
        "          else:\n",
        "              self.stride = 1\n",
        "              self.c_out = c_in\n",
        "\n",
        "          # First normalization and activation (pre-activation)\n",
        "          self.bn1 = nn.BatchNorm2d(c_in)\n",
        "          self.relu1 = nn.ReLU(inplace=True)\n",
        "\n",
        "          # First convolution\n",
        "          self.conv1 = nn.Conv2d(c_in, self.c_out, kernel_size=3, stride=self.stride, padding=1, bias=False)\n",
        "\n",
        "          # Second normalization and activation (pre-activation)\n",
        "          self.bn2 = nn.BatchNorm2d(self.c_out)\n",
        "          self.relu2 = nn.ReLU(inplace=True)\n",
        "\n",
        "          # Second convolution\n",
        "          self.conv2 = nn.Conv2d(self.c_out, self.c_out, kernel_size=3, stride=1, padding=1, bias=False)\n",
        "\n",
        "          # Shortcut (identity or 1x1 convolution)\n",
        "          if subsample or c_in != self.c_out:\n",
        "              self.shortcut = nn.Conv2d(c_in, self.c_out, kernel_size=1, stride=self.stride, bias=False)\n",
        "          else:\n",
        "              self.shortcut = nn.Identity()\n",
        "\n",
        "      def forward(self, x):\n",
        "          # Save the shortcut connection\n",
        "          shortcut = self.shortcut(x)\n",
        "\n",
        "          # first BN -> ReLU -> Conv\n",
        "          out = self.bn1(x)\n",
        "          out = self.relu1(out)\n",
        "          out = self.conv1(out)\n",
        "\n",
        "          # second BN -> ReLU -> Conv\n",
        "          out = self.bn2(out)\n",
        "          out = self.relu2(out)\n",
        "          out = self.conv2(out)\n",
        "\n",
        "          # Add the shortcut\n",
        "          out += shortcut\n",
        "\n",
        "          return out\n",
        "\n"
      ]
    },
    {
      "cell_type": "code",
      "execution_count": 65,
      "metadata": {
        "id": "L91LyDuoJ-d-"
      },
      "outputs": [],
      "source": [
        "# Testing the ResNet block\n",
        "c_in = np.random.randint(low=16, high=64)\n",
        "module = PreActResNetBlock(c_in=c_in, subsample=False)\n",
        "module.to(device)\n",
        "img = torch.randn(4, c_in, 32, 32, device=device)\n",
        "out = module(img)\n",
        "for i in range(len(img.shape)):\n",
        "    assert out.shape[i] == img.shape[i], f'Disagreement in shapes: output={out.shape}, input={img.shape}'\n",
        "\n",
        "c_out = np.random.randint(low=16, high=64)\n",
        "module = PreActResNetBlock(c_in=c_in, subsample=True, c_out=c_out)\n",
        "module.to(device)\n",
        "img = torch.randn(4, c_in, 32, 32, device=device)\n",
        "out = module(img)\n",
        "assert out.shape[1] == c_out\n",
        "assert out.shape[2] == img.shape[2]//2\n",
        "assert out.shape[3] == img.shape[3]//2"
      ]
    },
    {
      "cell_type": "markdown",
      "metadata": {
        "id": "cqWlURylJ-d-"
      },
      "source": [
        "Now that we have the ResNet block, let's implement the full ResNet. The overall ResNet architecture consists of stacking multiple ResNet blocks, of which some are downsampling the input. When talking about ResNet blocks in the whole network, we usually group them by the same output shape. Hence, if we say the ResNet has `[3,3,3]` blocks, it means that we have 3 times a group of 3 ResNet blocks, where a subsampling is taking place in the fourth and seventh block. The ResNet with `[3,3,3]` blocks on CIFAR10 is visualized below.\n",
        "\n",
        "<center width=\"100%\"><img src=\"https://github.com/Ehsan-aghapour/asci_cbl_practicals/blob/main/notebooks/figures/resnet_notation.svg?raw=1\" width=\"500px\"></center>\n",
        "\n",
        "The three groups operate on the resolutions $32\\times32$, $16\\times16$ and $8\\times8$ respectively. The blocks in orange denote ResNet blocks with downsampling. Additionally to these blocks, we have one initial convolution that maps the 3 color channels to the initial hidden channels, and a final linear layer after an average pooling over all features. Let's implement it below:"
      ]
    },
    {
      "cell_type": "code",
      "execution_count": 66,
      "metadata": {
        "id": "PkXZ8sGYJ-d-"
      },
      "outputs": [],
      "source": [
        "class ResNet(nn.Module):\n",
        "\n",
        "    def __init__(self, num_classes=10, num_blocks=[3,3,3], c_hidden=[16,24,32]):\n",
        "        \"\"\"\n",
        "        Inputs:\n",
        "            num_classes - Number of classification outputs (10 for CIFAR10)\n",
        "            num_blocks - List with the number of ResNet blocks to use. The first block of each group uses downsampling, except the first.\n",
        "            c_hidden - List with the hidden dimensionalities in the different blocks.\n",
        "        \"\"\"\n",
        "        super().__init__()\n",
        "        self.num_classes = num_classes\n",
        "        self.num_blocks = num_blocks\n",
        "        self.c_hidden = c_hidden\n",
        "        self._create_network()\n",
        "        self._init_params()\n",
        "\n",
        "    def _create_network(self):\n",
        "        # TODO: Create network with stacking blocks\n",
        "        # raise NotImplementedError\n",
        "        layers = []\n",
        "\n",
        "        # Initial convolution\n",
        "        layers.append(nn.Conv2d(3, self.c_hidden[0], kernel_size=3, stride=1, padding=1, bias=False))\n",
        "        layers.append(nn.BatchNorm2d(self.c_hidden[0]))\n",
        "        layers.append(nn.ReLU(inplace=True))\n",
        "\n",
        "        # ResNet blocks\n",
        "        c_in = self.c_hidden[0]\n",
        "        for idx, num_block in enumerate(self.num_blocks):\n",
        "            c_out = self.c_hidden[idx]\n",
        "            for block_idx in range(num_block):\n",
        "                subsample = block_idx == 0 and idx > 0  # Subsample for the first block of each group except the first\n",
        "                layers.append(PreActResNetBlock(c_in, subsample=subsample, c_out=c_out))\n",
        "                c_in = c_out\n",
        "\n",
        "        # Global average pooling and final linear layer\n",
        "        layers.append(nn.AdaptiveAvgPool2d(1))  # Global average pooling\n",
        "        layers.append(nn.Flatten())\n",
        "        layers.append(nn.Linear(self.c_hidden[-1], self.num_classes))\n",
        "\n",
        "        self.network = nn.Sequential(*layers)\n",
        "\n",
        "    def _init_params(self):\n",
        "        # Fan-out focuses on the gradient distribution, and is commonly used in ResNets\n",
        "        for m in self.modules():\n",
        "            if isinstance(m, nn.Conv2d):\n",
        "                nn.init.kaiming_normal_(m.weight, mode='fan_out', nonlinearity='relu')\n",
        "            elif isinstance(m, nn.BatchNorm2d):\n",
        "                nn.init.constant_(m.weight, 1)\n",
        "                nn.init.constant_(m.bias, 0)\n",
        "\n",
        "    def forward(self, x):\n",
        "        # TODO: Implement forward of ResNet\n",
        "         return self.network(x)"
      ]
    },
    {
      "cell_type": "code",
      "execution_count": 67,
      "metadata": {
        "id": "-e0c_oG7J-d_"
      },
      "outputs": [],
      "source": [
        "# Testing the ResNet\n",
        "num_classes = np.random.randint(low=5, high=20)\n",
        "model = ResNet(num_classes=num_classes)\n",
        "model.to(device)\n",
        "img = torch.randn(4, 3, 32, 32, device=device)\n",
        "out = model(img)\n",
        "assert len(out.shape) == 2\n",
        "assert out.shape[0] == img.shape[0]\n",
        "assert out.shape[1] == num_classes"
      ]
    },
    {
      "cell_type": "markdown",
      "metadata": {
        "id": "D0eEOCXjJ-d_"
      },
      "source": [
        "Now that we have all together, let's train the model. First, we need to define the `create_model` function in the `CIFARModule`:"
      ]
    },
    {
      "cell_type": "code",
      "execution_count": 68,
      "metadata": {
        "id": "kEWH9cKIJ-d_"
      },
      "outputs": [],
      "source": [
        "def create_resnet(self):\n",
        "    self.model = ResNet(num_classes=self.hparams.model_hparams['num_classes'],\n",
        "                        num_blocks=self.hparams.model_hparams['num_blocks'],\n",
        "                        c_hidden=self.hparams.model_hparams['c_hidden'])\n",
        "\n",
        "CIFARModule.create_model = create_resnet"
      ]
    },
    {
      "cell_type": "markdown",
      "metadata": {
        "id": "gF7EuHLvJ-d_"
      },
      "source": [
        "We call the training function below to start the training. We provide default parameters that should allow you to quickly train the model, but feel free to optimize the hyperparameters. For a final run in your report, please use 100 epochs."
      ]
    },
    {
      "cell_type": "code",
      "execution_count": 69,
      "metadata": {
        "id": "crF1Z9FCJ-d_",
        "outputId": "c34d7a4e-45c3-42be-bcc8-89d29abb7ee3",
        "colab": {
          "base_uri": "https://localhost:8080/"
        }
      },
      "outputs": [
        {
          "output_type": "stream",
          "name": "stderr",
          "text": [
            "Trainer will use only 1 of 4 GPUs because it is running inside an interactive / notebook environment. You may try to set `Trainer(devices=4)` but please note that multi-GPU inside interactive / notebook environments is considered experimental and unstable. Your mileage may vary.\n",
            "GPU available: True (cuda), used: True\n",
            "TPU available: False, using: 0 TPU cores\n",
            "HPU available: False, using: 0 HPUs\n",
            "LOCAL_RANK: 0 - CUDA_VISIBLE_DEVICES: [0,1,2,3]\n"
          ]
        },
        {
          "output_type": "stream",
          "name": "stdout",
          "text": [
            "trainer log dir:saved_models/practical2/ResNet/lightning_logs/version_1\n",
            "Found pretrained model at ./saved_models/practical2/ResNet.ckpt, loading...\n",
            "Testing DataLoader 0:   8%|▊         | 3/40 [00:00<00:00, 48.85it/s]"
          ]
        },
        {
          "output_type": "stream",
          "name": "stderr",
          "text": [
            "/home/ehsan/.local/lib/python3.10/site-packages/pytorch_lightning/core/module.py:512: You called `self.log('test_acc', ..., logger=True)` but have no logger configured. You can enable one by doing `Trainer(logger=ALogger(...))`\n"
          ]
        },
        {
          "output_type": "stream",
          "name": "stdout",
          "text": [
            "Testing DataLoader 0: 100%|██████████| 40/40 [00:00<00:00, 81.16it/s]\n"
          ]
        },
        {
          "output_type": "stream",
          "name": "stderr",
          "text": [
            "LOCAL_RANK: 0 - CUDA_VISIBLE_DEVICES: [0,1,2,3]\n"
          ]
        },
        {
          "name": "stdout",
          "output_type": "stream",
          "text": [
            "Testing DataLoader 0: 100%|██████████| 79/79 [00:00<00:00, 87.45it/s]\n",
            "model existed in ./saved_models/practical2/ResNet.ckpt with result of {'test': 0.8271999955177307, 'val': 0.8342000246047974}\n",
            "continue?\n",
            "n\n"
          ]
        }
      ],
      "source": [
        "resnet_model, resnet_results = train_model(\n",
        "    save_name='ResNet',\n",
        "    max_epochs=100,\n",
        "    model_hparams={\"num_classes\": 10, \"c_hidden\": [16, 24, 32], \"num_blocks\": [2, 2, 3]},\n",
        "    optimizer_hparams={\"lr\": 0.01, \"momentum\": 0.9, \"weight_decay\": 1e-4},\n",
        "    data_loaders={\"train\": train_loader, \"val\": val_loader, \"test\": test_loader},\n",
        ")"
      ]
    },
    {
      "cell_type": "code",
      "execution_count": 70,
      "metadata": {
        "id": "LZ38w4knJ-d_",
        "colab": {
          "base_uri": "https://localhost:8080/"
        },
        "outputId": "7e76f38a-9ce3-44ed-ea0e-113e5c1dfec5"
      },
      "outputs": [
        {
          "output_type": "stream",
          "name": "stdout",
          "text": [
            "{'test': 0.8271999955177307, 'val': 0.8342000246047974}\n"
          ]
        }
      ],
      "source": [
        "print(resnet_results)"
      ]
    },
    {
      "cell_type": "markdown",
      "metadata": {
        "id": "KQ-tDMW1J-eA"
      },
      "source": [
        "Instead of just seeing the test result, it is recommended to also take a look at the TensorBoard log:"
      ]
    },
    {
      "cell_type": "code",
      "execution_count": 71,
      "metadata": {
        "id": "fRpFaQvfJ-eA",
        "colab": {
          "base_uri": "https://localhost:8080/",
          "height": 894
        },
        "outputId": "6e7854f2-7fe1-4478-cf4e-a4c6ab1e0b77"
      },
      "outputs": [
        {
          "output_type": "stream",
          "name": "stdout",
          "text": [
            "The tensorboard extension is already loaded. To reload it, use:\n",
            "  %reload_ext tensorboard\n"
          ]
        },
        {
          "output_type": "display_data",
          "data": {
            "text/plain": [
              "Reusing TensorBoard on port 6006 (pid 27434), started 0:02:01 ago. (Use '!kill 27434' to kill it.)"
            ]
          },
          "metadata": {}
        },
        {
          "output_type": "display_data",
          "data": {
            "text/plain": [
              "<IPython.core.display.HTML object>"
            ],
            "text/html": [
              "\n",
              "      <iframe id=\"tensorboard-frame-1c80317fa3b1799d\" width=\"100%\" height=\"800\" frameborder=\"0\">\n",
              "      </iframe>\n",
              "      <script>\n",
              "        (function() {\n",
              "          const frame = document.getElementById(\"tensorboard-frame-1c80317fa3b1799d\");\n",
              "          const url = new URL(\"/\", window.location);\n",
              "          const port = 6006;\n",
              "          if (port) {\n",
              "            url.port = port;\n",
              "          }\n",
              "          frame.src = url;\n",
              "        })();\n",
              "      </script>\n",
              "    "
            ]
          },
          "metadata": {}
        }
      ],
      "source": [
        "d=\"/home/ehsan/saved_models/practical2\"\n",
        "!kill -9 27434\n",
        "%load_ext tensorboard\n",
        "%tensorboard --logdir /home/ehsan/saved_models/practical2 --verbosity 1"
      ]
    },
    {
      "cell_type": "code",
      "source": [
        "!which tensorboard"
      ],
      "metadata": {
        "id": "Xd9m-5jPWA1n"
      },
      "execution_count": 72,
      "outputs": []
    },
    {
      "cell_type": "code",
      "source": [
        "import os\n",
        "os.environ['TENSORBOARD_BINARY'] = '/home/ehsan/.local/bin/tensorboard'"
      ],
      "metadata": {
        "id": "nIMzQWcj3xw7"
      },
      "execution_count": 73,
      "outputs": []
    },
    {
      "cell_type": "code",
      "source": [
        "%tensorboard"
      ],
      "metadata": {
        "colab": {
          "base_uri": "https://localhost:8080/",
          "height": 126
        },
        "id": "s-XFK3uW5_nE",
        "outputId": "ccbbbdab-bf61-458c-c9a5-2e6cd3192163"
      },
      "execution_count": 74,
      "outputs": [
        {
          "output_type": "display_data",
          "data": {
            "text/plain": [
              "ERROR: Failed to launch TensorBoard (exited with 1).\n",
              "Contents of stderr:\n",
              "TensorFlow installation not found - running with reduced feature set.\n",
              "Error: A logdir or db must be specified. For example `tensorboard --logdir mylogdir` or `tensorboard --db sqlite:~/.tensorboard.db`. Run `tensorboard --helpfull` for details and examples."
            ]
          },
          "metadata": {}
        }
      ]
    },
    {
      "cell_type": "markdown",
      "metadata": {
        "id": "sERMZw56J-eA"
      },
      "source": [
        "## Part 2: Rotational Invariance\n",
        "\n",
        "A common argument for CNNs over MLPs is that they have the inductive bias of being (approximately) shift invariant. If we move the image by one pixel to the left, most features remain unchanged and also just shift by one position. However, what about more complex transformations, like rotations? Your task in this part of the practical is to take the trained ResNet, and investigate how its test accuracy changes when you rotate the images. Create a plot of the validation accuracy over rotation angles (0 to 360 degree in steps of 10 degree)."
      ]
    },
    {
      "cell_type": "code",
      "execution_count": 75,
      "metadata": {
        "id": "k2l8JMj0J-eA"
      },
      "outputs": [],
      "source": [
        "\n",
        "@torch.no_grad()\n",
        "def test_model_rotated(model, rotation_angle):\n",
        "    \"\"\"\n",
        "    Evaluate the model on a dataset with images rotated by the specified angle.\n",
        "    Args:\n",
        "        model: The PyTorch model to evaluate.\n",
        "        rotation_angle: The rotation angle in degrees.\n",
        "    Returns:\n",
        "        float: The accuracy of the model on the rotated dataset.\n",
        "    \"\"\"\n",
        "    device = next(model.parameters()).device  # Automatically detect the model's device\n",
        "    model.eval()  # Set model to evaluation mode\n",
        "\n",
        "    correct = 0\n",
        "    total = 0\n",
        "\n",
        "    for batch in test_loader:  # Assuming `test_loader` is already defined\n",
        "        imgs, labels = batch\n",
        "\n",
        "        # Rotate images and move to the same device as the model\n",
        "        imgs = torch.stack([transforms.functional.rotate(img, rotation_angle) for img in imgs]).to(device)\n",
        "        labels = labels.to(device)\n",
        "\n",
        "        outputs = model(imgs)\n",
        "        _, predicted = torch.max(outputs, dim=1)\n",
        "        correct += (predicted == labels).sum().item()\n",
        "        total += labels.size(0)\n",
        "\n",
        "    return 100 * correct / total  # Calculate accuracy\n",
        "\n"
      ]
    },
    {
      "cell_type": "code",
      "execution_count": 76,
      "metadata": {
        "id": "HVs5Npn1J-eA",
        "colab": {
          "base_uri": "https://localhost:8080/"
        },
        "outputId": "674588e1-8fd3-4aa6-9a33-1d379dab4319"
      },
      "outputs": [
        {
          "output_type": "execute_result",
          "data": {
            "text/plain": [
              "'rotation_angles = np.arange(0, 361, 10, dtype=float)  # Explicitly specify dtype as float\\nvalidation_accuracies = []\\n\\nresnet_model.to(device)  # Ensure the model is on the correct device\\n\\nfor angle in tqdm(rotation_angles, desc=f\"Evaluating model on rotated images with angle\"):\\n    acc = test_model_rotated(resnet_model, rotation_angle=float(angle))  # No need to pass device\\n    validation_accuracies.append(acc)\\n\\n# Save results\\nrotation_results = {\"angles\": rotation_angles.tolist(), \"accuracies\": validation_accuracies}'"
            ]
          },
          "metadata": {},
          "execution_count": 76
        }
      ],
      "source": [
        "# TODO: Determine results\n",
        "# Evaluate model for rotation angles from 0 to 360 degrees\n",
        "\n",
        "# Evaluate model for rotation angles from 0 to 360 degrees\n",
        "'''rotation_angles = np.arange(0, 361, 10, dtype=float)  # Explicitly specify dtype as float\n",
        "validation_accuracies = []\n",
        "\n",
        "resnet_model.to(device)  # Ensure the model is on the correct device\n",
        "\n",
        "for angle in tqdm(rotation_angles, desc=f\"Evaluating model on rotated images with angle\"):\n",
        "    acc = test_model_rotated(resnet_model, rotation_angle=float(angle))  # No need to pass device\n",
        "    validation_accuracies.append(acc)\n",
        "\n",
        "# Save results\n",
        "rotation_results = {\"angles\": rotation_angles.tolist(), \"accuracies\": validation_accuracies}'''\n"
      ]
    },
    {
      "cell_type": "code",
      "source": [
        "import os\n",
        "import json\n",
        "import numpy as np\n",
        "from tqdm import tqdm\n",
        "\n",
        "RESULTS_FILE = CHECKPOINT_PATH+\"/rotation_results.json\"\n",
        "\n",
        "if os.path.exists(RESULTS_FILE):\n",
        "    print(f\"Found existing results at {RESULTS_FILE}, loading them.\")\n",
        "    with open(RESULTS_FILE, \"r\") as f:\n",
        "        rotation_results = json.load(f)\n",
        "    rotation_angles = rotation_results[\"angles\"]\n",
        "    validation_accuracies = rotation_results[\"accuracies\"]\n",
        "else:\n",
        "    print(f\"No existing results found at {RESULTS_FILE}. Computing now...\")\n",
        "\n",
        "    # Evaluate model for rotation angles from 0 to 360 degrees at 10-degree increments\n",
        "    rotation_angles = np.arange(0, 361, 10, dtype=float)  # Explicitly specify dtype=float\n",
        "    validation_accuracies = []\n",
        "\n",
        "    # Ensure model is on the correct device\n",
        "    resnet_model.to(device)\n",
        "\n",
        "    # Evaluate model on rotated images\n",
        "    for angle in tqdm(rotation_angles, desc=\"Evaluating model on rotated images\"):\n",
        "        acc = test_model_rotated(resnet_model, rotation_angle=float(angle))\n",
        "        validation_accuracies.append(acc)\n",
        "\n",
        "    # Store results in a dictionary\n",
        "    rotation_results = {\n",
        "        \"angles\": rotation_angles.tolist(),\n",
        "        \"accuracies\": validation_accuracies\n",
        "    }\n",
        "\n",
        "    # Save results to JSON\n",
        "    with open(RESULTS_FILE, \"w\") as f:\n",
        "        json.dump(rotation_results, f, indent=2)\n",
        "    print(f\"Results saved to {RESULTS_FILE}.\")\n",
        "\n",
        "# At this point, rotation_results has {\"angles\": [...], \"accuracies\": [...]}\n",
        "# You can use rotation_results or (rotation_angles, validation_accuracies)\n",
        "print(\"Angles:\", rotation_angles)\n",
        "print(\"Accuracies:\", validation_accuracies)"
      ],
      "metadata": {
        "colab": {
          "base_uri": "https://localhost:8080/"
        },
        "id": "8f0ghltTrFm_",
        "outputId": "89719aaa-c95d-4d4c-a006-c41ab3c99b4a"
      },
      "execution_count": 77,
      "outputs": [
        {
          "output_type": "stream",
          "name": "stdout",
          "text": [
            "Found existing results at ./saved_models/practical2/rotation_results.json, loading them.\n",
            "Angles: [0.0, 10.0, 20.0, 30.0, 40.0, 50.0, 60.0, 70.0, 80.0, 90.0, 100.0, 110.0, 120.0, 130.0, 140.0, 150.0, 160.0, 170.0, 180.0, 190.0, 200.0, 210.0, 220.0, 230.0, 240.0, 250.0, 260.0, 270.0, 280.0, 290.0, 300.0, 310.0, 320.0, 330.0, 340.0, 350.0, 360.0]\n",
            "Accuracies: [82.72, 72.53, 48.56, 37.38, 31.24, 27.84, 24.89, 23.59, 30.04, 34.21, 26.44, 20.37, 19.88, 20.54, 20.7, 22.67, 25.9, 32.44, 37.68, 32.73, 24.64, 22.07, 21.05, 20.41, 18.79, 19.26, 26.02, 34.05, 30.1, 23.12, 24.26, 27.46, 31.84, 41.49, 53.34, 73.56, 82.72]\n"
          ]
        }
      ]
    },
    {
      "cell_type": "code",
      "execution_count": 78,
      "metadata": {
        "id": "2iO8ntPtJ-eA",
        "colab": {
          "base_uri": "https://localhost:8080/",
          "height": 505
        },
        "outputId": "1957d497-cdeb-483b-d4e9-6c15717a082a"
      },
      "outputs": [
        {
          "output_type": "display_data",
          "data": {
            "text/plain": [
              "<Figure size 1000x600 with 1 Axes>"
            ],
            "image/png": "[encoded data removed]"
          },
          "metadata": {}
        }
      ],
      "source": [
        "# TODO: Plot results\n",
        "# Plot the validation accuracy over rotation angles\n",
        "plt.figure(figsize=(10, 6))\n",
        "plt.plot(rotation_angles, validation_accuracies, marker='o', linestyle='-', label=\"Validation Accuracy\")\n",
        "plt.title(\"Validation Accuracy vs. Rotation Angle\", fontsize=14)\n",
        "plt.xlabel(\"Rotation Angle (degrees)\", fontsize=12)\n",
        "plt.ylabel(\"Validation Accuracy\", fontsize=12)\n",
        "plt.xticks(rotation_angles, rotation_angles, rotation=45)\n",
        "plt.grid(True, linestyle='--', alpha=0.7)\n",
        "plt.legend(fontsize=12)\n",
        "plt.tight_layout()\n",
        "plt.show()\n"
      ]
    },
    {
      "cell_type": "markdown",
      "metadata": {
        "id": "H49k_5VyJ-eB"
      },
      "source": [
        "What do these results indicate? Add this plot in your report and discuss it."
      ]
    },
    {
      "cell_type": "markdown",
      "metadata": {
        "id": "IQwt8W6wJ-eB"
      },
      "source": [
        "## Part 3: Pixel shuffling\n",
        "\n",
        "In the first practical, we have investigated how the MLP reacts to shuffling the pixels of all images with a fixed, random permutation. Now, let's repeat this experiment for the CNNs. Does the CNN exploit the structural information differently than the MLP?\n",
        "\n",
        "The first step is to create datasets with a new shuffling of pixels:"
      ]
    },
    {
      "cell_type": "code",
      "execution_count": 79,
      "metadata": {
        "id": "40LjIYzXJ-eB"
      },
      "outputs": [],
      "source": [
        "# TODO: Create datasets and data loaders with a fixed, random shuffle of pixels\n",
        "fixed_permutation = torch.randperm(32 * 32 * 3)\n",
        "\n",
        "# Transform for pixel shuffling (fixed)\n",
        "class FixedPixelShuffleTransform:\n",
        "    def __init__(self, permutation):\n",
        "        self.permutation = permutation\n",
        "\n",
        "    def __call__(self, img):\n",
        "        img = torch.flatten(img)  # Flatten the image into a vector\n",
        "        img = img[self.permutation]  # Apply the fixed permutation\n",
        "        return img.view(3, 32, 32)  # Reshape to original dimensions\n",
        "\n",
        "# Transform for pixel shuffling (random)\n",
        "class RandomPixelShuffleTransform:\n",
        "    def __call__(self, img):\n",
        "        random_perm = torch.randperm(32 * 32 * 3)  # Generate a random permutation\n",
        "        img = torch.flatten(img)  # Flatten the image into a vector\n",
        "        img = img[random_perm]  # Apply the random permutation\n",
        "        return img.view(3, 32, 32)  # Reshape to original dimensions\n",
        "\n",
        "# Fixed shuffle transforms\n",
        "fixed_shuffled_train_transform = transforms.Compose([\n",
        "    transforms.RandomHorizontalFlip(),\n",
        "    transforms.RandomResizedCrop((32, 32), scale=(0.8, 1.0), ratio=(0.9, 1.1)),\n",
        "    transforms.ToTensor(),\n",
        "    FixedPixelShuffleTransform(fixed_permutation),\n",
        "    transforms.Normalize(DATA_MEANS, DATA_STD)\n",
        "])\n",
        "\n",
        "fixed_shuffled_test_transform = transforms.Compose([\n",
        "    transforms.ToTensor(),\n",
        "    FixedPixelShuffleTransform(fixed_permutation),\n",
        "    transforms.Normalize(DATA_MEANS, DATA_STD)\n",
        "])\n",
        "\n",
        "fixed_shuffled_val_transform = transforms.Compose([\n",
        "    transforms.ToTensor(),\n",
        "    FixedPixelShuffleTransform(fixed_permutation),\n",
        "    transforms.Normalize(DATA_MEANS, DATA_STD)\n",
        "])\n",
        "\n",
        "# Random shuffle transforms\n",
        "random_shuffled_train_transform = transforms.Compose([\n",
        "    transforms.RandomHorizontalFlip(),\n",
        "    transforms.RandomResizedCrop((32, 32), scale=(0.8, 1.0), ratio=(0.9, 1.1)),\n",
        "    transforms.ToTensor(),\n",
        "    RandomPixelShuffleTransform(),\n",
        "    transforms.Normalize(DATA_MEANS, DATA_STD)\n",
        "])\n",
        "\n",
        "random_shuffled_test_transform = transforms.Compose([\n",
        "    transforms.ToTensor(),\n",
        "    RandomPixelShuffleTransform(),\n",
        "    transforms.Normalize(DATA_MEANS, DATA_STD)\n",
        "])\n",
        "\n",
        "random_shuffled_val_transform = transforms.Compose([\n",
        "    transforms.ToTensor(),\n",
        "    RandomPixelShuffleTransform(),\n",
        "    transforms.Normalize(DATA_MEANS, DATA_STD)\n",
        "])\n",
        "\n",
        "\n",
        "# Fixed shuffle datasets\n",
        "fixed_shuffled_train_dataset = CIFAR10(root=DATASET_PATH, train=True, transform=fixed_shuffled_train_transform, download=False)\n",
        "fixed_shuffled_test_dataset = CIFAR10(root=DATASET_PATH, train=False, transform=fixed_shuffled_test_transform, download=False)\n",
        "fixed_shuffled_val_dataset = CIFAR10(root=DATASET_PATH, train=False, transform=fixed_shuffled_val_transform, download=False)\n",
        "\n",
        "\n",
        "# Random shuffle datasets\n",
        "random_shuffled_train_dataset = CIFAR10(root=DATASET_PATH, train=True, transform=random_shuffled_train_transform, download=False)\n",
        "random_shuffled_test_dataset = CIFAR10(root=DATASET_PATH, train=False, transform=random_shuffled_test_transform, download=False)\n",
        "random_shuffled_val_dataset = CIFAR10(root=DATASET_PATH, train=False, transform=random_shuffled_val_transform, download=False)\n",
        "\n",
        "\n",
        "# Data loaders for fixed shuffle\n",
        "fixed_shuffled_train_loader = data.DataLoader(fixed_shuffled_train_dataset, batch_size=128, shuffle=True, drop_last=True, num_workers=2)\n",
        "fixed_shuffled_test_loader = data.DataLoader(fixed_shuffled_test_dataset, batch_size=128, shuffle=False, drop_last=False, num_workers=2)\n",
        "fixed_shuffled_val_loader = data.DataLoader(fixed_shuffled_val_dataset, batch_size=128, shuffle=False, drop_last=False, num_workers=2)\n",
        "\n",
        "# Data loaders for random shuffle\n",
        "random_shuffled_train_loader = data.DataLoader(random_shuffled_train_dataset, batch_size=128, shuffle=True, drop_last=True, num_workers=2)\n",
        "random_shuffled_test_loader = data.DataLoader(random_shuffled_test_dataset, batch_size=128, shuffle=False, drop_last=False, num_workers=2)\n",
        "random_shuffled_val_loader = data.DataLoader(random_shuffled_val_dataset, batch_size=128, shuffle=False, drop_last=False, num_workers=2)\n",
        "\n",
        "\n"
      ]
    },
    {
      "cell_type": "code",
      "source": [
        "# Fixed random permutation\n",
        "fixed_shuffled_model, fixed_shuffled_results = train_model(\n",
        "    save_name='Fixed_Shuffled_ResNet',\n",
        "    max_epochs=10,\n",
        "    model_hparams={\"num_classes\": 10,\n",
        "                   \"c_hidden\": [16, 24, 32],\n",
        "                   \"num_blocks\": [2, 2, 3]},\n",
        "    optimizer_hparams={\"lr\": 0.01, \"momentum\": 0.9, \"weight_decay\": 1e-4},\n",
        "    data_loaders={\"train\": fixed_shuffled_train_loader,\n",
        "                  \"val\": fixed_shuffled_val_loader,  # Validation remains unshuffled\n",
        "                  \"test\": fixed_shuffled_test_loader}\n",
        ")\n",
        "\n",
        "print(fixed_shuffled_results)\n"
      ],
      "metadata": {
        "id": "FUMOuNRJwqCM",
        "colab": {
          "base_uri": "https://localhost:8080/"
        },
        "outputId": "2065b401-b7d2-4082-cf53-62c3365e2d57"
      },
      "execution_count": 80,
      "outputs": [
        {
          "output_type": "stream",
          "name": "stderr",
          "text": [
            "Trainer will use only 1 of 4 GPUs because it is running inside an interactive / notebook environment. You may try to set `Trainer(devices=4)` but please note that multi-GPU inside interactive / notebook environments is considered experimental and unstable. Your mileage may vary.\n",
            "GPU available: True (cuda), used: True\n",
            "TPU available: False, using: 0 TPU cores\n",
            "HPU available: False, using: 0 HPUs\n",
            "LOCAL_RANK: 0 - CUDA_VISIBLE_DEVICES: [0,1,2,3]\n"
          ]
        },
        {
          "output_type": "stream",
          "name": "stdout",
          "text": [
            "trainer log dir:saved_models/practical2/Fixed_Shuffled_ResNet/lightning_logs/version_1\n",
            "Found pretrained model at ./saved_models/practical2/Fixed_Shuffled_ResNet.ckpt, loading...\n",
            "Testing DataLoader 0: 100%|██████████| 79/79 [00:01<00:00, 76.62it/s]\n"
          ]
        },
        {
          "output_type": "stream",
          "name": "stderr",
          "text": [
            "LOCAL_RANK: 0 - CUDA_VISIBLE_DEVICES: [0,1,2,3]\n"
          ]
        },
        {
          "output_type": "stream",
          "name": "stdout",
          "text": [
            "Testing DataLoader 0: 100%|██████████| 79/79 [00:01<00:00, 75.40it/s]\n",
            "model existed in ./saved_models/practical2/Fixed_Shuffled_ResNet.ckpt with result of {'test': 0.438400000333786, 'val': 0.438400000333786}\n",
            "continue?\n",
            "n\n",
            "{'test': 0.438400000333786, 'val': 0.438400000333786}\n"
          ]
        }
      ]
    },
    {
      "cell_type": "markdown",
      "metadata": {
        "id": "T2JPgGvGJ-eB"
      },
      "source": [
        "Next, we can start the training of the model. You can limit your number of epochs to a smaller number like 10."
      ]
    },
    {
      "cell_type": "code",
      "execution_count": 81,
      "metadata": {
        "id": "hyFWMSaoJ-eH",
        "colab": {
          "base_uri": "https://localhost:8080/"
        },
        "outputId": "dbe8cf12-f652-4820-c2a2-49bd7f0c0e60"
      },
      "outputs": [
        {
          "output_type": "stream",
          "name": "stderr",
          "text": [
            "Trainer will use only 1 of 4 GPUs because it is running inside an interactive / notebook environment. You may try to set `Trainer(devices=4)` but please note that multi-GPU inside interactive / notebook environments is considered experimental and unstable. Your mileage may vary.\n",
            "GPU available: True (cuda), used: True\n",
            "TPU available: False, using: 0 TPU cores\n",
            "HPU available: False, using: 0 HPUs\n",
            "LOCAL_RANK: 0 - CUDA_VISIBLE_DEVICES: [0,1,2,3]\n"
          ]
        },
        {
          "output_type": "stream",
          "name": "stdout",
          "text": [
            "trainer log dir:saved_models/practical2/Random_Shuffled_ResNet/lightning_logs/version_1\n",
            "Found pretrained model at ./saved_models/practical2/Random_Shuffled_ResNet.ckpt, loading...\n",
            "Testing DataLoader 0: 100%|██████████| 79/79 [00:01<00:00, 65.33it/s]\n"
          ]
        },
        {
          "output_type": "stream",
          "name": "stderr",
          "text": [
            "LOCAL_RANK: 0 - CUDA_VISIBLE_DEVICES: [0,1,2,3]\n"
          ]
        },
        {
          "output_type": "stream",
          "name": "stdout",
          "text": [
            "Testing DataLoader 0: 100%|██████████| 79/79 [00:01<00:00, 66.13it/s]\n",
            "model existed in ./saved_models/practical2/Random_Shuffled_ResNet.ckpt with result of {'test': 0.21410000324249268, 'val': 0.218299999833107}\n",
            "continue?\n",
            "n\n",
            "{'test': 0.21410000324249268, 'val': 0.218299999833107}\n"
          ]
        }
      ],
      "source": [
        "# TODO: Create datasets and data loaders with random shuffle of pixels\n",
        "random_shuffled_model, random_shuffled_results = train_model(\n",
        "    save_name='Random_Shuffled_ResNet',\n",
        "    max_epochs=10,\n",
        "    model_hparams={\"num_classes\": 10,\n",
        "                   \"c_hidden\": [16, 24, 32],\n",
        "                   \"num_blocks\": [2, 2, 3]},\n",
        "    optimizer_hparams={\"lr\": 0.01, \"momentum\": 0.9, \"weight_decay\": 1e-4},\n",
        "    data_loaders={\"train\": random_shuffled_train_loader,\n",
        "                  \"val\": random_shuffled_val_loader,  # Validation remains unshuffled\n",
        "                  \"test\": random_shuffled_test_loader}\n",
        ")\n",
        "\n",
        "print(random_shuffled_results)\n"
      ]
    },
    {
      "cell_type": "code",
      "execution_count": 82,
      "metadata": {
        "id": "QCE5XP2NJ-eH",
        "colab": {
          "base_uri": "https://localhost:8080/",
          "height": 530
        },
        "outputId": "25955d5f-3b7d-41c3-a5c7-9ed1b6ea3b22"
      },
      "outputs": [
        {
          "output_type": "display_data",
          "data": {
            "text/plain": [
              "<Figure size 640x480 with 1 Axes>"
            ],
            "image/png": "[encoded data removed]"
          },
          "metadata": {}
        },
        {
          "output_type": "stream",
          "name": "stdout",
          "text": [
            "Results Summary:\n",
            "Original Dataset - Test Accuracy: 0.8272, Validation Accuracy: 0.8342\n",
            "Fixed Shuffle Dataset - Test Accuracy: 0.4384, Validation Accuracy: 0.4384\n",
            "Random Shuffle Dataset - Test Accuracy: 0.2141, Validation Accuracy: 0.2183\n"
          ]
        }
      ],
      "source": [
        "# TODO: Print the results and look at your tensorboard\n",
        "results = {\n",
        "    \"Original\": resnet_results[\"test\"],\n",
        "    \"Fixed Shuffle\": fixed_shuffled_results[\"test\"],\n",
        "    \"Random Shuffle\": random_shuffled_results[\"test\"]\n",
        "}\n",
        "\n",
        "labels, values = zip(*results.items())\n",
        "plt.bar(labels, values)\n",
        "plt.title(\"Test Accuracy for Different Pixel Shuffles\")\n",
        "plt.ylabel(\"Accuracy\")\n",
        "plt.show()\n",
        "\n",
        "\n",
        "print(\"Results Summary:\")\n",
        "print(f\"Original Dataset - Test Accuracy: {resnet_results['test']:.4f}, Validation Accuracy: {resnet_results['val']:.4f}\")\n",
        "print(f\"Fixed Shuffle Dataset - Test Accuracy: {fixed_shuffled_results['test']:.4f}, Validation Accuracy: {fixed_shuffled_results['val']:.4f}\")\n",
        "print(f\"Random Shuffle Dataset - Test Accuracy: {random_shuffled_results['test']:.4f}, Validation Accuracy: {random_shuffled_results['val']:.4f}\")\n",
        "\n"
      ]
    },
    {
      "cell_type": "code",
      "source": [
        "%load_ext tensorboard\n",
        "%tensorboard --logdir {CHECKPOINT_PATH}"
      ],
      "metadata": {
        "id": "euNO-yvxxG8Z",
        "colab": {
          "base_uri": "https://localhost:8080/",
          "height": 894
        },
        "outputId": "a54e62c6-6a8c-4cf8-e333-bdfa0e3d6b7f"
      },
      "execution_count": 83,
      "outputs": [
        {
          "output_type": "stream",
          "name": "stdout",
          "text": [
            "The tensorboard extension is already loaded. To reload it, use:\n",
            "  %reload_ext tensorboard\n"
          ]
        },
        {
          "output_type": "display_data",
          "data": {
            "text/plain": [
              "Reusing TensorBoard on port 6006 (pid 26710), started 0:14:33 ago. (Use '!kill 26710' to kill it.)"
            ]
          },
          "metadata": {}
        },
        {
          "output_type": "display_data",
          "data": {
            "text/plain": [
              "<IPython.core.display.HTML object>"
            ],
            "text/html": [
              "\n",
              "      <iframe id=\"tensorboard-frame-bdd640fb06671ad1\" width=\"100%\" height=\"800\" frameborder=\"0\">\n",
              "      </iframe>\n",
              "      <script>\n",
              "        (function() {\n",
              "          const frame = document.getElementById(\"tensorboard-frame-bdd640fb06671ad1\");\n",
              "          const url = new URL(\"/\", window.location);\n",
              "          const port = 6006;\n",
              "          if (port) {\n",
              "            url.port = port;\n",
              "          }\n",
              "          frame.src = url;\n",
              "        })();\n",
              "      </script>\n",
              "    "
            ]
          },
          "metadata": {}
        }
      ]
    },
    {
      "cell_type": "code",
      "source": [
        "%tensorboard --logdir {CHECKPOINT_PATH}"
      ],
      "metadata": {
        "id": "G28ifsPd2aZn",
        "outputId": "391f23e8-35d1-46d9-e702-36de54d98334",
        "colab": {
          "base_uri": "https://localhost:8080/",
          "height": 858
        }
      },
      "execution_count": 84,
      "outputs": [
        {
          "output_type": "display_data",
          "data": {
            "text/plain": [
              "Reusing TensorBoard on port 6006 (pid 26710), started 0:14:34 ago. (Use '!kill 26710' to kill it.)"
            ]
          },
          "metadata": {}
        },
        {
          "output_type": "display_data",
          "data": {
            "text/plain": [
              "<IPython.core.display.HTML object>"
            ],
            "text/html": [
              "\n",
              "      <iframe id=\"tensorboard-frame-3eb13b9046685257\" width=\"100%\" height=\"800\" frameborder=\"0\">\n",
              "      </iframe>\n",
              "      <script>\n",
              "        (function() {\n",
              "          const frame = document.getElementById(\"tensorboard-frame-3eb13b9046685257\");\n",
              "          const url = new URL(\"/\", window.location);\n",
              "          const port = 6006;\n",
              "          if (port) {\n",
              "            url.port = port;\n",
              "          }\n",
              "          frame.src = url;\n",
              "        })();\n",
              "      </script>\n",
              "    "
            ]
          },
          "metadata": {}
        }
      ]
    },
    {
      "cell_type": "markdown",
      "metadata": {
        "id": "YpSOXFipJ-eI"
      },
      "source": [
        "Add your observations to your report and discuss what this implies for CNNs."
      ]
    },
    {
      "cell_type": "markdown",
      "metadata": {
        "id": "rOWFWg4lJ-eI"
      },
      "source": [
        "## Conclusion\n",
        "\n",
        "In this practical, you gained some handson experience with CNNs on computer vision for classification. Your experiments probably give you a good indication why CNNs are a very popular choice for computer vision problems, but also what they can and cannot do."
      ]
    }
  ],
  "metadata": {
    "kernelspec": {
      "display_name": "Python 3",
      "name": "python3"
    },
    "language_info": {
      "codemirror_mode": {
        "name": "ipython",
        "version": 3
      },
      "file_extension": ".py",
      "mimetype": "text/x-python",
      "name": "python",
      "nbconvert_exporter": "python",
      "pygments_lexer": "ipython3",
      "version": "3.9.7"
    },
    "colab": {
      "provenance": [],
      "gpuType": "T4"
    },
    "accelerator": "GPU"
  },
  "nbformat": 4,
  "nbformat_minor": 0
}