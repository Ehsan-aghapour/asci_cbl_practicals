{
  "cells": [
    {
      "cell_type": "markdown",
      "metadata": {
        "id": "aRxLG948oVX9"
      },
      "source": [
        "# Practical 5: Self-Supervised Contrastive Learning with SimCLR\n",
        "\n",
        "**Open notebook:**\n",
        "[![View on Github](https://img.shields.io/static/v1.svg?logo=github&label=Repo&message=View%20On%20Github&color=lightgrey)](https://github.com/phlippe/asci_cbl_practicals/blob/main/notebooks/5_Self_Supervised_Learning.ipynb)\n",
        "[![Open In Collab](https://colab.research.google.com/assets/colab-badge.svg)](https://colab.research.google.com/github/phlippe/asci_cbl_practicals/blob/main/notebooks/5_Self_Supervised_Learning.ipynb)    \n",
        "**Authors:** Phillip Lippe"
      ]
    },
    {
      "cell_type": "code",
      "source": [
        "Colab_server=False\n",
        "import os\n",
        "from pytorch_lightning.callbacks import TQDMProgressBar\n",
        "if Colab_server:\n",
        "    from google.colab import drive\n",
        "    drive.mount('/content/drive',force_remount=True)\n",
        "\n",
        "# Path to the folder where the datasets are/should be downloaded (e.g. CIFAR10)\n",
        "DATASET_PATH = \"/home/ehsan/data\"\n",
        "# Path to the folder where the pretrained models are saved\n",
        "CHECKPOINT_PATH = \"/home/ehsan/saved_models/practical5\"\n",
        "if Colab_server:\n",
        "    DATASET_PATH = \"../data\"\n",
        "    CHECKPOINT_PATH = \"/content/drive/MyDrive/saved_models/practical5\"\n",
        "os.makedirs(CHECKPOINT_PATH, exist_ok=True)\n",
        "\n",
        "#!jupyter nbconvert --to script ...ipynb\n",
        "\n",
        "print(os.listdir(CHECKPOINT_PATH))\n",
        "\n",
        "if not Colab_server:\n",
        "    import os\n",
        "    os.environ['TENSORBOARD_BINARY'] = '/home/ehsan/.local/bin/tensorboard'\n"
      ],
      "metadata": {
        "colab": {
          "base_uri": "https://localhost:8080/"
        },
        "id": "OBgI9Z3T4I7R",
        "outputId": "6accc40b-380e-4d86-b89b-70d386499e7f"
      },
      "execution_count": 54,
      "outputs": [
        {
          "output_type": "stream",
          "name": "stdout",
          "text": [
            "[]\n"
          ]
        }
      ]
    },
    {
      "cell_type": "markdown",
      "metadata": {
        "id": "jUa0XuoRoVYB"
      },
      "source": [
        "In this practical, we will take a closer look at self-supervised contrastive learning. Self-supervised learning, or also sometimes called unsupervised learning, describes the scenario where we have given input data, but no accompanying labels to train in a classical supervised way. However, this data still contains a lot of information from which we can learn: how are the images different from each other? What patterns are descriptive for certain images? Can we cluster the images? And so on. Methods for self-supervised learning try to learn as much as possible from the data alone, so it can quickly be finetuned for a specific classification task.\n",
        "The benefit of self-supervised learning is that a large dataset can often easily be obtained. For instance, if we want to train a vision model on semantic segmentation for autonomous driving, we can collect large amounts of data by simply installing a camera in a car, and driving through a city for an hour. In contrast, if we would want to do supervised learning, we would have to manually label all those images before training a model. This is extremely expensive, and would likely take a couple of months to manually label the same amount of data. Further, self-supervised learning can provide an alternative to transfer learning from models pretrained on ImageNet since we could pretrain a model on a specific dataset/situation, e.g. traffic scenarios for autonomous driving.\n",
        "\n",
        "Within the last two years, a lot of new approaches have been proposed for self-supervised learning, in particular for images, that have resulted in great improvements over supervised models when few labels are available. The subfield that we will focus on in this tutorial is contrastive learning. Contrastive learning is motivated by the question mentioned above: how are images different from each other? Specifically, contrastive learning methods train a model to cluster an image and its slightly augmented version in latent space, while the distance to other images should be maximized. A very recent and simple method for this is [SimCLR](https://arxiv.org/abs/2006.10029), which is visualized below (figure credit - [Ting Chen et al.](https://simclr.github.io/)).\n",
        "\n",
        "<center width=\"100%\"><img src=\"https://github.com/Ehsan-aghapour/asci_cbl_practicals/blob/main/notebooks/figures/simclr_contrastive_learning.png?raw=1\" width=\"500px\"></center>\n",
        "\n",
        "The general setup is that we are given a dataset of images without any labels, and want to train a model on this data such that it can quickly adapt to any image recognition task afterward. During each training iteration, we sample a batch of images as usual. For each image, we create two versions by applying data augmentation techniques like cropping, Gaussian noise, blurring, etc. An example of such is shown on the left with the image of the dog. We will go into the details and effects of the chosen augmentation techniques later. On those images, we apply a CNN like ResNet and obtain as output a 1D feature vector on which we apply a small MLP. The output features of the two augmented images are then trained to be close to each other, while all other images in that batch should be as different as possible. This way, the model has to learn to recognize the content of the image that remains unchanged under the data augmentations, such as objects which we usually care about in supervised tasks.\n",
        "\n",
        "We will now implement this framework ourselves and discuss further details along the way. Let's first start with importing our standard libraries below:"
      ]
    },
    {
      "cell_type": "code",
      "execution_count": 55,
      "metadata": {
        "colab": {
          "base_uri": "https://localhost:8080/"
        },
        "id": "V1vXQ3BIoVYD",
        "outputId": "85bcdaa4-6d40-445d-c2bf-3a0a7cf4ceba"
      },
      "outputs": [
        {
          "output_type": "stream",
          "name": "stderr",
          "text": [
            "Seed set to 42\n"
          ]
        },
        {
          "output_type": "stream",
          "name": "stdout",
          "text": [
            "The tensorboard extension is already loaded. To reload it, use:\n",
            "  %reload_ext tensorboard\n",
            "Device: cuda:0\n",
            "Number of workers: 16\n"
          ]
        }
      ],
      "source": [
        "## Standard libraries\n",
        "import os\n",
        "import numpy as np\n",
        "import random\n",
        "import math\n",
        "import json\n",
        "from functools import partial\n",
        "from PIL import Image\n",
        "\n",
        "## Imports for plotting\n",
        "import matplotlib.pyplot as plt\n",
        "%matplotlib inline\n",
        "import seaborn as sns\n",
        "sns.set()\n",
        "\n",
        "## tqdm for loading bars\n",
        "from tqdm.notebook import tqdm\n",
        "\n",
        "## PyTorch\n",
        "import torch\n",
        "import torch.nn as nn\n",
        "import torch.nn.functional as F\n",
        "import torch.utils.data as data\n",
        "import torch.optim as optim\n",
        "\n",
        "## Torchvision\n",
        "import torchvision\n",
        "from torchvision.datasets import CIFAR10, STL10\n",
        "from torchvision import transforms\n",
        "\n",
        "# PyTorch Lightning\n",
        "try:\n",
        "    import pytorch_lightning as pl\n",
        "except ModuleNotFoundError: # Google Colab does not have PyTorch Lightning installed by default. Hence, we do it here if necessary\n",
        "    !pip install --quiet pytorch-lightning>=1.6\n",
        "    import pytorch_lightning as pl\n",
        "from pytorch_lightning.callbacks import LearningRateMonitor, ModelCheckpoint\n",
        "\n",
        "# Import tensorboard\n",
        "%load_ext tensorboard\n",
        "\n",
        "# Path to the folder where the datasets are/should be downloaded (e.g. CIFAR10)\n",
        "##DATASET_PATH = \"../data\"\n",
        "# Path to the folder where the pretrained models are saved\n",
        "##CHECKPOINT_PATH = \"../saved_models/practical5\"\n",
        "\n",
        "# Setting the seed\n",
        "pl.seed_everything(42)\n",
        "# In this notebook, we use data loaders with heavier computational processing. It is recommended to use as many\n",
        "# workers as possible in a data loader, which corresponds to the number of CPU cores\n",
        "NUM_WORKERS = os.cpu_count()\n",
        "\n",
        "# Ensure that all operations are deterministic on GPU (if used) for reproducibility\n",
        "torch.backends.cudnn.determinstic = True\n",
        "torch.backends.cudnn.benchmark = False\n",
        "\n",
        "device = torch.device(\"cuda:0\") if torch.cuda.is_available() else torch.device(\"cpu\")\n",
        "print(\"Device:\", device)\n",
        "print(\"Number of workers:\", NUM_WORKERS)"
      ]
    },
    {
      "cell_type": "markdown",
      "metadata": {
        "id": "7f29KFz1oVYH"
      },
      "source": [
        "## Data Augmentation for Contrastive Learning\n",
        "\n",
        "We will start our exploration of contrastive learning by discussing the effect of different data augmentation techniques, and how we can implement an efficient data loader for such. To allow efficient training, we need to prepare the data loading such that we sample two different, random augmentations for each image in the batch. The easiest way to do this is by creating a transformation that, when being called, applies a set of data augmentations to an image twice. This is implemented in the class `ContrastiveTransformations` below:"
      ]
    },
    {
      "cell_type": "code",
      "execution_count": 56,
      "metadata": {
        "id": "9VTdqiJooVYI"
      },
      "outputs": [],
      "source": [
        "class ContrastiveTransformations(object):\n",
        "\n",
        "    def __init__(self, base_transforms, n_views=2):\n",
        "        self.base_transforms = base_transforms\n",
        "        self.n_views = n_views\n",
        "\n",
        "    def __call__(self, x):\n",
        "        return [self.base_transforms(x) for i in range(self.n_views)]"
      ]
    },
    {
      "cell_type": "markdown",
      "metadata": {
        "id": "_pDLuhY4oVYJ"
      },
      "source": [
        "The contrastive learning framework can easily be extended to have more _positive_ examples by sampling more than two augmentations of the same image. However, the most efficient training is usually obtained by using only two.\n",
        "\n",
        "Next, we can look at the specific augmentations we want to apply. The choice of the data augmentation to use is the most crucial hyperparameter in SimCLR since it directly affects how the latent space is structured, and what patterns might be learned from the data. Let's first take a look at some of the most popular data augmentations (figure credit - [Ting Chen and Geoffrey Hinton](https://ai.googleblog.com/2020/04/advancing-self-supervised-and-semi.html)):\n",
        "\n",
        "<center width=\"100%\"><img src=\"https://github.com/Ehsan-aghapour/asci_cbl_practicals/blob/main/notebooks/figures/simclr_data_augmentations.png?raw=1\" width=\"800px\" style=\"padding-top: 10px; padding-bottom: 10px\"></center>\n",
        "\n",
        "All of them can be used, but it turns out that two augmentations stand out in their importance: crop-and-resize, and color distortion. Interestingly, however, they only lead to strong performance if they have been used together as discussed by [Ting Chen et al.](https://arxiv.org/abs/2006.10029) in their SimCLR paper. When performing randomly cropping and resizing, we can distinguish between two situations: (a) cropped image A provides a local view of cropped image B, or (b) cropped images C and D show neighboring views of the same image (figure credit - [Ting Chen and Geoffrey Hinton](https://ai.googleblog.com/2020/04/advancing-self-supervised-and-semi.html)).\n",
        "\n",
        "<center width=\"100%\"><img src=\"https://github.com/Ehsan-aghapour/asci_cbl_practicals/blob/main/notebooks/figures/crop_views.svg?raw=1\" width=\"400px\" style=\"padding-top: 20px; padding-bottom: 0px\"></center>\n",
        "\n",
        "While situation (a) requires the model to learn some sort of scale invariance to make crops A and B similar in latent space, situation (b) is more challenging since the model needs to recognize an object beyond its limited view. However, without color distortion, there is a loophole that the model can exploit, namely that different crops of the same image usually look very similar in color space. Consider the picture of the dog above. Simply from the color of the fur and the green color tone of the background, you can reason that two patches belong to the same image without actually recognizing the dog in the picture. In this case, the model might end up focusing only on the color histograms of the images, and ignore other more generalizable features. If, however, we distort the colors in the two patches randomly and independently of each other, the model cannot rely on this simple feature anymore. Hence, by combining random cropping and color distortions, the model can only match two patches by learning generalizable representations.\n",
        "\n",
        "Overall, for our experiments, we apply a set of 5 transformations following the original SimCLR setup: random horizontal flip, crop-and-resize, color distortion, random grayscale, and gaussian blur. In comparison to the [original implementation](https://github.com/google-research/simclr), we reduce the effect of the color jitter slightly (0.5 instead of 0.8 for brightness, contrast, and saturation, and 0.1 instead of 0.2 for hue). In our experiments, this setting obtained better performance and was faster and more stable to train. If, for instance, the brightness scale highly varies in a dataset, the original settings can be more beneficial since the model can't rely on this information anymore to distinguish between images."
      ]
    },
    {
      "cell_type": "code",
      "execution_count": 57,
      "metadata": {
        "id": "bmROYOWJoVYJ"
      },
      "outputs": [],
      "source": [
        "contrast_transforms = transforms.Compose([transforms.RandomHorizontalFlip(),\n",
        "                                          transforms.RandomResizedCrop(size=32, scale=(0.25, 1.0)),\n",
        "                                          transforms.RandomApply([\n",
        "                                              transforms.ColorJitter(brightness=0.5,\n",
        "                                                                     contrast=0.5,\n",
        "                                                                     saturation=0.5,\n",
        "                                                                     hue=0.1)\n",
        "                                          ], p=0.8),\n",
        "                                          transforms.RandomGrayscale(p=0.2),\n",
        "                                          transforms.GaussianBlur(kernel_size=3),\n",
        "                                          transforms.ToTensor(),\n",
        "                                          transforms.Normalize((0.5,), (0.5,))\n",
        "                                         ])"
      ]
    },
    {
      "cell_type": "markdown",
      "metadata": {
        "id": "ZlP1ioPqoVYK"
      },
      "source": [
        "After discussing the data augmentation techniques, we can now focus on the dataset. In this tutorial, we will use the [STL10 dataset](https://cs.stanford.edu/~acoates/stl10/), which, similarly to CIFAR10, contains images of 10 classes: airplane, bird, car, cat, deer, dog, horse, monkey, ship, truck. However, the images have a higher resolution, namely $96\\times 96$ pixels, and we are only provided with 500 labeled images per class. Additionally, we have a much larger set of $100,000$ unlabeled images which are similar to the training images but are sampled from a wider range of animals and vehicles. This makes the dataset ideal to showcase the benefits that self-supervised learning offers. For this practical, however, to reduce the computationally complexity, we will downscale the images back to $32\\times 32$ pixels.\n",
        "\n",
        "Luckily, the STL10 dataset is provided through torchvision. Keep in mind, however, that since this dataset is relatively large and has a considerably higher resolution than CIFAR10, it requires more disk space (~3GB) and takes a bit of time to download. For our initial discussion of self-supervised learning and SimCLR, we will create two data loaders with our contrastive transformations above: the `unlabeled_data` will be used to train our model via contrastive learning, and `train_data_contrast` will be used as a validation set in contrastive learning."
      ]
    },
    {
      "cell_type": "code",
      "execution_count": 58,
      "metadata": {
        "colab": {
          "base_uri": "https://localhost:8080/"
        },
        "id": "nyn7wHH-oVYL",
        "outputId": "75efae4c-8c8a-47a4-d841-2622b8ad560b"
      },
      "outputs": [
        {
          "output_type": "stream",
          "name": "stdout",
          "text": [
            "Files already downloaded and verified\n",
            "Files already downloaded and verified\n"
          ]
        }
      ],
      "source": [
        "unlabeled_data = STL10(root=DATASET_PATH, split='unlabeled', download=True,\n",
        "                       transform=ContrastiveTransformations(contrast_transforms, n_views=2))\n",
        "train_data_contrast = STL10(root=DATASET_PATH, split='train', download=True,\n",
        "                            transform=ContrastiveTransformations(contrast_transforms, n_views=2))"
      ]
    },
    {
      "cell_type": "code",
      "execution_count": 59,
      "metadata": {
        "colab": {
          "base_uri": "https://localhost:8080/",
          "height": 17,
          "referenced_widgets": [
            "5208a60893e141308f352fd5bd6b4adf",
            "1481941ff168400fa51ed90c7e548761",
            "114c35fe10bb40ccb13b58e130bd76a3",
            "7b18ffbdb88e449c8eb47c91e6742550",
            "0936327227f14d23a00d47d0b5145bab",
            "98025d77115e406ea94f0930180a4178",
            "58eeb5e606a044038382e781ae8a5f30",
            "3e56981f885f438db9d0ee2ff426dd0f",
            "b35cc8fd735a42dd99fe6a63dada25e4",
            "22a70857813a4f6481b6297763afe5fb",
            "67ebc303937e4f0d95fcd11be558de0e",
            "10ec4f66665c4e29bbfc6335b344eabf",
            "084ba1a8fd0140858fd6077db744baf2",
            "3bd72d12b58e488cb38cb52776c8a424",
            "b5bbef4a41d5489da7091e52e0862d0a",
            "19b0112788bb4f409b7dad7de27aacf7",
            "00b0b806ccf84ca58b302765980a03a2",
            "81997f19567a43398e0062cf3856bae9",
            "a635e90d6d904293a8590ea3e420f8b6",
            "0825c62bac56424189cb97f4d48d625d",
            "19bba2f09cf146cb833ead0c289c6016",
            "d7b9fefe7f814eafb88144e56b37f9d3"
          ]
        },
        "id": "EE49Jwl6oVYM",
        "outputId": "a360c12b-4d6b-4aa5-c2d8-0cad413eb8ee"
      },
      "outputs": [
        {
          "output_type": "display_data",
          "data": {
            "text/plain": [
              "  0%|          | 0/1000 [00:00<?, ?it/s]"
            ],
            "application/vnd.jupyter.widget-view+json": {
              "version_major": 2,
              "version_minor": 0,
              "model_id": "5208a60893e141308f352fd5bd6b4adf"
            }
          },
          "metadata": {}
        },
        {
          "output_type": "display_data",
          "data": {
            "text/plain": [
              "  0%|          | 0/50 [00:00<?, ?it/s]"
            ],
            "application/vnd.jupyter.widget-view+json": {
              "version_major": 2,
              "version_minor": 0,
              "model_id": "10ec4f66665c4e29bbfc6335b344eabf"
            }
          },
          "metadata": {}
        }
      ],
      "source": [
        "# Downscale images to 32x32 directly in arrays to save RAM and data loading computation\n",
        "def downscale_dataset(dataset):\n",
        "    data = dataset.data\n",
        "    num_imgs = data.shape[0]\n",
        "    new_data = np.zeros((num_imgs, data.shape[1], 32, 32), dtype=data.dtype)\n",
        "    for i in tqdm(range(0, num_imgs, 100)):\n",
        "        new_data[i:i+100] = transforms.functional.resize(torch.from_numpy(data[i:i+100]).float(), size=[32, 32]).to(torch.uint8).numpy()\n",
        "    dataset.data = new_data\n",
        "\n",
        "downscale_dataset(unlabeled_data)\n",
        "downscale_dataset(train_data_contrast)"
      ]
    },
    {
      "cell_type": "markdown",
      "metadata": {
        "id": "7sk6u0DFoVYM"
      },
      "source": [
        "Finally, before starting with our implementation of SimCLR, let's look at some example image pairs sampled with our augmentations:"
      ]
    },
    {
      "cell_type": "code",
      "execution_count": 60,
      "metadata": {
        "colab": {
          "base_uri": "https://localhost:8080/",
          "height": 454
        },
        "id": "_BBvd_t6oVYN",
        "outputId": "539e5dc8-42fe-4c64-f78e-54d76f63ef7e"
      },
      "outputs": [
        {
          "output_type": "stream",
          "name": "stderr",
          "text": [
            "Seed set to 42\n"
          ]
        },
        {
          "output_type": "display_data",
          "data": {
            "text/plain": [
              "<Figure size 1400x700 with 1 Axes>"
            ],
            "image/png": "[encoded data removed]"
          },
          "metadata": {}
        }
      ],
      "source": [
        "# Visualize some examples\n",
        "pl.seed_everything(42)\n",
        "NUM_IMAGES = 6\n",
        "imgs = torch.stack([img for idx in range(NUM_IMAGES) for img in unlabeled_data[idx][0]], dim=0)\n",
        "img_grid = torchvision.utils.make_grid(imgs, nrow=6, normalize=True, pad_value=0.9)\n",
        "img_grid = img_grid.permute(1, 2, 0)\n",
        "\n",
        "plt.figure(figsize=(14,7))\n",
        "plt.title('Augmented image examples of the STL10 dataset', fontsize=20)\n",
        "plt.imshow(img_grid)\n",
        "plt.axis('off')\n",
        "plt.show()\n",
        "plt.close()"
      ]
    },
    {
      "cell_type": "markdown",
      "metadata": {
        "id": "EKi7u9lqoVYO"
      },
      "source": [
        "We see the wide variety of our data augmentation, including randomly cropping, grayscaling, gaussian blur, and color distortion. Thus, it remains a challenging task for the model to match two, independently augmented patches of the same image."
      ]
    },
    {
      "cell_type": "markdown",
      "metadata": {
        "id": "DuP2a87koVYO"
      },
      "source": [
        "## Part 1: SimCLR implementation\n",
        "\n",
        "Using the data loader pipeline above, we can now implement SimCLR. At each iteration, we get for every image $x$ two differently augmented versions, which we refer to as $\\tilde{x}_i$ and $\\tilde{x}_j$. Both of these images are encoded into a one-dimensional feature vector, between which we want to maximize similarity which minimizes it to all other images in the batch. The encoder network is split into two parts: a base encoder network $f(\\cdot)$, and a projection head $g(\\cdot)$. The base network is usually a deep CNN as we have seen in e.g. [Tutorial 5](https://uvadlc-notebooks.readthedocs.io/en/latest/tutorial_notebooks/tutorial5/Inception_ResNet_DenseNet.html) before, and is responsible for extracting a representation vector from the augmented data examples. In our experiments, we will use the common ResNet-18 architecture as $f(\\cdot)$, and refer to the output as $f(\\tilde{x}_i)=h_i$. The projection head $g(\\cdot)$ maps the representation $h$ into a space where we apply the contrastive loss, i.e., compare similarities between vectors. It is often chosen to be a small MLP with non-linearities, and for simplicity, we follow the original SimCLR paper setup by defining it as a two-layer MLP with ReLU activation in the hidden layer. Note that in the follow-up paper, [SimCLRv2](https://arxiv.org/abs/2006.10029), the authors mention that larger/wider MLPs can boost the performance considerably. This is why we apply an MLP with four times larger hidden dimensions, but deeper MLPs showed to overfit on the given dataset. The general setup is visualized below (figure credit - [Ting Chen et al.](https://arxiv.org/abs/2006.10029)):\n",
        "\n",
        "<center width=\"100%\"><img src=\"https://github.com/Ehsan-aghapour/asci_cbl_practicals/blob/main/notebooks/figures/simclr_network_setup.svg?raw=1\" width=\"350px\"></center>\n",
        "\n",
        "After finishing the training with contrastive learning, we will remove the projection head $g(\\cdot)$, and use $f(\\cdot)$ as a pretrained feature extractor. The representations $z$ that come out of the projection head $g(\\cdot)$ have been shown to perform worse than those of the base network $f(\\cdot)$ when finetuning the network for a new task. This is likely because the representations $z$ are trained to become invariant to many features like the color that can be important for downstream tasks. Thus, $g(\\cdot)$ is only needed for the contrastive learning stage.\n",
        "\n",
        "Let's first start by implementing a Base Network which will represent function $f(\\cdot)$. Usually, you would use very large, powerful networks like a deep ResNet, but these are very expensive to train. To reduce the computational cost and make it possible to reasonable train the models on Google Colab, we provide a very simple CNN here:"
      ]
    },
    {
      "cell_type": "code",
      "execution_count": 61,
      "metadata": {
        "id": "GqeAq0epoVYP"
      },
      "outputs": [],
      "source": [
        "class BaseNetwork(nn.Module):\n",
        "\n",
        "    def __init__(self, num_input_channels, c_hid, output_dim):\n",
        "        \"\"\"\n",
        "        Inputs:\n",
        "            - num_input_channels : Number of input channels of the image. For CIFAR, this parameter is 3\n",
        "            - c_hid : Number of channels we use in the first convolutional layers. Deeper layers might use a duplicate of it.\n",
        "            - output_dim : Dimensionality of the final latent representation\n",
        "        \"\"\"\n",
        "        super().__init__()\n",
        "        self.net = nn.Sequential(\n",
        "            nn.Conv2d(num_input_channels, c_hid, kernel_size=3, padding=1, stride=2), # 32x32 => 16x16\n",
        "            nn.BatchNorm2d(c_hid),\n",
        "            nn.SiLU(),\n",
        "            nn.Conv2d(c_hid, c_hid, kernel_size=3, padding=1),\n",
        "            nn.BatchNorm2d(c_hid),\n",
        "            nn.SiLU(),\n",
        "            nn.Conv2d(c_hid, 2*c_hid, kernel_size=3, padding=1, stride=2), # 16x16 => 8x8\n",
        "            nn.BatchNorm2d(2*c_hid),\n",
        "            nn.SiLU(),\n",
        "            nn.Conv2d(2*c_hid, 2*c_hid, kernel_size=3, padding=1),\n",
        "            nn.BatchNorm2d(2*c_hid),\n",
        "            nn.SiLU(),\n",
        "            nn.Conv2d(2*c_hid, 2*c_hid, kernel_size=3, padding=1, stride=2), # 8x8 => 4x4\n",
        "            nn.BatchNorm2d(2*c_hid),\n",
        "            nn.SiLU(),\n",
        "            nn.Flatten(), # Image grid to single feature vector\n",
        "            nn.Linear(2*16*c_hid, output_dim)\n",
        "        )\n",
        "\n",
        "    def forward(self, x):\n",
        "        return self.net(x)"
      ]
    },
    {
      "cell_type": "markdown",
      "metadata": {
        "id": "9DSzYRzZoVYQ"
      },
      "source": [
        "Now that the architecture is described, let's take a closer look at how we train the model. As mentioned before, we want to maximize the similarity between the representations of the two augmented versions of the same image, i.e., $z_i$ and $z_j$ in the figure above, while minimizing it to all other examples in the batch. SimCLR thereby applies the InfoNCE loss, originally proposed by [Aaron van den Oord et al.](https://arxiv.org/abs/1807.03748) for contrastive learning. In short, the InfoNCE loss compares the similarity of $z_i$ and $z_j$ to the similarity of $z_i$ to any other representation in the batch by performing a softmax over the similarity values. The loss can be formally written as:\n",
        "\n",
        "$$\n",
        "\\ell_{i,j}=-\\log \\frac{\\exp(\\text{sim}(z_i,z_j)/\\tau)}{\\sum_{k=1}^{2N}\\mathbb{1}_{[k\\neq i]}\\exp(\\text{sim}(z_i,z_k)/\\tau)}=-\\text{sim}(z_i,z_j)/\\tau+\\log\\left[\\sum_{k=1}^{2N}\\mathbb{1}_{[k\\neq i]}\\exp(\\text{sim}(z_i,z_k)/\\tau)\\right]\n",
        "$$\n",
        "\n",
        "The function $\\text{sim}$ is a similarity metric, and the hyperparameter $\\tau$ is called temperature determining how peaked the distribution is. Since many similarity metrics are bounded, the temperature parameter allows us to balance the influence of many dissimilar image patches versus one similar patch. The similarity metric that is used in SimCLR is cosine similarity, as defined below:\n",
        "\n",
        "$$\n",
        "\\text{sim}(z_i,z_j) = \\frac{z_i^\\top \\cdot z_j}{||z_i||\\cdot||z_j||}\n",
        "$$\n",
        "\n",
        "The maximum cosine similarity possible is $1$, while the minimum is $-1$. In general, we will see that the features of two different images will converge to a cosine similarity around zero since the minimum, $-1$, would require $z_i$ and $z_j$ to be in the exact opposite direction in all feature dimensions, which does not allow for great flexibility.\n",
        "\n",
        "Finally, now that we have discussed all details, let's implement SimCLR below as a PyTorch Lightning module:"
      ]
    },
    {
      "cell_type": "code",
      "execution_count": 62,
      "metadata": {
        "id": "JEB4M58uoVYQ"
      },
      "outputs": [],
      "source": [
        "class SimCLR(pl.LightningModule):\n",
        "\n",
        "    def __init__(self, hidden_dim, lr, temperature, weight_decay, max_epochs=500):\n",
        "        super().__init__()\n",
        "        self.save_hyperparameters()\n",
        "        assert self.hparams.temperature > 0.0, 'The temperature must be a positive float!'\n",
        "        # TODO: Setup the Base Network\n",
        "        # raise NotImplementedError\n",
        "\n",
        "        self.base_encoder = BaseNetwork(num_input_channels=3, c_hid=64, output_dim=hidden_dim)\n",
        "        self.projection_head = nn.Sequential(\n",
        "            nn.Linear(hidden_dim, hidden_dim * 4),\n",
        "            nn.ReLU(),\n",
        "            nn.Linear(hidden_dim * 4, hidden_dim)\n",
        "        )\n",
        "\n",
        "    def forward(self,x):\n",
        "        return self.projection_head(self.base_encoder(x))\n",
        "\n",
        "    def configure_optimizers(self):\n",
        "        optimizer = optim.AdamW(self.parameters(),\n",
        "                                lr=self.hparams.lr,\n",
        "                                weight_decay=self.hparams.weight_decay)\n",
        "        lr_scheduler = optim.lr_scheduler.CosineAnnealingLR(optimizer,\n",
        "                                                            T_max=self.hparams.max_epochs,\n",
        "                                                            eta_min=self.hparams.lr/50)\n",
        "        return [optimizer], [lr_scheduler]\n",
        "\n",
        "    def info_nce_loss(self, batch, mode='train'):\n",
        "        imgs, _ = batch  # we do not need the labels here\n",
        "        # imgs is a list of length 2, where imgs[0][i] and imgs[1][i] are the positive pairs\n",
        "\n",
        "        # TODO: Calculate the contrastive loss of SimCLR. Try to be as efficient as possible\n",
        "        # Hint: if you add imgs into a batch where over dimension 0, you have [imgs[0],imgs[1]],\n",
        "        # the positive pair for an image at position i is always at (i + batch_size) % (2 * batch_size)\n",
        "        # Can you create a mask to find the positive element for each batch element?\n",
        "        # raise NotImplementedError\n",
        "\n",
        "        imgs = torch.cat(imgs, dim=0)\n",
        "\n",
        "        features = self.projection_head(self.base_encoder(imgs))\n",
        "        features = F.normalize(features, dim=1)\n",
        "\n",
        "        # Calculates the batch size by dividing the total number of images (imgs.size(0)) by 2, as each image has an augmented pair.\n",
        "        batch_size = imgs.size(0) // 2\n",
        "\n",
        "        # Creates a tensor labels that represents the positive pairs. For each image in the batch, it assigns a unique label, and the augmented pair of that image gets the same label. This way, the model knows which images are positive pairs.\n",
        "        labels = torch.cat([torch.arange(batch_size) for _ in range(2)], dim=0).to(self.device)\n",
        "        similarity_matrix = torch.matmul(features, features.T)\n",
        "\n",
        "        mask = torch.eye(labels.size(0), dtype=torch.bool).to(self.device)\n",
        "        positives = similarity_matrix[~mask].view(labels.size(0), -1)[range(labels.size(0)), labels]\n",
        "        negatives = similarity_matrix[~mask].view(labels.size(0), -1)\n",
        "\n",
        "        logits = torch.cat([positives.unsqueeze(1), negatives], dim=1)\n",
        "        logits /= self.hparams.temperature\n",
        "\n",
        "        # TODO: Log the loss and the top-1 and top-5 accuracy as how often the most similar image was the positive\n",
        "        # You can also split this part into another function if you prefer\n",
        "        # raise NotImplementedError\n",
        "\n",
        "        loss = F.cross_entropy(logits, torch.zeros(labels.size(0), dtype=torch.long).to(self.device))\n",
        "\n",
        "        with torch.no_grad():\n",
        "            top1 = (logits.argmax(dim=1) == 0).float().mean()\n",
        "            top5 = (logits.topk(5, dim=1).indices == 0).any(dim=1).float().mean()\n",
        "            self.log(f'{mode}_acc_top1', top1, prog_bar=True, on_epoch=True)\n",
        "            self.log(f'{mode}_acc_top5', top5, prog_bar=True, on_epoch=True)\n",
        "\n",
        "        # self.log(mode+'_acc_top1', ...)\n",
        "        # self.log(mode+'_acc_top5', ...)\n",
        "\n",
        "        return loss\n",
        "\n",
        "    def training_step(self, batch, batch_idx):\n",
        "        return self.info_nce_loss(batch, mode='train')\n",
        "\n",
        "    def validation_step(self, batch, batch_idx):\n",
        "        return self.info_nce_loss(batch, mode='val')\n",
        "\n",
        ""
      ]
    },
    {
      "cell_type": "code",
      "execution_count": 78,
      "metadata": {
        "colab": {
          "base_uri": "https://localhost:8080/"
        },
        "id": "CT_xJF49oVYR",
        "outputId": "f541c31f-67f0-4ff4-b9b1-c1cea2352f15"
      },
      "outputs": [
        {
          "output_type": "stream",
          "name": "stdout",
          "text": [
            "INFO-NCE Loss: 2.814196825027466\n"
          ]
        },
        {
          "output_type": "stream",
          "name": "stderr",
          "text": [
            "/home/ehsan/.local/lib/python3.10/site-packages/pytorch_lightning/core/module.py:441: You are trying to `self.log()` but the `self.trainer` reference is not registered on the model yet. This is most likely because the model hasn't been passed to the `Trainer`\n"
          ]
        }
      ],
      "source": [
        "# TODO: Create some test cases yourself to check the INFO-NCE loss and the logging!\n",
        "# raise NotImplementedError\n",
        "\n",
        "def test_info_nce_loss():\n",
        "    model = SimCLR(hidden_dim=128, lr=1e-3, temperature=0.5, weight_decay=1e-4, max_epochs=10)\n",
        "\n",
        "    batch_size = 8\n",
        "    img_size = (3, 32, 32)\n",
        "    imgs1 = torch.randn(batch_size, *img_size)\n",
        "    imgs2 = torch.randn(batch_size, *img_size)\n",
        "    batch = ([imgs1, imgs2], None)\n",
        "\n",
        "    # Forward pass through the model\n",
        "    loss = model.info_nce_loss(batch, mode='test')\n",
        "    print(f\"INFO-NCE Loss: {loss.item()}\")\n",
        "\n",
        "def test_logging():\n",
        "    model = SimCLR(hidden_dim=128, lr=1e-3, temperature=0.5, weight_decay=1e-4, max_epochs=10)\n",
        "\n",
        "    batch_size = 8\n",
        "    img_size = (3, 32, 32)\n",
        "    imgs1 = torch.randn(batch_size, *img_size)\n",
        "    imgs2 = torch.randn(batch_size, *img_size)\n",
        "    batch = ([imgs1, imgs2], None)\n",
        "\n",
        "    # Simulate training step\n",
        "    model.training_step(batch, batch_idx=0)\n",
        "\n",
        "test_info_nce_loss()\n",
        "test_logging()\n"
      ]
    },
    {
      "cell_type": "markdown",
      "metadata": {
        "id": "6Oan8U5zoVYR"
      },
      "source": [
        "Alternatively to performing the validation on the contrastive learning loss as well, we could also take a simple, small downstream task, and track the performance of the base network $f(\\cdot)$ on that. However, in this tutorial, we will restrict ourselves to the STL10 dataset where we use the task of image classification on STL10 as our test task."
      ]
    },
    {
      "cell_type": "markdown",
      "metadata": {
        "id": "rxLMefnnoVYS"
      },
      "source": [
        "### Training\n",
        "\n",
        "Now that we have implemented SimCLR and the data loading pipeline, we are ready to train the model. We will use the same training function setup as usual. For saving the best model checkpoint, we track the metric `val_acc_top5`, which describes how often the correct image patch is within the top-5 most similar examples in the batch. This is usually less noisy than the top-1 metric, making it a better metric to choose the best model from."
      ]
    },
    {
      "cell_type": "code",
      "execution_count": 79,
      "metadata": {
        "id": "lQa8ykqyoVYS"
      },
      "outputs": [],
      "source": [
        "from pytorch_lightning.callbacks import TQDMProgressBar,RichProgressBar\n",
        "def train_simclr(batch_size, max_epochs=500, **kwargs):\n",
        "    root_dir=os.path.join(CHECKPOINT_PATH, 'SimCLR')\n",
        "    trainer = pl.Trainer(default_root_dir=root_dir,\n",
        "                        #  gpus=1 if str(device)=='cuda:0' else 0,\n",
        "                         accelerator=\"auto\",\n",
        "                         max_epochs=max_epochs,\n",
        "                         callbacks=[ModelCheckpoint(save_weights_only=False, mode='max', monitor='val_acc_top5',save_last=True,dirpath=root_dir,),\n",
        "                                    LearningRateMonitor('epoch'),RichProgressBar(),],\n",
        "                         check_val_every_n_epoch=1,\n",
        "                         #log_every_n_steps=1,\n",
        "                         enable_progress_bar=True,\n",
        "    )\n",
        "    trainer.logger._default_hp_metric = None # Optional logging argument that we don't need\n",
        "\n",
        "    # Check whether pretrained model exists. If yes, load it and skip training\n",
        "    pretrained_filename = os.path.join(CHECKPOINT_PATH, 'SimCLR.ckpt')\n",
        "    if os.path.isfile(pretrained_filename):\n",
        "        print(f'Found pretrained model at {pretrained_filename}, loading...')\n",
        "        model = SimCLR.load_from_checkpoint(pretrained_filename) # Automatically loads the model with the saved hyperparameters\n",
        "    else:\n",
        "        # Check if a checkpoint exists\n",
        "        latest_checkpoint = os.path.join(root_dir, \"last.ckpt\")\n",
        "        if os.path.isfile(latest_checkpoint):\n",
        "            print(f\"Found checkpoint at {latest_checkpoint}, resuming training...\")\n",
        "            ckpt_path = latest_checkpoint\n",
        "        else:\n",
        "            print(f\"No checkpoint found at {latest_checkpoint}, starting training from scratch.\")\n",
        "            ckpt_path = None\n",
        "        train_loader = data.DataLoader(unlabeled_data, batch_size=batch_size, shuffle=True,\n",
        "                                       drop_last=True, pin_memory=True, num_workers=NUM_WORKERS)\n",
        "        val_loader = data.DataLoader(train_data_contrast, batch_size=batch_size, shuffle=False,\n",
        "                                     drop_last=False, pin_memory=True, num_workers=NUM_WORKERS)\n",
        "        pl.seed_everything(42) # To be reproducable\n",
        "        model = SimCLR(max_epochs=max_epochs, **kwargs)\n",
        "        trainer.fit(model, train_loader, val_loader,ckpt_path=ckpt_path)\n",
        "        model = SimCLR.load_from_checkpoint(trainer.checkpoint_callback.best_model_path) # Load best checkpoint after training\n",
        "\n",
        "    return model"
      ]
    },
    {
      "cell_type": "markdown",
      "metadata": {
        "id": "Y1Smj_U9oVYT"
      },
      "source": [
        "A common observation in contrastive learning is that the larger the batch size, the better the models perform. A larger batch size allows us to compare each image to more negative examples, leading to overall smoother loss gradients, but a batch size of 256 is sufficient here. Again, for a first run, you can use 10 epochs, but try to increase the number of epochs for a final run."
      ]
    },
    {
      "cell_type": "code",
      "execution_count": null,
      "metadata": {
        "colab": {
          "base_uri": "https://localhost:8080/",
          "height": 472,
          "referenced_widgets": [
            "012e6487c37144b98777b58ef3d073bf",
            "956e1f1bb4e74fd68cb4440b213a2ca1"
          ]
        },
        "id": "jUfaXlWBoVYT",
        "outputId": "55fc2a60-3209-4210-b948-304b43a454a0"
      },
      "outputs": [
        {
          "output_type": "stream",
          "name": "stderr",
          "text": [
            "Trainer will use only 1 of 4 GPUs because it is running inside an interactive / notebook environment. You may try to set `Trainer(devices=4)` but please note that multi-GPU inside interactive / notebook environments is considered experimental and unstable. Your mileage may vary.\n",
            "GPU available: True (cuda), used: True\n",
            "TPU available: False, using: 0 TPU cores\n",
            "HPU available: False, using: 0 HPUs\n",
            "Seed set to 42\n",
            "Restoring states from the checkpoint path at /home/ehsan/saved_models/practical5/SimCLR/last.ckpt\n",
            "LOCAL_RANK: 0 - CUDA_VISIBLE_DEVICES: [0,1,2,3]\n"
          ]
        },
        {
          "output_type": "stream",
          "name": "stdout",
          "text": [
            "Found checkpoint at /home/ehsan/saved_models/practical5/SimCLR/last.ckpt, resuming training...\n"
          ]
        },
        {
          "output_type": "display_data",
          "data": {
            "text/plain": [
              "┏━━━┳━━━━━━━━━━━━━━━━━┳━━━━━━━━━━━━━┳━━━━━━━━┳━━━━━━━┓\n",
              "┃\u001b[1;35m \u001b[0m\u001b[1;35m \u001b[0m\u001b[1;35m \u001b[0m┃\u001b[1;35m \u001b[0m\u001b[1;35mName           \u001b[0m\u001b[1;35m \u001b[0m┃\u001b[1;35m \u001b[0m\u001b[1;35mType       \u001b[0m\u001b[1;35m \u001b[0m┃\u001b[1;35m \u001b[0m\u001b[1;35mParams\u001b[0m\u001b[1;35m \u001b[0m┃\u001b[1;35m \u001b[0m\u001b[1;35mMode \u001b[0m\u001b[1;35m \u001b[0m┃\n",
              "┡━━━╇━━━━━━━━━━━━━━━━━╇━━━━━━━━━━━━━╇━━━━━━━━╇━━━━━━━┩\n",
              "│\u001b[2m \u001b[0m\u001b[2m0\u001b[0m\u001b[2m \u001b[0m│ base_encoder    │ BaseNetwork │  671 K │ train │\n",
              "│\u001b[2m \u001b[0m\u001b[2m1\u001b[0m\u001b[2m \u001b[0m│ projection_head │ Sequential  │  131 K │ train │\n",
              "└───┴─────────────────┴─────────────┴────────┴───────┘\n"
            ],
            "text/html": [
              "<pre style=\"white-space:pre;overflow-x:auto;line-height:normal;font-family:Menlo,'DejaVu Sans Mono',consolas,'Courier New',monospace\">┏━━━┳━━━━━━━━━━━━━━━━━┳━━━━━━━━━━━━━┳━━━━━━━━┳━━━━━━━┓\n",
              "┃<span style=\"color: #800080; text-decoration-color: #800080; font-weight: bold\">   </span>┃<span style=\"color: #800080; text-decoration-color: #800080; font-weight: bold\"> Name            </span>┃<span style=\"color: #800080; text-decoration-color: #800080; font-weight: bold\"> Type        </span>┃<span style=\"color: #800080; text-decoration-color: #800080; font-weight: bold\"> Params </span>┃<span style=\"color: #800080; text-decoration-color: #800080; font-weight: bold\"> Mode  </span>┃\n",
              "┡━━━╇━━━━━━━━━━━━━━━━━╇━━━━━━━━━━━━━╇━━━━━━━━╇━━━━━━━┩\n",
              "│<span style=\"color: #7f7f7f; text-decoration-color: #7f7f7f\"> 0 </span>│ base_encoder    │ BaseNetwork │  671 K │ train │\n",
              "│<span style=\"color: #7f7f7f; text-decoration-color: #7f7f7f\"> 1 </span>│ projection_head │ Sequential  │  131 K │ train │\n",
              "└───┴─────────────────┴─────────────┴────────┴───────┘\n",
              "</pre>\n"
            ]
          },
          "metadata": {}
        },
        {
          "output_type": "display_data",
          "data": {
            "text/plain": [
              "\u001b[1mTrainable params\u001b[0m: 802 K                                                                                            \n",
              "\u001b[1mNon-trainable params\u001b[0m: 0                                                                                            \n",
              "\u001b[1mTotal params\u001b[0m: 802 K                                                                                                \n",
              "\u001b[1mTotal estimated model params size (MB)\u001b[0m: 3                                                                          \n",
              "\u001b[1mModules in train mode\u001b[0m: 23                                                                                          \n",
              "\u001b[1mModules in eval mode\u001b[0m: 0                                                                                            \n"
            ],
            "text/html": [
              "<pre style=\"white-space:pre;overflow-x:auto;line-height:normal;font-family:Menlo,'DejaVu Sans Mono',consolas,'Courier New',monospace\"><span style=\"font-weight: bold\">Trainable params</span>: 802 K                                                                                            \n",
              "<span style=\"font-weight: bold\">Non-trainable params</span>: 0                                                                                            \n",
              "<span style=\"font-weight: bold\">Total params</span>: 802 K                                                                                                \n",
              "<span style=\"font-weight: bold\">Total estimated model params size (MB)</span>: 3                                                                          \n",
              "<span style=\"font-weight: bold\">Modules in train mode</span>: 23                                                                                          \n",
              "<span style=\"font-weight: bold\">Modules in eval mode</span>: 0                                                                                            \n",
              "</pre>\n"
            ]
          },
          "metadata": {}
        },
        {
          "output_type": "stream",
          "name": "stderr",
          "text": [
            "Restored all states from the checkpoint at /home/ehsan/saved_models/practical5/SimCLR/last.ckpt\n"
          ]
        },
        {
          "output_type": "display_data",
          "data": {
            "text/plain": [
              "Output()"
            ],
            "application/vnd.jupyter.widget-view+json": {
              "version_major": 2,
              "version_minor": 0,
              "model_id": "012e6487c37144b98777b58ef3d073bf"
            }
          },
          "metadata": {}
        }
      ],
      "source": [
        "simclr_model = train_simclr(batch_size=256,\n",
        "                            hidden_dim=128,\n",
        "                            lr=5e-4,\n",
        "                            temperature=0.07,\n",
        "                            weight_decay=1e-4,\n",
        "                            max_epochs=100)"
      ]
    },
    {
      "cell_type": "markdown",
      "metadata": {
        "id": "8aJ6C2RJoVYU"
      },
      "source": [
        "To get an intuition of how training with contrastive learning behaves, we can take a look at the TensorBoard below:"
      ]
    },
    {
      "cell_type": "code",
      "source": [
        "if False:\n",
        "    import torch\n",
        "    import pytorch_lightning as pl\n",
        "    from pytorch_lightning.callbacks import TQDMProgressBar\n",
        "    import torch.nn.functional as F\n",
        "    from pytorch_lightning.callbacks import RichProgressBar\n",
        "\n",
        "\n",
        "\n",
        "    class DummyModel(pl.LightningModule):\n",
        "        def __init__(self):\n",
        "            super().__init__()\n",
        "            self.layer = torch.nn.Linear(10, 10)\n",
        "\n",
        "        def forward(self, x):\n",
        "            return self.layer(x)\n",
        "\n",
        "        def training_step(self, batch, batch_idx):\n",
        "            x, y = batch\n",
        "            preds = self(x)\n",
        "            loss = F.mse_loss(preds, y)\n",
        "            self.log(\"train_loss\", loss, prog_bar=True)\n",
        "            #print(f\"Batch {batch_idx} done!\")  # Debug print\n",
        "            return loss\n",
        "        def training_step(self, batch, batch_idx):\n",
        "            x, y = batch\n",
        "            preds = self(x)\n",
        "            loss = F.mse_loss(preds, y)\n",
        "            self.log(\"train_loss\", loss, prog_bar=True)\n",
        "            self.log(\"mean_pred\", preds.mean(), prog_bar=True)  # Log additional parameter: mean of predictions\n",
        "            self.log(\"std_pred\", preds.std(), prog_bar=True)    # Log standard deviation of predictions\n",
        "            return loss\n",
        "\n",
        "        def configure_optimizers(self):\n",
        "            return torch.optim.Adam(self.parameters(), lr=1e-3)\n",
        "\n",
        "    # Generate dummy data\n",
        "    data_x = torch.randn(64, 10)\n",
        "    data_y = torch.randn(64, 10)\n",
        "    dataset = torch.utils.data.TensorDataset(data_x, data_y)\n",
        "    loader = torch.utils.data.DataLoader(dataset, batch_size=8)\n",
        "\n",
        "    model = DummyModel()\n",
        "\n",
        "    trainer = pl.Trainer(\n",
        "        max_epochs=200,\n",
        "        enable_progress_bar=True,\n",
        "        #callbacks=[TQDMProgressBar(refresh_rate=1)],\n",
        "        callbacks=[RichProgressBar()],\n",
        "        log_every_n_steps=1\n",
        "    )\n",
        "\n",
        "\n",
        "\n",
        "    trainer.fit(model, loader)\n"
      ],
      "metadata": {
        "id": "V-NFjVLyLMns"
      },
      "execution_count": null,
      "outputs": []
    },
    {
      "cell_type": "code",
      "execution_count": null,
      "metadata": {
        "id": "w5XKPDAPoVYU"
      },
      "outputs": [],
      "source": [
        "%tensorboard --logdir ../saved_models/practical5/SimCLR/"
      ]
    },
    {
      "cell_type": "markdown",
      "metadata": {
        "id": "2DrLDRyAoVYV"
      },
      "source": [
        "In your report, show the top-1 and top-5 accuracy validation curves. Discuss the overall performance and the training speed. Is the model already converged? What does the final performance of the model imply about the learned feature space?"
      ]
    },
    {
      "cell_type": "markdown",
      "metadata": {
        "id": "c3koD4h8oVYV"
      },
      "source": [
        "## Part 2: Logistic Regression\n",
        "\n",
        "After we have trained our model via contrastive learning, we can deploy it on downstream tasks and see how well it performs with little data. A common setup, which also verifies whether the model has learned generalized representations, is to perform Logistic Regression on the features. In other words, we learn a single, linear layer that maps the representations to a class prediction. Since the base network $f(\\cdot)$ is not changed during the training process, the model can only perform well if the representations of $h$ describe all features that might be necessary for the task. Further, we do not have to worry too much about overfitting since we have very few parameters that are trained. Hence, we might expect that the model can perform well even with very little data.\n",
        "\n",
        "First, let's implement a simple Logistic Regression setup for which we assume that the images already have been encoded in their feature vectors. If very little data is available, it might be beneficial to dynamically encode the images during training so that we can also apply data augmentations. However, the way we implement it here is much more efficient and can be trained within a few seconds. Further, using data augmentations did not show any significant gain in this simple setup."
      ]
    },
    {
      "cell_type": "code",
      "execution_count": null,
      "metadata": {
        "id": "gR4qWGK3oVYV"
      },
      "outputs": [],
      "source": [
        "class LogisticRegression(pl.LightningModule):\n",
        "\n",
        "    def __init__(self, feature_dim, num_classes, lr, weight_decay, max_epochs=100):\n",
        "        super().__init__()\n",
        "        self.save_hyperparameters()\n",
        "        # Mapping from representation h to classes\n",
        "        # TODO: Initialize logistic regression model\n",
        "        # raise NotImplementedError\n",
        "        self.linear = nn.Linear(feature_dim, num_classes)\n",
        "\n",
        "    def configure_optimizers(self):\n",
        "        optimizer = optim.AdamW(self.parameters(),\n",
        "                                lr=self.hparams.lr,\n",
        "                                weight_decay=self.hparams.weight_decay)\n",
        "        lr_scheduler = optim.lr_scheduler.MultiStepLR(optimizer,\n",
        "                                                      milestones=[int(self.hparams.max_epochs*0.6),\n",
        "                                                                  int(self.hparams.max_epochs*0.8)],\n",
        "                                                      gamma=0.1)\n",
        "        return [optimizer], [lr_scheduler]\n",
        "\n",
        "    def _calculate_loss(self, batch, mode='train'):\n",
        "        # TODO: Calculate classification loss for logistic regression model\n",
        "        # raise NotImplementedError\n",
        "        features, labels = batch\n",
        "        logits = self.linear(features)\n",
        "        loss = F.cross_entropy(logits, labels)\n",
        "\n",
        "        with torch.no_grad():\n",
        "            acc = (logits.argmax(dim=1) == labels).float().mean()\n",
        "            self.log(f'{mode}_loss', loss, prog_bar=True)\n",
        "            self.log(f'{mode}_acc', acc, prog_bar=True)\n",
        "        return loss\n",
        "\n",
        "    def training_step(self, batch, batch_idx):\n",
        "        return self._calculate_loss(batch, mode='train')\n",
        "\n",
        "    def validation_step(self, batch, batch_idx):\n",
        "        self._calculate_loss(batch, mode='val')\n",
        "\n",
        "    def test_step(self, batch, batch_idx):\n",
        "        self._calculate_loss(batch, mode='test')"
      ]
    },
    {
      "cell_type": "markdown",
      "metadata": {
        "id": "HpOhbnmkoVYW"
      },
      "source": [
        "The data we use is the training and test set of STL10. The training contains 500 images per class, while the test set has 800 images per class."
      ]
    },
    {
      "cell_type": "code",
      "execution_count": null,
      "metadata": {
        "id": "QtehpgUKoVYW"
      },
      "outputs": [],
      "source": [
        "img_transforms = transforms.Compose([transforms.ToTensor(),\n",
        "                                     transforms.Normalize((0.5,), (0.5,))])\n",
        "\n",
        "train_img_data = STL10(root=DATASET_PATH, split='train', download=True,\n",
        "                       transform=img_transforms)\n",
        "test_img_data = STL10(root=DATASET_PATH, split='test', download=True,\n",
        "                      transform=img_transforms)\n",
        "downscale_dataset(train_img_data)\n",
        "downscale_dataset(test_img_data)\n",
        "\n",
        "print(\"Number of training examples:\", len(train_img_data))\n",
        "print(\"Number of test examples:\", len(test_img_data))"
      ]
    },
    {
      "cell_type": "markdown",
      "metadata": {
        "id": "kjhwXsVNoVYX"
      },
      "source": [
        "Next, we implement a small function to encode all images in our datasets. The output representations are then used as inputs to the Logistic Regression model."
      ]
    },
    {
      "cell_type": "code",
      "execution_count": null,
      "metadata": {
        "id": "N40fCMCloVYX"
      },
      "outputs": [],
      "source": [
        "@torch.no_grad()\n",
        "def prepare_data_features(model, dataset):\n",
        "    # TODO: Obtain the feature representation for all images in the dataset\n",
        "    # raise NotImplementedError\n",
        "\n",
        "    model.eval()\n",
        "    dataloader = data.DataLoader(dataset, batch_size=64, shuffle=False, num_workers=4)\n",
        "    feats, labels = [], []\n",
        "\n",
        "    for imgs, lbls in dataloader:\n",
        "        features = model(imgs.cuda() if torch.cuda.is_available() else imgs)\n",
        "        feats.append(features.cpu())\n",
        "        labels.append(lbls)\n",
        "\n",
        "    feats = torch.cat(feats, dim=0)\n",
        "    labels = torch.cat(labels, dim=0)\n",
        "\n",
        "    # Return a new dataset with the image features and labels\n",
        "    return data.TensorDataset(feats, labels)"
      ]
    },
    {
      "cell_type": "markdown",
      "metadata": {
        "id": "Zr7ESoRioVYY"
      },
      "source": [
        "Let's apply the function to both training and test set below."
      ]
    },
    {
      "cell_type": "code",
      "execution_count": null,
      "metadata": {
        "id": "gTF2ILyooVYY"
      },
      "outputs": [],
      "source": [
        "train_feats_simclr = prepare_data_features(simclr_model, train_img_data)\n",
        "test_feats_simclr = prepare_data_features(simclr_model, test_img_data)"
      ]
    },
    {
      "cell_type": "markdown",
      "metadata": {
        "id": "GQhsacKQoVYZ"
      },
      "source": [
        "Finally, we can write a training function as usual. We evaluate the model on the test set every 10 epochs to allow early stopping, but the low frequency of the validation ensures that we do not overfit too much on the test set."
      ]
    },
    {
      "cell_type": "code",
      "execution_count": null,
      "metadata": {
        "id": "IOoyqAcmoVYZ"
      },
      "outputs": [],
      "source": [
        "def train_logreg(batch_size, train_feats_data, test_feats_data, model_suffix, max_epochs=100, **kwargs):\n",
        "    root_dir=os.path.join(CHECKPOINT_PATH, 'SimCLR')\n",
        "    trainer = pl.Trainer(default_root_dir=root_dir,\n",
        "                        #  gpus=1 if str(device)=='cuda:0' else 0,\n",
        "                         accelerator=\"auto\",\n",
        "                         max_epochs=max_epochs,\n",
        "                         callbacks=[ModelCheckpoint(save_weights_only=False, mode='max', monitor='val_acc_top5',save_last=True,dirpath=root_dir,),\n",
        "                                    LearningRateMonitor('epoch'),RichProgressBar(),],\n",
        "                         check_val_every_n_epoch=1,\n",
        "                         #log_every_n_steps=1,\n",
        "                         enable_progress_bar=True,\n",
        "    )\n",
        "\n",
        "    trainer.logger._default_hp_metric = None\n",
        "\n",
        "    # Data loaders\n",
        "    train_loader = data.DataLoader(train_feats_data, batch_size=batch_size, shuffle=True,\n",
        "                                   drop_last=False, pin_memory=True, num_workers=0)\n",
        "    test_loader = data.DataLoader(test_feats_data, batch_size=batch_size, shuffle=False,\n",
        "                                  drop_last=False, pin_memory=True, num_workers=0)\n",
        "\n",
        "    # Check whether pretrained model exists. If yes, load it and skip training\n",
        "    pretrained_filename = os.path.join(CHECKPOINT_PATH, f\"LogisticRegression_{model_suffix}.ckpt\")\n",
        "    if os.path.isfile(pretrained_filename):\n",
        "        print(f\"Found pretrained model at {pretrained_filename}, loading...\")\n",
        "        model = LogisticRegression.load_from_checkpoint(pretrained_filename)\n",
        "    else:\n",
        "        # Check if a checkpoint exists\n",
        "        latest_checkpoint = os.path.join(root_dir, \"last.ckpt\")\n",
        "        if os.path.isfile(latest_checkpoint):\n",
        "            print(f\"Found checkpoint at {latest_checkpoint}, resuming training...\")\n",
        "            ckpt_path = latest_checkpoint\n",
        "        else:\n",
        "            print(f\"No checkpoint found at {latest_checkpoint}, starting training from scratch.\")\n",
        "            ckpt_path = None\n",
        "        pl.seed_everything(42)  # To be reproducable\n",
        "        model = LogisticRegression(**kwargs)\n",
        "        trainer.fit(model, train_loader, test_loader,ckpt_path=ckpt_path)\n",
        "        model = LogisticRegression.load_from_checkpoint(trainer.checkpoint_callback.best_model_path)\n",
        "\n",
        "    # Test best model on train and validation set\n",
        "    train_result = trainer.test(model, train_loader, verbose=False)\n",
        "    test_result = trainer.test(model, test_loader, verbose=False)\n",
        "    result = {\"train\": train_result[0][\"test_acc\"], \"test\": test_result[0][\"test_acc\"]}\n",
        "\n",
        "    return model, result"
      ]
    },
    {
      "cell_type": "markdown",
      "metadata": {
        "id": "ToAiAYhloVYa"
      },
      "source": [
        "Despite the training dataset of STL10 already only having 500 labeled images per class, we will perform experiments with even smaller datasets. Specifically, we train a Logistic Regression model for datasets with only 10, 20, 50, 100, 200, and all 500 examples per class. This gives us an intuition on how well the representations learned by contrastive learning can be transfered to a image recognition task like this classification. First, let's define a function to create the intended sub-datasets from the full training set:"
      ]
    },
    {
      "cell_type": "code",
      "execution_count": null,
      "metadata": {
        "id": "jSZLd_S-oVYa"
      },
      "outputs": [],
      "source": [
        "def get_smaller_dataset(original_dataset, num_imgs_per_label):\n",
        "    # TODO: Return dataset with the first N images per label\n",
        "    # raise NotImplementedError\n",
        "    return data.TensorDataset(*[t.unflatten(0, (10, -1))[:,:num_imgs_per_label].flatten(0, 1) for t in original_dataset.tensors])"
      ]
    },
    {
      "cell_type": "markdown",
      "metadata": {
        "id": "UCrduUWnoVYb"
      },
      "source": [
        "Next, let's run all models. Despite us training 6 models, this cell could be run within a minute or two without the pretrained models."
      ]
    },
    {
      "cell_type": "code",
      "execution_count": null,
      "metadata": {
        "scrolled": true,
        "id": "chLTgqwMoVYr"
      },
      "outputs": [],
      "source": [
        "# TODO: Run the logistic regression on datasets of 10, 20, 50, 100, 200, and 500 labeled examples\n",
        "# raise NotImplementedError\n",
        "res =  {}\n",
        "for num_samples in [10, 20, 50, 100, 200, 500]:\n",
        "    sub_train_set = get_smaller_dataset(train_feats_simclr, num_samples)\n",
        "    res[num_samples] = train_logreg(batch_size=64, num_classes=10, lr=1e-3, weight_decay=1e-3,\n",
        "                                        train_feats_data=sub_train_set, test_feats_data=test_feats_simclr,\n",
        "                                        model_suffix=num_samples, feature_dim=train_feats_simclr.tensors[0].shape[1], max_epochs=100)\n",
        "    print(f\"Number of samples: {num_samples} - {res[num_samples][1]}\")"
      ]
    },
    {
      "cell_type": "markdown",
      "metadata": {
        "id": "uu9GrJofoVYs"
      },
      "source": [
        "Finally, let's plot the results."
      ]
    },
    {
      "cell_type": "code",
      "execution_count": null,
      "metadata": {
        "id": "GA86HrkhoVYt"
      },
      "outputs": [],
      "source": [
        "# TODO: Plot the results\n",
        "# raise NotImplementedError\n",
        "\n",
        "num_samples = sorted(res.keys())\n",
        "test_acc = [res[k][1][\"test\"] for k in num_samples]\n",
        "\n",
        "fig = plt.figure(figsize=(6,4))\n",
        "plt.plot(num_samples, test_acc, '--', color=\"#000\", marker=\".\", markeredgecolor=\"#000\", markerfacecolor=\"y\", markersize=16)\n",
        "plt.xscale(\"log\")\n",
        "plt.xticks(num_samples, labels=num_samples)\n",
        "plt.title(\"STL10 classification over dataset size\", fontsize=14)\n",
        "plt.xlabel(\"Number of images per class\")\n",
        "plt.ylabel(\"Test accuracy\")\n",
        "plt.minorticks_off()\n",
        "plt.show()\n",
        "\n",
        "for k, score in zip(num_samples, test_acc):\n",
        "    print(f'Test accuracy for {k:3d} images per label: {100*score:4.2f}%')"
      ]
    },
    {
      "cell_type": "markdown",
      "metadata": {
        "id": "E_KnuaeGoVYt"
      },
      "source": [
        "Add the plot in your report and discuss the overall performance as well as the trend you see in the plot. Where do you see the biggest jump in performance? Is the performance already saturating?"
      ]
    },
    {
      "cell_type": "markdown",
      "metadata": {
        "id": "FYkWAQQ_oVYu"
      },
      "source": [
        "## Part 3: Baseline\n",
        "\n",
        "As a baseline to our results above, we will train the BaseNetwork with random initialization on the labeled training set of STL10. The results will give us an indication of the advantages that contrastive learning on unlabeled data has compared to using only supervised training. First, let's implement it below."
      ]
    },
    {
      "cell_type": "code",
      "execution_count": null,
      "metadata": {
        "id": "f-m-DPAyoVYu"
      },
      "outputs": [],
      "source": [
        "class Baseline(pl.LightningModule):\n",
        "\n",
        "    def __init__(self,feature_dim, num_classes, lr, weight_decay, max_epochs=100):\n",
        "        super().__init__()\n",
        "        self.save_hyperparameters()\n",
        "        # TODO: Initialize a base network\n",
        "        # raise NotImplementedError\n",
        "        self.base_encoder = BaseNetwork(3, self.hparams.feature_dim, 4*self.hparams.feature_dim)\n",
        "        self.projection_head = nn.Sequential(nn.ReLU(inplace=True), nn.Linear(4*self.hparams.feature_dim, num_classes))\n",
        "\n",
        "        # self.base_encoder = BaseNetwork(num_input_channels=3, c_hid=64, output_dim=hidden_dim)\n",
        "        # self.projection_head = nn.Sequential(\n",
        "        #     nn.Linear(hidden_dim, hidden_dim * 4),\n",
        "        #     nn.ReLU(),\n",
        "        #     nn.Linear(hidden_dim * 4, hidden_dim)\n",
        "        # )\n",
        "\n",
        "    def forward(self, x):\n",
        "        return self.projection_head(self.base_encoder(x))\n",
        "\n",
        "    def configure_optimizers(self):\n",
        "        optimizer = optim.AdamW(self.parameters(),\n",
        "                                lr=self.hparams.lr,\n",
        "                                weight_decay=self.hparams.weight_decay)\n",
        "        lr_scheduler = optim.lr_scheduler.MultiStepLR(optimizer,\n",
        "                                                      milestones=[int(self.hparams.max_epochs*0.7),\n",
        "                                                                  int(self.hparams.max_epochs*0.9)],\n",
        "                                                      gamma=0.1)\n",
        "        return [optimizer], [lr_scheduler]\n",
        "\n",
        "    def _calculate_loss(self, batch, mode='train'):\n",
        "        # TODO: Calculate classification loss and accuracy\n",
        "        # raise NotImplementedError\n",
        "        imgs, labels = batch\n",
        "        preds = self(imgs)\n",
        "        loss = F.cross_entropy(preds, labels)\n",
        "        acc = (preds.argmax(dim=-1) == labels).float().mean()\n",
        "        self.log(mode + '_loss', loss)\n",
        "        self.log(mode + '_acc', acc)\n",
        "        return loss\n",
        "\n",
        "    def training_step(self, batch, batch_idx):\n",
        "        return self._calculate_loss(batch, mode='train')\n",
        "\n",
        "    def validation_step(self, batch, batch_idx):\n",
        "        self._calculate_loss(batch, mode='val')\n",
        "\n",
        "    def test_step(self, batch, batch_idx):\n",
        "        self._calculate_loss(batch, mode='test')"
      ]
    },
    {
      "cell_type": "markdown",
      "metadata": {
        "id": "wYtmvzSFoVYv"
      },
      "source": [
        "It is clear that the ResNet easily overfits on the training data since its parameter count is more than 1000 times larger than the dataset size. To make the comparison to the contrastive learning models fair, we apply data augmentations similar to the ones we used before: horizontal flip, crop-and-resize, grayscale, and gaussian blur. Color distortions as before are not used because the color distribution of an image showed to be an important feature for the classification. Hence, we observed no noticeable performance gains when adding color distortions to the set of augmentations. Similarly, we restrict the resizing operation before cropping to the max. 125% of its original resolution, instead of 1250% as done in SimCLR. This is because, for classification, the model needs to recognize the full object, while in contrastive learning, we only want to check whether two patches belong to the same image/object. Hence, the chosen augmentations below are overall weaker than in the contrastive learning case."
      ]
    },
    {
      "cell_type": "code",
      "execution_count": null,
      "metadata": {
        "id": "LD8LINO6oVYv"
      },
      "outputs": [],
      "source": [
        "train_transforms = transforms.Compose([transforms.RandomHorizontalFlip(),\n",
        "                                       transforms.RandomResizedCrop(size=32, scale=(0.8, 1.0)),\n",
        "                                       transforms.RandomGrayscale(p=0.2),\n",
        "                                       transforms.GaussianBlur(kernel_size=3, sigma=(0.1, 0.5)),\n",
        "                                       transforms.ToTensor(),\n",
        "                                       transforms.Normalize((0.5,), (0.5,))\n",
        "                                       ])\n",
        "\n",
        "train_img_aug_data = STL10(root=DATASET_PATH, split='train', download=True,\n",
        "                           transform=train_transforms)\n",
        "downscale_dataset(train_img_aug_data)"
      ]
    },
    {
      "cell_type": "markdown",
      "metadata": {
        "id": "jrxbwUNUoVYw"
      },
      "source": [
        "The training function for the ResNet is almost identical to the Logistic Regression setup. Note that we allow the ResNet to perform validation every 2 epochs to also check whether the model overfits strongly in the first iterations or not."
      ]
    },
    {
      "cell_type": "code",
      "execution_count": null,
      "metadata": {
        "id": "TQrOJMRFoVYx"
      },
      "outputs": [],
      "source": [
        "def train_baseline(batch_size, max_epochs=100, **kwargs):\n",
        "    trainer = pl.Trainer(default_root_dir=os.path.join(CHECKPOINT_PATH, \"ResNet\"),\n",
        "                        #  gpus=1 if str(device)==\"cuda:0\" else 0,\n",
        "                         accelerator=\"auto\",\n",
        "                         max_epochs=max_epochs,\n",
        "                         callbacks=[ModelCheckpoint(save_weights_only=True, mode=\"max\", monitor=\"val_acc\"),\n",
        "                                    LearningRateMonitor(\"epoch\")],\n",
        "                        #  progress_bar_refresh_rate=1,\n",
        "                         check_val_every_n_epoch=10)\n",
        "    trainer.logger._default_hp_metric = None\n",
        "\n",
        "    # Data loaders\n",
        "    train_loader = data.DataLoader(train_img_aug_data, batch_size=batch_size, shuffle=True,\n",
        "                                   drop_last=True, pin_memory=True, num_workers=NUM_WORKERS)\n",
        "    test_loader = data.DataLoader(test_img_data, batch_size=batch_size, shuffle=False,\n",
        "                                  drop_last=False, pin_memory=True, num_workers=NUM_WORKERS)\n",
        "\n",
        "    # Check whether pretrained model exists. If yes, load it and skip training\n",
        "    pretrained_filename = os.path.join(CHECKPOINT_PATH, \"ResNet.ckpt\")\n",
        "    if os.path.isfile(pretrained_filename):\n",
        "        print(\"Found pretrained model at %s, loading...\" % pretrained_filename)\n",
        "        model = Baseline.load_from_checkpoint(pretrained_filename)\n",
        "    else:\n",
        "        pl.seed_everything(42) # To be reproducable\n",
        "        model = Baseline(**kwargs)\n",
        "        trainer.fit(model, train_loader, test_loader)\n",
        "        model = Baseline.load_from_checkpoint(trainer.checkpoint_callback.best_model_path)\n",
        "\n",
        "    # Test best model on validation set\n",
        "    train_result = trainer.test(model, train_loader, verbose=False)\n",
        "    val_result = trainer.test(model, test_loader, verbose=False)\n",
        "    result = {\"train\": train_result[0][\"test_acc\"], \"test\": val_result[0][\"test_acc\"]}\n",
        "\n",
        "    return model, result"
      ]
    },
    {
      "cell_type": "markdown",
      "metadata": {
        "id": "GOuhdFzioVYy"
      },
      "source": [
        "Finally, let's train the model and check its results. For a first run, use 10 epochs, but to obtain final results, try to train the model on more epochs."
      ]
    },
    {
      "cell_type": "code",
      "execution_count": null,
      "metadata": {
        "scrolled": true,
        "id": "TViovthooVYy"
      },
      "outputs": [],
      "source": [
        "baseline_model, baseline_result = train_baseline(batch_size=64, feature_dim=128,\n",
        "                                               num_classes=10,\n",
        "                                               lr=1e-3,\n",
        "                                               weight_decay=2e-4,\n",
        "                                               max_epochs=100)"
      ]
    },
    {
      "cell_type": "code",
      "execution_count": null,
      "metadata": {
        "id": "yuKDK_zMoVYz"
      },
      "outputs": [],
      "source": [
        "print(f\"Accuracy on training set: {baseline_result['train']:.2%}\")\n",
        "print(f\"Accuracy on test set: {baseline_result['test']:.2%}\")"
      ]
    },
    {
      "cell_type": "markdown",
      "metadata": {
        "id": "zcqiPGesoVYz"
      },
      "source": [
        "In your report, note the results you have obtained from this baseline and compare it to the logistic regression model in Part 2. What do you see? What do the results imply?"
      ]
    },
    {
      "cell_type": "markdown",
      "metadata": {
        "id": "lKgG5NfUoVY0"
      },
      "source": [
        "## Conclusion\n",
        "\n",
        "In this tutorial, we have discussed self-supervised contrastive learning and implemented SimCLR as an example method. We have applied it to the STL10 dataset and showed that it can learn generalizable representations that we can use to train simple classification models. Besides the discussed hyperparameters, the size of the model seems to be important in contrastive learning as well. If a lot of unlabeled data is available, larger models can achieve much stronger results and come close to their supervised baselines. Further, there are also approaches for combining contrastive and supervised learning, leading to performance gains beyond supervision (see [Khosla et al.](https://arxiv.org/abs/2004.11362)). Moreover, contrastive learning is not the only approach to self-supervised learning that has come up in the last two years and showed great results. Other methods include distillation-based methods like [BYOL](https://arxiv.org/abs/2006.07733) and redundancy reduction techniques like [Barlow Twins](https://arxiv.org/abs/2103.03230). There is a lot more to explore in the self-supervised domain.\n",
        "\n",
        "### References\n",
        "\n",
        "[1] Chen, T., Kornblith, S., Norouzi, M., and Hinton, G. (2020). A simple framework for contrastive learning of visual representations. In International conference on machine learning (pp. 1597-1607). PMLR. ([link](https://arxiv.org/abs/2002.05709))\n",
        "\n",
        "[2] Chen, T., Kornblith, S., Swersky, K., Norouzi, M., and Hinton, G. (2020). Big self-supervised models are strong semi-supervised learners. NeurIPS 2021 ([link](https://arxiv.org/abs/2006.10029)).\n",
        "\n",
        "[3] Oord, A. V. D., Li, Y., and Vinyals, O. (2018). Representation learning with contrastive predictive coding. arXiv preprint arXiv:1807.03748. ([link](https://arxiv.org/abs/1807.03748))\n",
        "\n",
        "[4] Grill, J.B., Strub, F., Altché, F., Tallec, C., Richemond, P.H., Buchatskaya, E., Doersch, C., Pires, B.A., Guo, Z.D., Azar, M.G. and Piot, B. (2020). Bootstrap your own latent: A new approach to self-supervised learning. arXiv preprint arXiv:2006.07733. ([link](https://arxiv.org/abs/2006.07733))\n",
        "\n",
        "[5] Khosla, P., Teterwak, P., Wang, C., Sarna, A., Tian, Y., Isola, P., Maschinot, A., Liu, C. and Krishnan, D. (2020). Supervised contrastive learning. arXiv preprint arXiv:2004.11362. ([link](https://arxiv.org/abs/2004.11362))\n",
        "\n",
        "[6] Zbontar, J., Jing, L., Misra, I., LeCun, Y. and Deny, S. (2021). Barlow twins: Self-supervised learning via redundancy reduction. arXiv preprint arXiv:2103.03230. ([link](https://arxiv.org/abs/2103.03230))"
      ]
    }
  ],
  "metadata": {
    "kernelspec": {
      "display_name": "Python 3",
      "name": "python3"
    },
    "language_info": {
      "codemirror_mode": {
        "name": "ipython",
        "version": 3
      },
      "file_extension": ".py",
      "mimetype": "text/x-python",
      "name": "python",
      "nbconvert_exporter": "python",
      "pygments_lexer": "ipython3",
      "version": "3.9.7"
    },
    "colab": {
      "provenance": [],
      "gpuType": "T4"
    },
    "accelerator": "GPU",
    "widgets": {
      "application/vnd.jupyter.widget-state+json": {
        "5208a60893e141308f352fd5bd6b4adf": {
          "model_module": "@jupyter-widgets/controls",
          "model_name": "HBoxModel",
          "model_module_version": "2.0.0",
          "state": {
            "_dom_classes": [],
            "_model_module": "@jupyter-widgets/controls",
            "_model_module_version": "2.0.0",
            "_model_name": "HBoxModel",
            "_view_count": null,
            "_view_module": "@jupyter-widgets/controls",
            "_view_module_version": "2.0.0",
            "_view_name": "HBoxView",
            "box_style": "",
            "children": [
              "IPY_MODEL_1481941ff168400fa51ed90c7e548761",
              "IPY_MODEL_114c35fe10bb40ccb13b58e130bd76a3",
              "IPY_MODEL_7b18ffbdb88e449c8eb47c91e6742550"
            ],
            "layout": "IPY_MODEL_0936327227f14d23a00d47d0b5145bab",
            "tabbable": null,
            "tooltip": null
          }
        },
        "1481941ff168400fa51ed90c7e548761": {
          "model_module": "@jupyter-widgets/controls",
          "model_name": "HTMLModel",
          "model_module_version": "2.0.0",
          "state": {
            "_dom_classes": [],
            "_model_module": "@jupyter-widgets/controls",
            "_model_module_version": "2.0.0",
            "_model_name": "HTMLModel",
            "_view_count": null,
            "_view_module": "@jupyter-widgets/controls",
            "_view_module_version": "2.0.0",
            "_view_name": "HTMLView",
            "description": "",
            "description_allow_html": false,
            "layout": "IPY_MODEL_98025d77115e406ea94f0930180a4178",
            "placeholder": "​",
            "style": "IPY_MODEL_58eeb5e606a044038382e781ae8a5f30",
            "tabbable": null,
            "tooltip": null,
            "value": "100%"
          }
        },
        "114c35fe10bb40ccb13b58e130bd76a3": {
          "model_module": "@jupyter-widgets/controls",
          "model_name": "FloatProgressModel",
          "model_module_version": "2.0.0",
          "state": {
            "_dom_classes": [],
            "_model_module": "@jupyter-widgets/controls",
            "_model_module_version": "2.0.0",
            "_model_name": "FloatProgressModel",
            "_view_count": null,
            "_view_module": "@jupyter-widgets/controls",
            "_view_module_version": "2.0.0",
            "_view_name": "ProgressView",
            "bar_style": "success",
            "description": "",
            "description_allow_html": false,
            "layout": "IPY_MODEL_3e56981f885f438db9d0ee2ff426dd0f",
            "max": 1000,
            "min": 0,
            "orientation": "horizontal",
            "style": "IPY_MODEL_b35cc8fd735a42dd99fe6a63dada25e4",
            "tabbable": null,
            "tooltip": null,
            "value": 1000
          }
        },
        "7b18ffbdb88e449c8eb47c91e6742550": {
          "model_module": "@jupyter-widgets/controls",
          "model_name": "HTMLModel",
          "model_module_version": "2.0.0",
          "state": {
            "_dom_classes": [],
            "_model_module": "@jupyter-widgets/controls",
            "_model_module_version": "2.0.0",
            "_model_name": "HTMLModel",
            "_view_count": null,
            "_view_module": "@jupyter-widgets/controls",
            "_view_module_version": "2.0.0",
            "_view_name": "HTMLView",
            "description": "",
            "description_allow_html": false,
            "layout": "IPY_MODEL_22a70857813a4f6481b6297763afe5fb",
            "placeholder": "​",
            "style": "IPY_MODEL_67ebc303937e4f0d95fcd11be558de0e",
            "tabbable": null,
            "tooltip": null,
            "value": " 1000/1000 [00:01&lt;00:00, 851.46it/s]"
          }
        },
        "0936327227f14d23a00d47d0b5145bab": {
          "model_module": "@jupyter-widgets/base",
          "model_name": "LayoutModel",
          "model_module_version": "2.0.0",
          "state": {
            "_model_module": "@jupyter-widgets/base",
            "_model_module_version": "2.0.0",
            "_model_name": "LayoutModel",
            "_view_count": null,
            "_view_module": "@jupyter-widgets/base",
            "_view_module_version": "2.0.0",
            "_view_name": "LayoutView",
            "align_content": null,
            "align_items": null,
            "align_self": null,
            "border_bottom": null,
            "border_left": null,
            "border_right": null,
            "border_top": null,
            "bottom": null,
            "display": null,
            "flex": null,
            "flex_flow": null,
            "grid_area": null,
            "grid_auto_columns": null,
            "grid_auto_flow": null,
            "grid_auto_rows": null,
            "grid_column": null,
            "grid_gap": null,
            "grid_row": null,
            "grid_template_areas": null,
            "grid_template_columns": null,
            "grid_template_rows": null,
            "height": null,
            "justify_content": null,
            "justify_items": null,
            "left": null,
            "margin": null,
            "max_height": null,
            "max_width": null,
            "min_height": null,
            "min_width": null,
            "object_fit": null,
            "object_position": null,
            "order": null,
            "overflow": null,
            "padding": null,
            "right": null,
            "top": null,
            "visibility": null,
            "width": null
          }
        },
        "98025d77115e406ea94f0930180a4178": {
          "model_module": "@jupyter-widgets/base",
          "model_name": "LayoutModel",
          "model_module_version": "2.0.0",
          "state": {
            "_model_module": "@jupyter-widgets/base",
            "_model_module_version": "2.0.0",
            "_model_name": "LayoutModel",
            "_view_count": null,
            "_view_module": "@jupyter-widgets/base",
            "_view_module_version": "2.0.0",
            "_view_name": "LayoutView",
            "align_content": null,
            "align_items": null,
            "align_self": null,
            "border_bottom": null,
            "border_left": null,
            "border_right": null,
            "border_top": null,
            "bottom": null,
            "display": null,
            "flex": null,
            "flex_flow": null,
            "grid_area": null,
            "grid_auto_columns": null,
            "grid_auto_flow": null,
            "grid_auto_rows": null,
            "grid_column": null,
            "grid_gap": null,
            "grid_row": null,
            "grid_template_areas": null,
            "grid_template_columns": null,
            "grid_template_rows": null,
            "height": null,
            "justify_content": null,
            "justify_items": null,
            "left": null,
            "margin": null,
            "max_height": null,
            "max_width": null,
            "min_height": null,
            "min_width": null,
            "object_fit": null,
            "object_position": null,
            "order": null,
            "overflow": null,
            "padding": null,
            "right": null,
            "top": null,
            "visibility": null,
            "width": null
          }
        },
        "58eeb5e606a044038382e781ae8a5f30": {
          "model_module": "@jupyter-widgets/controls",
          "model_name": "HTMLStyleModel",
          "model_module_version": "2.0.0",
          "state": {
            "_model_module": "@jupyter-widgets/controls",
            "_model_module_version": "2.0.0",
            "_model_name": "HTMLStyleModel",
            "_view_count": null,
            "_view_module": "@jupyter-widgets/base",
            "_view_module_version": "2.0.0",
            "_view_name": "StyleView",
            "background": null,
            "description_width": "",
            "font_size": null,
            "text_color": null
          }
        },
        "3e56981f885f438db9d0ee2ff426dd0f": {
          "model_module": "@jupyter-widgets/base",
          "model_name": "LayoutModel",
          "model_module_version": "2.0.0",
          "state": {
            "_model_module": "@jupyter-widgets/base",
            "_model_module_version": "2.0.0",
            "_model_name": "LayoutModel",
            "_view_count": null,
            "_view_module": "@jupyter-widgets/base",
            "_view_module_version": "2.0.0",
            "_view_name": "LayoutView",
            "align_content": null,
            "align_items": null,
            "align_self": null,
            "border_bottom": null,
            "border_left": null,
            "border_right": null,
            "border_top": null,
            "bottom": null,
            "display": null,
            "flex": null,
            "flex_flow": null,
            "grid_area": null,
            "grid_auto_columns": null,
            "grid_auto_flow": null,
            "grid_auto_rows": null,
            "grid_column": null,
            "grid_gap": null,
            "grid_row": null,
            "grid_template_areas": null,
            "grid_template_columns": null,
            "grid_template_rows": null,
            "height": null,
            "justify_content": null,
            "justify_items": null,
            "left": null,
            "margin": null,
            "max_height": null,
            "max_width": null,
            "min_height": null,
            "min_width": null,
            "object_fit": null,
            "object_position": null,
            "order": null,
            "overflow": null,
            "padding": null,
            "right": null,
            "top": null,
            "visibility": null,
            "width": null
          }
        },
        "b35cc8fd735a42dd99fe6a63dada25e4": {
          "model_module": "@jupyter-widgets/controls",
          "model_name": "ProgressStyleModel",
          "model_module_version": "2.0.0",
          "state": {
            "_model_module": "@jupyter-widgets/controls",
            "_model_module_version": "2.0.0",
            "_model_name": "ProgressStyleModel",
            "_view_count": null,
            "_view_module": "@jupyter-widgets/base",
            "_view_module_version": "2.0.0",
            "_view_name": "StyleView",
            "bar_color": null,
            "description_width": ""
          }
        },
        "22a70857813a4f6481b6297763afe5fb": {
          "model_module": "@jupyter-widgets/base",
          "model_name": "LayoutModel",
          "model_module_version": "2.0.0",
          "state": {
            "_model_module": "@jupyter-widgets/base",
            "_model_module_version": "2.0.0",
            "_model_name": "LayoutModel",
            "_view_count": null,
            "_view_module": "@jupyter-widgets/base",
            "_view_module_version": "2.0.0",
            "_view_name": "LayoutView",
            "align_content": null,
            "align_items": null,
            "align_self": null,
            "border_bottom": null,
            "border_left": null,
            "border_right": null,
            "border_top": null,
            "bottom": null,
            "display": null,
            "flex": null,
            "flex_flow": null,
            "grid_area": null,
            "grid_auto_columns": null,
            "grid_auto_flow": null,
            "grid_auto_rows": null,
            "grid_column": null,
            "grid_gap": null,
            "grid_row": null,
            "grid_template_areas": null,
            "grid_template_columns": null,
            "grid_template_rows": null,
            "height": null,
            "justify_content": null,
            "justify_items": null,
            "left": null,
            "margin": null,
            "max_height": null,
            "max_width": null,
            "min_height": null,
            "min_width": null,
            "object_fit": null,
            "object_position": null,
            "order": null,
            "overflow": null,
            "padding": null,
            "right": null,
            "top": null,
            "visibility": null,
            "width": null
          }
        },
        "67ebc303937e4f0d95fcd11be558de0e": {
          "model_module": "@jupyter-widgets/controls",
          "model_name": "HTMLStyleModel",
          "model_module_version": "2.0.0",
          "state": {
            "_model_module": "@jupyter-widgets/controls",
            "_model_module_version": "2.0.0",
            "_model_name": "HTMLStyleModel",
            "_view_count": null,
            "_view_module": "@jupyter-widgets/base",
            "_view_module_version": "2.0.0",
            "_view_name": "StyleView",
            "background": null,
            "description_width": "",
            "font_size": null,
            "text_color": null
          }
        },
        "10ec4f66665c4e29bbfc6335b344eabf": {
          "model_module": "@jupyter-widgets/controls",
          "model_name": "HBoxModel",
          "model_module_version": "2.0.0",
          "state": {
            "_dom_classes": [],
            "_model_module": "@jupyter-widgets/controls",
            "_model_module_version": "2.0.0",
            "_model_name": "HBoxModel",
            "_view_count": null,
            "_view_module": "@jupyter-widgets/controls",
            "_view_module_version": "2.0.0",
            "_view_name": "HBoxView",
            "box_style": "",
            "children": [
              "IPY_MODEL_084ba1a8fd0140858fd6077db744baf2",
              "IPY_MODEL_3bd72d12b58e488cb38cb52776c8a424",
              "IPY_MODEL_b5bbef4a41d5489da7091e52e0862d0a"
            ],
            "layout": "IPY_MODEL_19b0112788bb4f409b7dad7de27aacf7",
            "tabbable": null,
            "tooltip": null
          }
        },
        "084ba1a8fd0140858fd6077db744baf2": {
          "model_module": "@jupyter-widgets/controls",
          "model_name": "HTMLModel",
          "model_module_version": "2.0.0",
          "state": {
            "_dom_classes": [],
            "_model_module": "@jupyter-widgets/controls",
            "_model_module_version": "2.0.0",
            "_model_name": "HTMLModel",
            "_view_count": null,
            "_view_module": "@jupyter-widgets/controls",
            "_view_module_version": "2.0.0",
            "_view_name": "HTMLView",
            "description": "",
            "description_allow_html": false,
            "layout": "IPY_MODEL_00b0b806ccf84ca58b302765980a03a2",
            "placeholder": "​",
            "style": "IPY_MODEL_81997f19567a43398e0062cf3856bae9",
            "tabbable": null,
            "tooltip": null,
            "value": "100%"
          }
        },
        "3bd72d12b58e488cb38cb52776c8a424": {
          "model_module": "@jupyter-widgets/controls",
          "model_name": "FloatProgressModel",
          "model_module_version": "2.0.0",
          "state": {
            "_dom_classes": [],
            "_model_module": "@jupyter-widgets/controls",
            "_model_module_version": "2.0.0",
            "_model_name": "FloatProgressModel",
            "_view_count": null,
            "_view_module": "@jupyter-widgets/controls",
            "_view_module_version": "2.0.0",
            "_view_name": "ProgressView",
            "bar_style": "success",
            "description": "",
            "description_allow_html": false,
            "layout": "IPY_MODEL_a635e90d6d904293a8590ea3e420f8b6",
            "max": 50,
            "min": 0,
            "orientation": "horizontal",
            "style": "IPY_MODEL_0825c62bac56424189cb97f4d48d625d",
            "tabbable": null,
            "tooltip": null,
            "value": 50
          }
        },
        "b5bbef4a41d5489da7091e52e0862d0a": {
          "model_module": "@jupyter-widgets/controls",
          "model_name": "HTMLModel",
          "model_module_version": "2.0.0",
          "state": {
            "_dom_classes": [],
            "_model_module": "@jupyter-widgets/controls",
            "_model_module_version": "2.0.0",
            "_model_name": "HTMLModel",
            "_view_count": null,
            "_view_module": "@jupyter-widgets/controls",
            "_view_module_version": "2.0.0",
            "_view_name": "HTMLView",
            "description": "",
            "description_allow_html": false,
            "layout": "IPY_MODEL_19bba2f09cf146cb833ead0c289c6016",
            "placeholder": "​",
            "style": "IPY_MODEL_d7b9fefe7f814eafb88144e56b37f9d3",
            "tabbable": null,
            "tooltip": null,
            "value": " 50/50 [00:00&lt;00:00, 684.56it/s]"
          }
        },
        "19b0112788bb4f409b7dad7de27aacf7": {
          "model_module": "@jupyter-widgets/base",
          "model_name": "LayoutModel",
          "model_module_version": "2.0.0",
          "state": {
            "_model_module": "@jupyter-widgets/base",
            "_model_module_version": "2.0.0",
            "_model_name": "LayoutModel",
            "_view_count": null,
            "_view_module": "@jupyter-widgets/base",
            "_view_module_version": "2.0.0",
            "_view_name": "LayoutView",
            "align_content": null,
            "align_items": null,
            "align_self": null,
            "border_bottom": null,
            "border_left": null,
            "border_right": null,
            "border_top": null,
            "bottom": null,
            "display": null,
            "flex": null,
            "flex_flow": null,
            "grid_area": null,
            "grid_auto_columns": null,
            "grid_auto_flow": null,
            "grid_auto_rows": null,
            "grid_column": null,
            "grid_gap": null,
            "grid_row": null,
            "grid_template_areas": null,
            "grid_template_columns": null,
            "grid_template_rows": null,
            "height": null,
            "justify_content": null,
            "justify_items": null,
            "left": null,
            "margin": null,
            "max_height": null,
            "max_width": null,
            "min_height": null,
            "min_width": null,
            "object_fit": null,
            "object_position": null,
            "order": null,
            "overflow": null,
            "padding": null,
            "right": null,
            "top": null,
            "visibility": null,
            "width": null
          }
        },
        "00b0b806ccf84ca58b302765980a03a2": {
          "model_module": "@jupyter-widgets/base",
          "model_name": "LayoutModel",
          "model_module_version": "2.0.0",
          "state": {
            "_model_module": "@jupyter-widgets/base",
            "_model_module_version": "2.0.0",
            "_model_name": "LayoutModel",
            "_view_count": null,
            "_view_module": "@jupyter-widgets/base",
            "_view_module_version": "2.0.0",
            "_view_name": "LayoutView",
            "align_content": null,
            "align_items": null,
            "align_self": null,
            "border_bottom": null,
            "border_left": null,
            "border_right": null,
            "border_top": null,
            "bottom": null,
            "display": null,
            "flex": null,
            "flex_flow": null,
            "grid_area": null,
            "grid_auto_columns": null,
            "grid_auto_flow": null,
            "grid_auto_rows": null,
            "grid_column": null,
            "grid_gap": null,
            "grid_row": null,
            "grid_template_areas": null,
            "grid_template_columns": null,
            "grid_template_rows": null,
            "height": null,
            "justify_content": null,
            "justify_items": null,
            "left": null,
            "margin": null,
            "max_height": null,
            "max_width": null,
            "min_height": null,
            "min_width": null,
            "object_fit": null,
            "object_position": null,
            "order": null,
            "overflow": null,
            "padding": null,
            "right": null,
            "top": null,
            "visibility": null,
            "width": null
          }
        },
        "81997f19567a43398e0062cf3856bae9": {
          "model_module": "@jupyter-widgets/controls",
          "model_name": "HTMLStyleModel",
          "model_module_version": "2.0.0",
          "state": {
            "_model_module": "@jupyter-widgets/controls",
            "_model_module_version": "2.0.0",
            "_model_name": "HTMLStyleModel",
            "_view_count": null,
            "_view_module": "@jupyter-widgets/base",
            "_view_module_version": "2.0.0",
            "_view_name": "StyleView",
            "background": null,
            "description_width": "",
            "font_size": null,
            "text_color": null
          }
        },
        "a635e90d6d904293a8590ea3e420f8b6": {
          "model_module": "@jupyter-widgets/base",
          "model_name": "LayoutModel",
          "model_module_version": "2.0.0",
          "state": {
            "_model_module": "@jupyter-widgets/base",
            "_model_module_version": "2.0.0",
            "_model_name": "LayoutModel",
            "_view_count": null,
            "_view_module": "@jupyter-widgets/base",
            "_view_module_version": "2.0.0",
            "_view_name": "LayoutView",
            "align_content": null,
            "align_items": null,
            "align_self": null,
            "border_bottom": null,
            "border_left": null,
            "border_right": null,
            "border_top": null,
            "bottom": null,
            "display": null,
            "flex": null,
            "flex_flow": null,
            "grid_area": null,
            "grid_auto_columns": null,
            "grid_auto_flow": null,
            "grid_auto_rows": null,
            "grid_column": null,
            "grid_gap": null,
            "grid_row": null,
            "grid_template_areas": null,
            "grid_template_columns": null,
            "grid_template_rows": null,
            "height": null,
            "justify_content": null,
            "justify_items": null,
            "left": null,
            "margin": null,
            "max_height": null,
            "max_width": null,
            "min_height": null,
            "min_width": null,
            "object_fit": null,
            "object_position": null,
            "order": null,
            "overflow": null,
            "padding": null,
            "right": null,
            "top": null,
            "visibility": null,
            "width": null
          }
        },
        "0825c62bac56424189cb97f4d48d625d": {
          "model_module": "@jupyter-widgets/controls",
          "model_name": "ProgressStyleModel",
          "model_module_version": "2.0.0",
          "state": {
            "_model_module": "@jupyter-widgets/controls",
            "_model_module_version": "2.0.0",
            "_model_name": "ProgressStyleModel",
            "_view_count": null,
            "_view_module": "@jupyter-widgets/base",
            "_view_module_version": "2.0.0",
            "_view_name": "StyleView",
            "bar_color": null,
            "description_width": ""
          }
        },
        "19bba2f09cf146cb833ead0c289c6016": {
          "model_module": "@jupyter-widgets/base",
          "model_name": "LayoutModel",
          "model_module_version": "2.0.0",
          "state": {
            "_model_module": "@jupyter-widgets/base",
            "_model_module_version": "2.0.0",
            "_model_name": "LayoutModel",
            "_view_count": null,
            "_view_module": "@jupyter-widgets/base",
            "_view_module_version": "2.0.0",
            "_view_name": "LayoutView",
            "align_content": null,
            "align_items": null,
            "align_self": null,
            "border_bottom": null,
            "border_left": null,
            "border_right": null,
            "border_top": null,
            "bottom": null,
            "display": null,
            "flex": null,
            "flex_flow": null,
            "grid_area": null,
            "grid_auto_columns": null,
            "grid_auto_flow": null,
            "grid_auto_rows": null,
            "grid_column": null,
            "grid_gap": null,
            "grid_row": null,
            "grid_template_areas": null,
            "grid_template_columns": null,
            "grid_template_rows": null,
            "height": null,
            "justify_content": null,
            "justify_items": null,
            "left": null,
            "margin": null,
            "max_height": null,
            "max_width": null,
            "min_height": null,
            "min_width": null,
            "object_fit": null,
            "object_position": null,
            "order": null,
            "overflow": null,
            "padding": null,
            "right": null,
            "top": null,
            "visibility": null,
            "width": null
          }
        },
        "d7b9fefe7f814eafb88144e56b37f9d3": {
          "model_module": "@jupyter-widgets/controls",
          "model_name": "HTMLStyleModel",
          "model_module_version": "2.0.0",
          "state": {
            "_model_module": "@jupyter-widgets/controls",
            "_model_module_version": "2.0.0",
            "_model_name": "HTMLStyleModel",
            "_view_count": null,
            "_view_module": "@jupyter-widgets/base",
            "_view_module_version": "2.0.0",
            "_view_name": "StyleView",
            "background": null,
            "description_width": "",
            "font_size": null,
            "text_color": null
          }
        },
        "012e6487c37144b98777b58ef3d073bf": {
          "model_module": "@jupyter-widgets/output",
          "model_name": "OutputModel",
          "model_module_version": "1.0.0",
          "state": {
            "_dom_classes": [],
            "_model_module": "@jupyter-widgets/output",
            "_model_module_version": "1.0.0",
            "_model_name": "OutputModel",
            "_view_count": null,
            "_view_module": "@jupyter-widgets/output",
            "_view_module_version": "1.0.0",
            "_view_name": "OutputView",
            "layout": "IPY_MODEL_956e1f1bb4e74fd68cb4440b213a2ca1",
            "msg_id": "",
            "outputs": [
              {
                "output_type": "display_data",
                "data": {
                  "text/plain": "Epoch 12/99 \u001b[38;2;98;6;224m━━━━━━━━━━━━━\u001b[0m\u001b[38;2;98;6;224m╸\u001b[0m\u001b[38;5;237m━━━━━━━━━━━━━━━━━━\u001b[0m 166/390 \u001b[2m0:00:12 • 0:00:16\u001b[0m \u001b[2;4m14.59it/s\u001b[0m \u001b[3mv_num: 1.000 train_acc_top1_step: \u001b[0m\n                                                                                 \u001b[3m0.369 train_acc_top5_step: 0.438  \u001b[0m\n                                                                                 \u001b[3mval_acc_top1: 0.365 val_acc_top5: \u001b[0m\n                                                                                 \u001b[3m0.436 train_acc_top1_epoch: 0.367 \u001b[0m\n                                                                                 \u001b[3mtrain_acc_top5_epoch: 0.439       \u001b[0m\n",
                  "text/html": "<pre style=\"white-space:pre;overflow-x:auto;line-height:normal;font-family:Menlo,'DejaVu Sans Mono',consolas,'Courier New',monospace\">Epoch 12/99 <span style=\"color: #6206e0; text-decoration-color: #6206e0\">━━━━━━━━━━━━━╸</span><span style=\"color: #3a3a3a; text-decoration-color: #3a3a3a\">━━━━━━━━━━━━━━━━━━</span> 166/390 <span style=\"color: #7f7f7f; text-decoration-color: #7f7f7f\">0:00:12 • 0:00:16</span> <span style=\"color: #7f7f7f; text-decoration-color: #7f7f7f; text-decoration: underline\">14.59it/s</span> <span style=\"font-style: italic\">v_num: 1.000 train_acc_top1_step: </span>\n                                                                                 <span style=\"font-style: italic\">0.369 train_acc_top5_step: 0.438  </span>\n                                                                                 <span style=\"font-style: italic\">val_acc_top1: 0.365 val_acc_top5: </span>\n                                                                                 <span style=\"font-style: italic\">0.436 train_acc_top1_epoch: 0.367 </span>\n                                                                                 <span style=\"font-style: italic\">train_acc_top5_epoch: 0.439       </span>\n</pre>\n"
                },
                "metadata": {}
              }
            ],
            "tabbable": null,
            "tooltip": null
          }
        },
        "956e1f1bb4e74fd68cb4440b213a2ca1": {
          "model_module": "@jupyter-widgets/base",
          "model_name": "LayoutModel",
          "model_module_version": "2.0.0",
          "state": {
            "_model_module": "@jupyter-widgets/base",
            "_model_module_version": "2.0.0",
            "_model_name": "LayoutModel",
            "_view_count": null,
            "_view_module": "@jupyter-widgets/base",
            "_view_module_version": "2.0.0",
            "_view_name": "LayoutView",
            "align_content": null,
            "align_items": null,
            "align_self": null,
            "border_bottom": null,
            "border_left": null,
            "border_right": null,
            "border_top": null,
            "bottom": null,
            "display": null,
            "flex": null,
            "flex_flow": null,
            "grid_area": null,
            "grid_auto_columns": null,
            "grid_auto_flow": null,
            "grid_auto_rows": null,
            "grid_column": null,
            "grid_gap": null,
            "grid_row": null,
            "grid_template_areas": null,
            "grid_template_columns": null,
            "grid_template_rows": null,
            "height": null,
            "justify_content": null,
            "justify_items": null,
            "left": null,
            "margin": null,
            "max_height": null,
            "max_width": null,
            "min_height": null,
            "min_width": null,
            "object_fit": null,
            "object_position": null,
            "order": null,
            "overflow": null,
            "padding": null,
            "right": null,
            "top": null,
            "visibility": null,
            "width": null
          }
        }
      }
    }
  },
  "nbformat": 4,
  "nbformat_minor": 0
}