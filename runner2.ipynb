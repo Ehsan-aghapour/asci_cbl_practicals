{
 "cells": [
  {
   "cell_type": "code",
   "execution_count": null,
   "id": "a5880363",
   "metadata": {},
   "outputs": [],
   "source": [
    "import os"
   ]
  },
  {
   "cell_type": "code",
   "execution_count": null,
   "id": "1eef16b3",
   "metadata": {},
   "outputs": [],
   "source": [
    "# Specify the notebook and session details\n",
    "notebook_name = \"your_notebook.ipynb\"  # Replace with your notebook name\n",
    "script_name = notebook_name.replace(\".ipynb\", \".py\")\n",
    "session_name = \"my_session_name\"\n",
    "log_file = \"my_session_log.txt\""
   ]
  },
  {
   "cell_type": "code",
   "execution_count": null,
   "id": "f865c5b3",
   "metadata": {},
   "outputs": [],
   "source": [
    "# Step 1: Convert .ipynb to .py\n",
    "print(\"Converting notebook to script...\")\n",
    "os.system(f\"jupyter nbconvert --to script {notebook_name}\")\n",
    "print(f\"Converted {notebook_name} to {script_name}\")"
   ]
  },
  {
   "cell_type": "code",
   "execution_count": null,
   "id": "9f406aa5",
   "metadata": {},
   "outputs": [],
   "source": [
    "# Step 2: Run the script in a screen session\n",
    "print(f\"Starting script '{script_name}' in a screen session...\")\n",
    "os.system(f\"screen -dmS {session_name} bash -c 'python3 {script_name}; exec bash'\")\n",
    "print(f\"Script is running in screen session '{session_name}'\")"
   ]
  },
  {
   "cell_type": "code",
   "execution_count": null,
   "id": "e03b65f0",
   "metadata": {},
   "outputs": [],
   "source": [
    "# Optional Step 3: Monitor the screen session\n",
    "print(f\"Saving screen output to log file '{log_file}'...\")\n",
    "os.system(f\"screen -S {session_name} -X hardcopy {log_file}\")\n",
    "print(f\"Screen session log saved to {log_file}\")"
   ]
  },
  {
   "cell_type": "markdown",
   "id": "9c5dc706",
   "metadata": {
    "lines_to_next_cell": 2
   },
   "source": [
    "Optional Step 4: Stop the screen session (if needed)\n",
    "Uncomment to stop the session\n",
    "os.system(f\"screen -S {session_name} -X quit\")\n",
    "print(f\"Screen session '{session_name}' stopped\")"
   ]
  }
 ],
 "metadata": {
  "jupytext": {
   "cell_metadata_filter": "-all",
   "main_language": "python",
   "notebook_metadata_filter": "-all"
  }
 },
 "nbformat": 4,
 "nbformat_minor": 5
}
